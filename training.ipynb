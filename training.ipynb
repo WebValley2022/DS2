{
 "cells": [
  {
   "cell_type": "code",
   "execution_count": 291,
   "metadata": {},
   "outputs": [],
   "source": [
    "import pandas as pd\n",
    "import numpy as np\n",
    "from matplotlib import pyplot as plt\n",
    "from tqdm import tqdm\n",
    "import time\n",
    "import torch\n",
    "import torch.nn as nn\n",
    "import torch.nn.functional as F\n",
    "device = T.device(\"mps\")"
   ]
  },
  {
   "cell_type": "code",
   "execution_count": 9,
   "metadata": {},
   "outputs": [],
   "source": [
    "appa_hours = pd.read_csv(\"exports/appa_hr_crop_withCreated.csv\")"
   ]
  },
  {
   "cell_type": "code",
   "execution_count": 34,
   "metadata": {},
   "outputs": [],
   "source": [
    "appa_hours = appa_hours[['ZnOR_1', 'ZnOR_2', 'LaFeO3_1', 'LaFeO3_2', 'WO3_1', 'WO3_2',\n",
    "       'ZnOR_heatR_1', 'ZnOR_heatR_2', 'LaFeO3_heatR_1', 'LaFeO3_heatR_2',\n",
    "       'WO3_heatR_1', 'WO3_heatR_2', 'ZnOR_heatV_1', 'ZnOR_heatV_2',\n",
    "       'LaFeO3_heatV_1', 'LaFeO3_heatV_2', 'WO3_heatV_1', 'WO3_heatV_2',\n",
    "       'Temperature', 'Relative_Humidity', 'Pressure', 'VOC',\n",
    "       'ZnOR_1_TimeSinceCreated', 'ZnOR_2_TimeSinceCreated',\n",
    "       'LaFeO3_1_TimeSinceCreated', 'LaFeO3_2_TimeSinceCreated',\n",
    "       'WO3_1_TimeSinceCreated', 'WO3_2_TimeSinceCreated', 'NO2', 'SO2', 'O3', 'CO']]"
   ]
  },
  {
   "cell_type": "code",
   "execution_count": 749,
   "metadata": {},
   "outputs": [],
   "source": [
    "from sklearn.ensemble import RandomForestRegressor\n",
    "from sklearn.metrics import mean_squared_error,median_absolute_error, mean_absolute_error"
   ]
  },
  {
   "cell_type": "code",
   "execution_count": 595,
   "metadata": {},
   "outputs": [
    {
     "data": {
      "text/plain": [
       "Index(['ZnOR_1', 'ZnOR_2', 'LaFeO3_1', 'LaFeO3_2', 'WO3_1', 'WO3_2',\n",
       "       'ZnOR_heatR_1', 'ZnOR_heatR_2', 'LaFeO3_heatR_1', 'LaFeO3_heatR_2',\n",
       "       'WO3_heatR_1', 'WO3_heatR_2', 'ZnOR_heatV_1', 'ZnOR_heatV_2',\n",
       "       'LaFeO3_heatV_1', 'LaFeO3_heatV_2', 'WO3_heatV_1', 'WO3_heatV_2',\n",
       "       'Temperature', 'Relative_Humidity', 'Pressure', 'VOC',\n",
       "       'ZnOR_1_TimeSinceCreated', 'ZnOR_2_TimeSinceCreated',\n",
       "       'LaFeO3_1_TimeSinceCreated', 'LaFeO3_2_TimeSinceCreated',\n",
       "       'WO3_1_TimeSinceCreated', 'WO3_2_TimeSinceCreated'],\n",
       "      dtype='object')"
      ]
     },
     "execution_count": 595,
     "metadata": {},
     "output_type": "execute_result"
    }
   ],
   "source": [
    "appa_hours.columns"
   ]
  },
  {
   "cell_type": "code",
   "execution_count": 27,
   "metadata": {},
   "outputs": [],
   "source": [
    "cols = ['ZnOR_1', 'ZnOR_2', 'LaFeO3_1', 'LaFeO3_2', 'WO3_1', 'WO3_2',\n",
    "       'ZnOR_heatR_1', 'ZnOR_heatR_2', 'LaFeO3_heatR_1', 'LaFeO3_heatR_2',\n",
    "       'WO3_heatR_1', 'WO3_heatR_2', 'ZnOR_heatV_1', 'ZnOR_heatV_2',\n",
    "       'LaFeO3_heatV_1', 'LaFeO3_heatV_2', 'WO3_heatV_1', 'WO3_heatV_2',\n",
    "       'Temperature', 'Relative_Humidity', 'Pressure', 'VOC',\n",
    "       'ZnOR_1_TimeSinceCreated', 'ZnOR_2_TimeSinceCreated',\n",
    "       'LaFeO3_1_TimeSinceCreated', 'LaFeO3_2_TimeSinceCreated',\n",
    "       'WO3_1_TimeSinceCreated', 'WO3_2_TimeSinceCreated']\n",
    "outs = ['NO2', 'O3', 'CO']"
   ]
  },
  {
   "cell_type": "code",
   "execution_count": 756,
   "metadata": {},
   "outputs": [],
   "source": [
    "vsplit = round(len(appa_hours) * 0.2)\n",
    "\n",
    "X_train = appa_hours.iloc[vsplit:][cols]\n",
    "X_test = appa_hours.iloc[:vsplit][cols]\n",
    "\n",
    "Y_train = appa_hours.iloc[vsplit:][outs]\n",
    "Y_test = appa_hours.iloc[:vsplit][outs]"
   ]
  },
  {
   "cell_type": "code",
   "execution_count": 752,
   "metadata": {},
   "outputs": [
    {
     "name": "stderr",
     "output_type": "stream",
     "text": [
      "/var/folders/gl/2h8nn4ps031g1jysgll17wz00000gn/T/ipykernel_13826/1006863496.py:2: DataConversionWarning: A column-vector y was passed when a 1d array was expected. Please change the shape of y to (n_samples,), for example using ravel().\n",
      "  model.fit(X_train, Y_train)\n"
     ]
    },
    {
     "data": {
      "text/plain": [
       "RandomForestRegressor()"
      ]
     },
     "execution_count": 752,
     "metadata": {},
     "output_type": "execute_result"
    }
   ],
   "source": [
    "model = RandomForestRegressor()\n",
    "model.fit(X_train, Y_train)"
   ]
  },
  {
   "cell_type": "code",
   "execution_count": 754,
   "metadata": {},
   "outputs": [
    {
     "name": "stdout",
     "output_type": "stream",
     "text": [
      "Random Forest\n",
      "Median Error: 10.86 \n",
      " Mean error: 12.902733576642337\n"
     ]
    }
   ],
   "source": [
    "Y_test_pred_r = model.predict(X_test)\n",
    "\n",
    "print(\"Random Forest\")\n",
    "print(f\"Median Error: {median_absolute_error(Y_test, Y_test_pred_r)} \\n Mean error: {mean_absolute_error(Y_test, Y_test_pred_r)}\")"
   ]
  },
  {
   "cell_type": "markdown",
   "metadata": {},
   "source": [
    "# Transformers"
   ]
  },
  {
   "cell_type": "code",
   "execution_count": 312,
   "metadata": {},
   "outputs": [],
   "source": [
    "from torch.utils.data import DataLoader\n",
    "from sklearn.metrics import accuracy_score\n",
    "from sklearn import preprocessing"
   ]
  },
  {
   "cell_type": "code",
   "execution_count": 11,
   "metadata": {},
   "outputs": [
    {
     "data": {
      "text/plain": [
       "Index(['Time', 'ZnOR_1', 'ZnOR_2', 'LaFeO3_1', 'LaFeO3_2', 'WO3_1', 'WO3_2',\n",
       "       'ZnOR_heatR_1', 'ZnOR_heatR_2', 'LaFeO3_heatR_1', 'LaFeO3_heatR_2',\n",
       "       'WO3_heatR_1', 'WO3_heatR_2', 'ZnOR_heatV_1', 'ZnOR_heatV_2',\n",
       "       'LaFeO3_heatV_1', 'LaFeO3_heatV_2', 'WO3_heatV_1', 'WO3_heatV_2',\n",
       "       'Temperature', 'Relative_Humidity', 'Pressure', 'VOC', 'PM10', 'NO2',\n",
       "       'SO2', 'O3', 'CO', 'ZnOR_1_TimeSinceCreated', 'ZnOR_2_TimeSinceCreated',\n",
       "       'LaFeO3_1_TimeSinceCreated', 'LaFeO3_2_TimeSinceCreated',\n",
       "       'WO3_1_TimeSinceCreated', 'WO3_2_TimeSinceCreated'],\n",
       "      dtype='object')"
      ]
     },
     "execution_count": 11,
     "metadata": {},
     "output_type": "execute_result"
    }
   ],
   "source": [
    "appa_hours.columns"
   ]
  },
  {
   "cell_type": "code",
   "execution_count": 13,
   "metadata": {},
   "outputs": [
    {
     "data": {
      "text/plain": [
       "29"
      ]
     },
     "execution_count": 13,
     "metadata": {},
     "output_type": "execute_result"
    }
   ],
   "source": [
    "len(['Time', 'ZnOR_1', 'ZnOR_2', 'LaFeO3_1', 'LaFeO3_2', 'WO3_1', 'WO3_2',\n",
    "       'ZnOR_heatR_1', 'ZnOR_heatR_2', 'LaFeO3_heatR_1', 'LaFeO3_heatR_2',\n",
    "       'WO3_heatR_1', 'WO3_heatR_2', 'ZnOR_heatV_1', 'ZnOR_heatV_2',\n",
    "       'LaFeO3_heatV_1', 'LaFeO3_heatV_2', 'WO3_heatV_1', 'WO3_heatV_2',\n",
    "       'Temperature', 'Relative_Humidity', 'Pressure', 'VOC','ZnOR_1_TimeSinceCreated', 'ZnOR_2_TimeSinceCreated',\n",
    "       'LaFeO3_1_TimeSinceCreated', 'LaFeO3_2_TimeSinceCreated',\n",
    "       'WO3_1_TimeSinceCreated', 'WO3_2_TimeSinceCreated'])"
   ]
  },
  {
   "cell_type": "code",
   "execution_count": 528,
   "metadata": {},
   "outputs": [
    {
     "data": {
      "text/plain": [
       "(24, 28)"
      ]
     },
     "execution_count": 528,
     "metadata": {},
     "output_type": "execute_result"
    }
   ],
   "source": [
    "X[0].shape"
   ]
  },
  {
   "cell_type": "code",
   "execution_count": 451,
   "metadata": {},
   "outputs": [
    {
     "name": "stdout",
     "output_type": "stream",
     "text": [
      "BasicNet(\n",
      "  (fc1): Linear(in_features=28, out_features=200, bias=True)\n",
      "  (fc2): Linear(in_features=200, out_features=150, bias=True)\n",
      "  (fc3): Linear(in_features=150, out_features=50, bias=True)\n",
      "  (fc4): Linear(in_features=50, out_features=3, bias=True)\n",
      "  (dropout1): Dropout(p=0.25, inplace=False)\n",
      "  (dropout2): Dropout(p=0.5, inplace=False)\n",
      ")\n"
     ]
    }
   ],
   "source": [
    "class BasicNet(nn.Module):\n",
    "    def __init__(self):\n",
    "        super(BasicNet, self).__init__()\n",
    "        self.conv1 = Conv2d()\n",
    "        self.conv2 = Conv2d()\n",
    "        self.conv3 = Conv2d()\n",
    "\n",
    "        self.fc1 = nn.Linear(28, 200)\n",
    "        self.fc2 = nn.Linear(200, 150)\n",
    "        self.fc3 = nn.Linear(150, 50)\n",
    "        self.fc4 = nn.Linear(50, 3)\n",
    "\n",
    "        self.dropout1 = nn.Dropout(0.25)\n",
    "        self.dropout2 = nn.Dropout(0.5)\n",
    "    def forward(self, x):\n",
    "        x = self.fc1(x)\n",
    "        x = F.relu(x)\n",
    "        x = self.fc2(x)\n",
    "        x = self.dropout2(x)\n",
    "        x = F.relu(x)\n",
    "        x = self.fc3(x)\n",
    "        x = self.dropout1(x)\n",
    "        x = F.relu(x)\n",
    "        x = self.fc4(x)\n",
    "        return x\n",
    "\n",
    "basic_model = BasicNet()\n",
    "print(basic_model)"
   ]
  },
  {
   "cell_type": "code",
   "execution_count": 445,
   "metadata": {},
   "outputs": [
    {
     "data": {
      "text/plain": [
       "tensor([[-0.1110,  0.0374,  0.1223]], grad_fn=<AddmmBackward0>)"
      ]
     },
     "execution_count": 445,
     "metadata": {},
     "output_type": "execute_result"
    }
   ],
   "source": [
    "basic_model(torch.rand((1,28)))"
   ]
  },
  {
   "cell_type": "code",
   "execution_count": 523,
   "metadata": {},
   "outputs": [],
   "source": [
    "X = appa_hours[['ZnOR_1', 'ZnOR_2', 'LaFeO3_1', 'LaFeO3_2', 'WO3_1', 'WO3_2',\n",
    "       'ZnOR_heatR_1', 'ZnOR_heatR_2', 'LaFeO3_heatR_1', 'LaFeO3_heatR_2',\n",
    "       'WO3_heatR_1', 'WO3_heatR_2', 'ZnOR_heatV_1', 'ZnOR_heatV_2',\n",
    "       'LaFeO3_heatV_1', 'LaFeO3_heatV_2', 'WO3_heatV_1', 'WO3_heatV_2',\n",
    "       'Temperature', 'Relative_Humidity', 'Pressure', 'VOC',\n",
    "       'ZnOR_1_TimeSinceCreated', 'ZnOR_2_TimeSinceCreated',\n",
    "       'LaFeO3_1_TimeSinceCreated', 'LaFeO3_2_TimeSinceCreated',\n",
    "       'WO3_1_TimeSinceCreated', 'WO3_2_TimeSinceCreated']].to_numpy()\n",
    "Y = appa_hours[['NO2', 'O3', 'CO']].to_numpy()"
   ]
  },
  {
   "cell_type": "code",
   "execution_count": 524,
   "metadata": {},
   "outputs": [],
   "source": [
    "scalerX = preprocessing.StandardScaler().fit(X)\n",
    "X = scalerX.transform(X)\n",
    "scalerY = preprocessing.StandardScaler().fit(Y)\n",
    "Y = scalerY.transform(Y)"
   ]
  },
  {
   "cell_type": "code",
   "execution_count": 525,
   "metadata": {},
   "outputs": [
    {
     "data": {
      "text/plain": [
       "((13678, 24, 28), (13678, 3))"
      ]
     },
     "execution_count": 525,
     "metadata": {},
     "output_type": "execute_result"
    }
   ],
   "source": [
    "X = np.array([x[0] for x in np.lib.stride_tricks.sliding_window_view(X, (24,28))])\n",
    "Y = Y[X.shape[1]-1:]\n",
    "(X.shape,Y.shape)"
   ]
  },
  {
   "cell_type": "code",
   "execution_count": 526,
   "metadata": {},
   "outputs": [],
   "source": [
    "data = []\n",
    "for i in range(len(X)):\n",
    "    data.append([X[i], Y[i]])"
   ]
  },
  {
   "cell_type": "code",
   "execution_count": 527,
   "metadata": {},
   "outputs": [],
   "source": [
    "vsplit = round(len(data) * 0.2)\n",
    "\n",
    "train_dl = DataLoader(data[vsplit:], batch_size=32, shuffle=True)\n",
    "test_dl = DataLoader(data[:vsplit], batch_size=32, shuffle=True)"
   ]
  },
  {
   "cell_type": "code",
   "execution_count": 413,
   "metadata": {},
   "outputs": [],
   "source": [
    "bm = None\n",
    "def train_model(train_dl, model):\n",
    "    global bm\n",
    "    best_loss = float(\"inf\")\n",
    "    # define the optimization\n",
    "    criterion = nn.MSELoss()\n",
    "    optimizer = torch.optim.Adam(basic_model.parameters(), lr=0.01)\n",
    "    # enumerate epochs\n",
    "    for epoch in range(100):\n",
    "        for i, (inputs, targets) in enumerate(train_dl):\n",
    "            # clear the gradients\n",
    "            optimizer.zero_grad()\n",
    "            # compute the model output\n",
    "            for i, inp in enumerate(inputs):\n",
    "                yhat = model(inp.float())\n",
    "                # calculate loss\n",
    "                loss = criterion(yhat, targets[i].float())\n",
    "                # credit assignment\n",
    "                loss.backward()\n",
    "            # update model weights\n",
    "            optimizer.step()\n",
    "        if best_loss > loss:\n",
    "            bm = copy.deepcopy(model)\n",
    "            best_loss = loss\n",
    "        print(f\"epoch {epoch} done, loss {loss}\")"
   ]
  },
  {
   "cell_type": "code",
   "execution_count": 323,
   "metadata": {},
   "outputs": [],
   "source": [
    "def evaluate_model(test_dl, model):\n",
    "    predictions, actuals = list(), list()\n",
    "    for i, (inputs, targets) in enumerate(test_dl):\n",
    "        # evaluate the model on the test set\n",
    "        yhat = model(inputs.float())\n",
    "        # retrieve numpy array\n",
    "        yhat = yhat.detach().numpy()\n",
    "        actual = targets.numpy()\n",
    "        # store\n",
    "        predictions.append(yhat)\n",
    "        actuals.append(actual)\n",
    "    predictions, actuals = np.vstack(predictions), np.vstack(actuals)\n",
    "    # calculate accuracy\n",
    "    acc = (actuals, predictions)\n",
    "    return acc"
   ]
  },
  {
   "cell_type": "code",
   "execution_count": 187,
   "metadata": {},
   "outputs": [],
   "source": [
    "import copy"
   ]
  },
  {
   "cell_type": "code",
   "execution_count": 452,
   "metadata": {},
   "outputs": [
    {
     "name": "stdout",
     "output_type": "stream",
     "text": [
      "epoch 0 done, loss 0.1954377144575119\n",
      "epoch 1 done, loss 0.10638030618429184\n",
      "epoch 2 done, loss 0.8884353041648865\n",
      "epoch 3 done, loss 0.6040071845054626\n",
      "epoch 4 done, loss 0.315480500459671\n",
      "epoch 5 done, loss 0.0491899810731411\n",
      "epoch 6 done, loss 0.037178680300712585\n",
      "epoch 7 done, loss 0.022976979613304138\n",
      "epoch 8 done, loss 0.3955971896648407\n",
      "epoch 9 done, loss 0.1619979590177536\n",
      "epoch 10 done, loss 0.030794380232691765\n",
      "epoch 11 done, loss 0.285727322101593\n",
      "epoch 12 done, loss 0.3879714012145996\n",
      "epoch 13 done, loss 0.029069319367408752\n",
      "epoch 14 done, loss 0.11306282877922058\n",
      "epoch 15 done, loss 0.13033254444599152\n",
      "epoch 16 done, loss 0.37385740876197815\n",
      "epoch 17 done, loss 0.1087261214852333\n",
      "epoch 18 done, loss 0.08239373564720154\n",
      "epoch 19 done, loss 0.09780099242925644\n",
      "epoch 20 done, loss 0.17509759962558746\n",
      "epoch 21 done, loss 0.3950960636138916\n",
      "epoch 22 done, loss 0.3915615975856781\n",
      "epoch 23 done, loss 0.15846747159957886\n",
      "epoch 24 done, loss 0.009693458676338196\n",
      "epoch 25 done, loss 0.7682830691337585\n",
      "epoch 26 done, loss 6.109129428863525\n",
      "epoch 27 done, loss 0.10410919785499573\n",
      "epoch 28 done, loss 0.4180334806442261\n",
      "epoch 29 done, loss 0.06743520498275757\n",
      "epoch 30 done, loss 0.06008673831820488\n",
      "epoch 31 done, loss 0.10781531780958176\n",
      "epoch 32 done, loss 0.21743781864643097\n",
      "epoch 33 done, loss 0.19701933860778809\n",
      "epoch 34 done, loss 0.948607861995697\n",
      "epoch 35 done, loss 0.34355664253234863\n",
      "epoch 36 done, loss 0.05718078836798668\n",
      "epoch 37 done, loss 0.11165551096200943\n",
      "epoch 38 done, loss 0.023437045514583588\n",
      "epoch 39 done, loss 0.16527371108531952\n",
      "epoch 40 done, loss 0.062037378549575806\n",
      "epoch 41 done, loss 2.4207236766815186\n",
      "epoch 42 done, loss 0.0940457358956337\n",
      "epoch 43 done, loss 0.18302597105503082\n",
      "epoch 44 done, loss 0.8401363492012024\n",
      "epoch 45 done, loss 0.19911600649356842\n",
      "epoch 46 done, loss 0.05254504084587097\n",
      "epoch 47 done, loss 0.03394092619419098\n",
      "epoch 48 done, loss 0.17663006484508514\n",
      "epoch 49 done, loss 0.18942534923553467\n",
      "epoch 50 done, loss 0.11821263283491135\n",
      "epoch 51 done, loss 0.47281089425086975\n",
      "epoch 52 done, loss 0.31110963225364685\n",
      "epoch 53 done, loss 0.1152493953704834\n",
      "epoch 54 done, loss 0.23682951927185059\n",
      "epoch 55 done, loss 0.04235806688666344\n",
      "epoch 56 done, loss 0.09477934241294861\n",
      "epoch 57 done, loss 0.23072199523448944\n",
      "epoch 58 done, loss 0.08856590837240219\n",
      "epoch 59 done, loss 1.1063591241836548\n",
      "epoch 60 done, loss 0.14424659311771393\n",
      "epoch 61 done, loss 0.12742121517658234\n",
      "epoch 62 done, loss 0.5503600239753723\n",
      "epoch 63 done, loss 0.623243510723114\n",
      "epoch 64 done, loss 0.18550844490528107\n",
      "epoch 65 done, loss 0.07506903260946274\n",
      "epoch 66 done, loss 0.07068230211734772\n",
      "epoch 67 done, loss 0.22046351432800293\n",
      "epoch 68 done, loss 0.5535776019096375\n",
      "epoch 69 done, loss 0.2345687299966812\n",
      "epoch 70 done, loss 0.06101639196276665\n",
      "epoch 71 done, loss 0.43149304389953613\n",
      "epoch 72 done, loss 0.04237115755677223\n",
      "epoch 73 done, loss 0.30004310607910156\n",
      "epoch 74 done, loss 0.05775827541947365\n",
      "epoch 75 done, loss 0.6528294682502747\n",
      "epoch 76 done, loss 0.2544806897640228\n",
      "epoch 77 done, loss 0.07331471890211105\n",
      "epoch 78 done, loss 0.052322644740343094\n",
      "epoch 79 done, loss 0.12990882992744446\n",
      "epoch 80 done, loss 0.12132295221090317\n",
      "epoch 81 done, loss 1.2567933797836304\n",
      "epoch 82 done, loss 0.2311614602804184\n",
      "epoch 83 done, loss 0.08802292495965958\n",
      "epoch 84 done, loss 0.2842211425304413\n",
      "epoch 85 done, loss 0.14787155389785767\n",
      "epoch 86 done, loss 0.3088945746421814\n",
      "epoch 87 done, loss 0.09261522442102432\n",
      "epoch 88 done, loss 0.2557664215564728\n",
      "epoch 89 done, loss 0.25761935114860535\n",
      "epoch 90 done, loss 0.220378577709198\n",
      "epoch 91 done, loss 0.035951320081949234\n",
      "epoch 92 done, loss 0.06559670716524124\n",
      "epoch 93 done, loss 0.8912203907966614\n",
      "epoch 94 done, loss 0.03962498903274536\n",
      "epoch 95 done, loss 0.08541655540466309\n",
      "epoch 96 done, loss 2.7383625507354736\n",
      "epoch 97 done, loss 0.2641458511352539\n",
      "epoch 98 done, loss 0.7750504612922668\n",
      "epoch 99 done, loss 0.17925302684307098\n"
     ]
    }
   ],
   "source": [
    "train_model(train_dl, basic_model)"
   ]
  },
  {
   "cell_type": "code",
   "execution_count": 338,
   "metadata": {},
   "outputs": [
    {
     "data": {
      "text/plain": [
       "tensor([[ 0.2144,  0.1129, -0.0328]], grad_fn=<AddmmBackward0>)"
      ]
     },
     "execution_count": 338,
     "metadata": {},
     "output_type": "execute_result"
    }
   ],
   "source": [
    "basic_model(torch.rand((1,28)))"
   ]
  },
  {
   "cell_type": "code",
   "execution_count": 458,
   "metadata": {},
   "outputs": [
    {
     "data": {
      "text/plain": [
       "16.295283989376493"
      ]
     },
     "execution_count": 458,
     "metadata": {},
     "output_type": "execute_result"
    }
   ],
   "source": [
    "from sklearn.metrics import mean_squared_error, median_absolute_error, mean_absolute_error\n",
    "evals = evaluate_model(test_dl, bm)\n",
    "\n",
    "median_absolute_error(scalerY.inverse_transform(evals[1]),  scalerY.inverse_transform(evals[0]))"
   ]
  },
  {
   "cell_type": "code",
   "execution_count": 459,
   "metadata": {},
   "outputs": [],
   "source": [
    "def extract_windows(array, clearing_time_index, max_time, sub_window_size):\n",
    "    examples = []\n",
    "    start = clearing_time_index + 1 - sub_window_size + 1\n",
    "    \n",
    "    for i in range(max_time+1):\n",
    "        example = array[start+i:start+sub_window_size+i]\n",
    "        examples.append(np.expand_dims(example, 0))\n",
    "    \n",
    "    return np.vstack(examples)"
   ]
  }
 ],
 "metadata": {
  "kernelspec": {
   "display_name": "Python 3.9.13 64-bit",
   "language": "python",
   "name": "python3"
  },
  "language_info": {
   "codemirror_mode": {
    "name": "ipython",
    "version": 3
   },
   "file_extension": ".py",
   "mimetype": "text/x-python",
   "name": "python",
   "nbconvert_exporter": "python",
   "pygments_lexer": "ipython3",
   "version": "3.9.13"
  },
  "orig_nbformat": 4,
  "vscode": {
   "interpreter": {
    "hash": "ac2eaa0ea0ebeafcc7822e65e46aa9d4f966f30b695406963e145ea4a91cd4fc"
   }
  }
 },
 "nbformat": 4,
 "nbformat_minor": 2
}
