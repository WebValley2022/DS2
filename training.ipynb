{
 "cells": [
  {
   "cell_type": "code",
   "execution_count": 1,
   "metadata": {},
   "outputs": [],
   "source": [
    "import torch\n",
    "import warnings\n",
    "import numpy as np\n",
    "import pandas as pd\n",
    "import torch.nn as nn\n",
    "import torch.optim as optim\n",
    "import torch.nn.functional as F\n",
    "\n",
    "from tqdm import tqdm\n",
    "from datetime import datetime\n",
    "from torch.utils.data import DataLoader\n",
    "from sklearn.preprocessing import StandardScaler\n",
    "from sklearn.model_selection import train_test_split\n",
    "from sklearn.metrics import median_absolute_error, mean_absolute_error, r2_score\n",
    "\n",
    "device = torch.device('cpu')\n",
    "warnings.filterwarnings(\"ignore\")"
   ]
  },
  {
   "cell_type": "code",
   "execution_count": 2,
   "metadata": {},
   "outputs": [],
   "source": [
    "appa1 = pd.read_csv(\"noam_exports/appa1.csv\")\n",
    "appa1 = appa1.drop(columns='Unnamed: 0')\n",
    "\n",
    "appa2 = pd.read_csv(\"noam_exports/appa2.csv\")\n",
    "appa2 = appa2.drop(columns='Unnamed: 0')"
   ]
  },
  {
   "cell_type": "markdown",
   "metadata": {},
   "source": [
    "# CNN-LSTM Neural Network"
   ]
  },
  {
   "cell_type": "code",
   "execution_count": 3,
   "metadata": {},
   "outputs": [
    {
     "name": "stdout",
     "output_type": "stream",
     "text": [
      "CNN_LSTM(\n",
      "  (conv1): Conv2d(1, 40, kernel_size=(4, 37), stride=(1, 1))\n",
      "  (lstm): LSTM(21, 200, batch_first=True)\n",
      "  (fc1): Linear(in_features=8000, out_features=150, bias=True)\n",
      "  (fc2): Linear(in_features=150, out_features=50, bias=True)\n",
      "  (fc3): Linear(in_features=50, out_features=3, bias=True)\n",
      "  (dropout1): Dropout(p=0.03, inplace=False)\n",
      "  (dropout2): Dropout(p=0.1, inplace=False)\n",
      "  (dropout3): Dropout(p=0.1, inplace=False)\n",
      ")\n"
     ]
    }
   ],
   "source": [
    "class CNN_LSTM(nn.Module):\n",
    "    def __init__(self):\n",
    "        super(CNN_LSTM, self).__init__()\n",
    "        self.conv = nn.Conv2d(in_channels=1, out_channels=40, kernel_size=(4, 37))\n",
    "        self.lstm = nn.LSTM(21, 200, batch_first=True)\n",
    "        self.fc1 = nn.Linear(8000, 150)\n",
    "        self.fc2 = nn.Linear(150, 50)\n",
    "        self.fc3 = nn.Linear(50, 3)\n",
    "        self.dropout1 = nn.Dropout(0.03)\n",
    "        self.dropout2 = nn.Dropout(0.1)\n",
    "        self.dropout3 = nn.Dropout(0.1)\n",
    "    \n",
    "    def forward(self, x, hidden):\n",
    "        x = self.conv(x)\n",
    "        x = F.relu(x)\n",
    "        x = torch.squeeze(x)\n",
    "        x, (h_n, c_n) = self.lstm(x, hidden)\n",
    "        x = F.relu(x)\n",
    "        x = torch.flatten(x, start_dim=1)\n",
    "        x = self.fc1(x)\n",
    "        x = self.dropout1(x)\n",
    "        x = F.relu(x)\n",
    "        x = self.fc2(x)\n",
    "        x = self.dropout2(x)\n",
    "        x = F.relu(x)\n",
    "        x = self.fc3(x)\n",
    "        x = self.dropout3(x)\n",
    "        return x, (h_n, c_n)\n",
    "\n",
    "CNN_LSTM = CNN_LSTM()\n",
    "print(CNN_LSTM)"
   ]
  },
  {
   "cell_type": "code",
   "execution_count": 4,
   "metadata": {},
   "outputs": [],
   "source": [
    "X = appa1[[\n",
    "       'ZnOR_1', 'ZnOR_2',\n",
    "       'LaFeO3_1', 'LaFeO3_2',\n",
    "       'WO3_1', 'WO3_2',\n",
    "       'ZnOR_1_heatR', 'ZnOR_2_heatR',\n",
    "       'LaFeO3_1_heatR', 'LaFeO3_2_heatR',\n",
    "       'WO3_1_heatR', 'WO3_2_heatR',\n",
    "       'ZnOR_1_heatV', 'ZnOR_2_heatV',\n",
    "       'LaFeO3_1_heatV', 'LaFeO3_2_heatV',\n",
    "       'WO3_1_heatV', 'WO3_2_heatV',\n",
    "       'Temperature', 'Relative_Humidity', 'Pressure', 'VOC',\n",
    "       'ZnOR_1_Age', 'ZnOR_2_Age',\n",
    "       'LaFeO3_1_Age', 'LaFeO3_2_Age',\n",
    "       'WO3_1_Age', 'WO3_2_Age',\n",
    "       'sin_hour', 'cos_hour',\n",
    "       'sin_weekday', 'cos_weekday',\n",
    "       'sin_month', 'cos_month',\n",
    "       'sin_ordate', 'cos_ordate',\n",
    "       'year'\n",
    "    ]].to_numpy()\n",
    "Y = appa1[['CO', 'NO2']].to_numpy()"
   ]
  },
  {
   "cell_type": "code",
   "execution_count": 5,
   "metadata": {},
   "outputs": [],
   "source": [
    "# Perform data normalization\n",
    "scaleX = StandardScaler()\n",
    "scaleY = StandardScaler()\n",
    "scaleX.fit(X)\n",
    "scaleY.fit(Y)\n",
    "X = scaleX.transform(X)\n",
    "Y = scaleY.transform(Y)"
   ]
  },
  {
   "cell_type": "code",
   "execution_count": 6,
   "metadata": {},
   "outputs": [
    {
     "data": {
      "text/plain": [
       "((13678, 1, 24, 37), (13678, 3))"
      ]
     },
     "execution_count": 6,
     "metadata": {},
     "output_type": "execute_result"
    }
   ],
   "source": [
    "X = np.lib.stride_tricks.sliding_window_view(X, (24, 37))\n",
    "Y = Y[X.shape[2] - 1 :]\n",
    "(X.shape, Y.shape)"
   ]
  },
  {
   "cell_type": "code",
   "execution_count": 7,
   "metadata": {},
   "outputs": [],
   "source": [
    "train, test = train_test_split(list(zip(X,Y)), test_size=0.2)"
   ]
  },
  {
   "cell_type": "code",
   "execution_count": 8,
   "metadata": {},
   "outputs": [],
   "source": [
    "train = train[len(train)%7:]\n",
    "test = test[len(test)%7:]"
   ]
  },
  {
   "cell_type": "code",
   "execution_count": 9,
   "metadata": {},
   "outputs": [],
   "source": [
    "train_dl = DataLoader(train, batch_size=7, shuffle=True)\n",
    "test_dl = DataLoader(test, batch_size=7, shuffle=True)"
   ]
  },
  {
   "cell_type": "code",
   "execution_count": 10,
   "metadata": {},
   "outputs": [],
   "source": [
    "def fit_model(model):\n",
    "    device = torch.device(\"cuda\" if torch.cuda.is_available() else \"cpu\")\n",
    "    model = CNN_LSTM\n",
    "    criterion = nn.MSELoss()\n",
    "    optimizer = optim.SGD(model.parameters(), lr=0.01, momentum=0.9)\n",
    "    hidden = (torch.zeros(1, 7, 200), torch.zeros(1, 7, 200))\n",
    "    results = pd.DataFrame({\n",
    "        'epoch': [],\n",
    "        'training_time': [],\n",
    "        'NO2_median': [],\n",
    "        'NO2_mean': [],\n",
    "        'CO_median': [],\n",
    "        'CO_mean': [],\n",
    "        'O3_median': [],\n",
    "        'O3_mean': []\n",
    "        })\n",
    "\n",
    "    for epoch in range(10):\n",
    "        \n",
    "        train_loss = 0\n",
    "        epoch_start = datetime.now()\n",
    "        for features, tag in tqdm(train_dl):\n",
    "            tag = tag.float()\n",
    "            optimizer.zero_grad()\n",
    "            pred, hidden = model(features.clone().detach().float(), hidden)\n",
    "            loss = criterion(pred, tag)\n",
    "            optimizer.step()\n",
    "            train_loss += loss.item()\n",
    "        epoch_end = datetime.now()\n",
    "        duration = (epoch_end - epoch_start).total_seconds()\n",
    "        \n",
    "        test_loss = 0\n",
    "        hidden = (torch.zeros(1, 7, 200), torch.zeros(1, 7, 200))\n",
    "        with torch.no_grad():\n",
    "            epoch_values = pd.DataFrame({\n",
    "                'NO2_tag': [],\n",
    "                'CO_tag': [],\n",
    "                'O3_tag': [],\n",
    "                'NO2_pred': [],\n",
    "                'CO_pred': [],\n",
    "                'O3_pred': []\n",
    "                })\n",
    "            for features, tag in tqdm(test_dl):\n",
    "                pred, hidden = model(features.clone().detach().float(), hidden)\n",
    "                loss = criterion(pred, tag)\n",
    "                test_loss += loss.item()\n",
    "                tag, pred = tag.numpy(), pred.detach().numpy()\n",
    "\n",
    "                epoch_values = pd.concat([epoch_values, pd.DataFrame(data={\n",
    "                    'NO2_tag': tag[0],\n",
    "                    'CO_tag': tag[1],\n",
    "                    'O3_tag': tag[2],\n",
    "                    'NO2_pred': pred[0],\n",
    "                    'CO_pred': pred[1],\n",
    "                    'O3_pred': pred[2],\n",
    "                })])\n",
    "    \n",
    "            results = pd.concat([results, pd.DataFrame(data={\n",
    "                'epoch': int(epoch + 1),\n",
    "                'training_time': duration,\n",
    "                'NO2_median': [median_absolute_error(epoch_values.NO2_tag, epoch_values.NO2_pred)],\n",
    "                'NO2_mean': [mean_absolute_error(epoch_values.NO2_tag, epoch_values.NO2_pred)],\n",
    "                'CO_median': [median_absolute_error(epoch_values.CO_tag, epoch_values.CO_pred)],\n",
    "                'CO_mean': [mean_absolute_error(epoch_values.CO_tag, epoch_values.CO_pred)],\n",
    "                'O3_median': [median_absolute_error(epoch_values.O3_tag, epoch_values.O3_pred)],\n",
    "                'O3_mean': [mean_absolute_error(epoch_values.O3_tag, epoch_values.O3_pred)],\n",
    "                })])\n",
    "                \n",
    "    results.to_csv('Results.csv')\n",
    "    torch.cuda.empty_cache()"
   ]
  },
  {
   "cell_type": "code",
   "execution_count": 11,
   "metadata": {},
   "outputs": [
    {
     "name": "stderr",
     "output_type": "stream",
     "text": [
      "100%|██████████| 1563/1563 [00:25<00:00, 60.41it/s]\n",
      "100%|██████████| 390/390 [00:14<00:00, 26.30it/s] \n",
      "100%|██████████| 1563/1563 [00:28<00:00, 54.29it/s]\n",
      "100%|██████████| 390/390 [00:10<00:00, 35.81it/s]\n",
      "100%|██████████| 1563/1563 [00:28<00:00, 55.29it/s]\n",
      "100%|██████████| 390/390 [00:09<00:00, 41.24it/s]\n",
      "100%|██████████| 1563/1563 [00:28<00:00, 54.90it/s]\n",
      "100%|██████████| 390/390 [00:09<00:00, 41.69it/s]\n",
      "100%|██████████| 1563/1563 [00:29<00:00, 53.10it/s]\n",
      "100%|██████████| 390/390 [00:09<00:00, 41.42it/s]\n",
      "100%|██████████| 1563/1563 [00:42<00:00, 36.76it/s]\n",
      "100%|██████████| 390/390 [00:08<00:00, 43.78it/s]\n",
      "100%|██████████| 1563/1563 [00:26<00:00, 58.19it/s]\n",
      "100%|██████████| 390/390 [00:10<00:00, 36.91it/s]\n",
      "100%|██████████| 1563/1563 [00:39<00:00, 39.20it/s]\n",
      "100%|██████████| 390/390 [00:19<00:00, 19.50it/s]\n",
      "100%|██████████| 1563/1563 [00:32<00:00, 48.67it/s]\n",
      "100%|██████████| 390/390 [00:11<00:00, 34.66it/s]\n",
      "100%|██████████| 1563/1563 [00:29<00:00, 52.53it/s]\n",
      "100%|██████████| 390/390 [00:10<00:00, 37.12it/s]\n"
     ]
    }
   ],
   "source": [
    "fit_model(CNN_LSTM)"
   ]
  }
 ],
 "metadata": {
  "kernelspec": {
   "display_name": "Python 3.10.5 64-bit",
   "language": "python",
   "name": "python3"
  },
  "language_info": {
   "codemirror_mode": {
    "name": "ipython",
    "version": 3
   },
   "file_extension": ".py",
   "mimetype": "text/x-python",
   "name": "python",
   "nbconvert_exporter": "python",
   "pygments_lexer": "ipython3",
   "version": "3.10.5"
  },
  "orig_nbformat": 4,
  "vscode": {
   "interpreter": {
    "hash": "26de051ba29f2982a8de78e945f0abaf191376122a1563185a90213a26c5da77"
   }
  }
 },
 "nbformat": 4,
 "nbformat_minor": 2
}
