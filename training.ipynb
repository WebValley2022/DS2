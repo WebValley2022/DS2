{
 "cells": [
  {
   "cell_type": "code",
   "execution_count": 121,
   "metadata": {},
   "outputs": [],
   "source": [
    "import pandas as pd\n",
    "import numpy as np\n",
    "from matplotlib import pyplot as plt\n",
    "from tqdm import tqdm\n",
    "import time\n",
    "import torch\n",
    "import torch.nn as nn\n",
    "import torch.nn.functional as F\n",
    "device = torch.device('cpu')\n",
    "def norm(data):\n",
    "    return np.array(data)/(max(data))"
   ]
  },
  {
   "cell_type": "code",
   "execution_count": 2,
   "metadata": {},
   "outputs": [
    {
     "data": {
      "text/plain": [
       "'macOS-12.3-arm64-i386-64bit'"
      ]
     },
     "execution_count": 2,
     "metadata": {},
     "output_type": "execute_result"
    }
   ],
   "source": [
    "import platform\n",
    "platform.platform()\n"
   ]
  },
  {
   "cell_type": "code",
   "execution_count": 155,
   "metadata": {},
   "outputs": [],
   "source": [
    "appa_hours = pd.read_csv(\"exports/appa_hr_crop_withCreated.csv\")"
   ]
  },
  {
   "cell_type": "code",
   "execution_count": 156,
   "metadata": {},
   "outputs": [],
   "source": [
    "appa_hours.Time = pd.to_datetime(appa_hours.Time)"
   ]
  },
  {
   "cell_type": "code",
   "execution_count": 157,
   "metadata": {},
   "outputs": [
    {
     "data": {
      "text/plain": [
       "Index(['Time', 'ZnOR_1', 'ZnOR_2', 'LaFeO3_1', 'LaFeO3_2', 'WO3_1', 'WO3_2',\n",
       "       'ZnOR_heatR_1', 'ZnOR_heatR_2', 'LaFeO3_heatR_1', 'LaFeO3_heatR_2',\n",
       "       'WO3_heatR_1', 'WO3_heatR_2', 'ZnOR_heatV_1', 'ZnOR_heatV_2',\n",
       "       'LaFeO3_heatV_1', 'LaFeO3_heatV_2', 'WO3_heatV_1', 'WO3_heatV_2',\n",
       "       'Temperature', 'Relative_Humidity', 'Pressure', 'VOC', 'PM10', 'NO2',\n",
       "       'SO2', 'O3', 'CO', 'ZnOR_1_TimeSinceCreated', 'ZnOR_2_TimeSinceCreated',\n",
       "       'LaFeO3_1_TimeSinceCreated', 'LaFeO3_2_TimeSinceCreated',\n",
       "       'WO3_1_TimeSinceCreated', 'WO3_2_TimeSinceCreated'],\n",
       "      dtype='object')"
      ]
     },
     "execution_count": 157,
     "metadata": {},
     "output_type": "execute_result"
    }
   ],
   "source": [
    "appa_hours.columns"
   ]
  },
  {
   "cell_type": "code",
   "execution_count": 159,
   "metadata": {},
   "outputs": [],
   "source": [
    "import math\n",
    "\n",
    "appa_hours[\"time\"] = appa_hours[\"Time\"].dt.hour\n",
    "appa_hours[\"month\"] = appa_hours[\"Time\"].dt.month\n",
    "\n",
    "\n",
    "appa_hours[\"weekend\"] = (\n",
    "    appa_hours[\"Time\"].dt.dayofweek >= 4\n",
    ").astype(\"int\")\n",
    "\n",
    "appa_hours[\"sin_time\"] = appa_hours[\"time\"].apply(\n",
    "    lambda x: math.sin(x) * 2 * (math.pi / 24)\n",
    ")\n",
    "appa_hours[\"cos_time\"] = appa_hours[\"time\"].apply(\n",
    "    lambda x: math.cos(x) * 2 * (math.pi / 24)\n",
    ")\n",
    "\n",
    "appa_hours[\"sin_month\"] = appa_hours[\"month\"].apply(\n",
    "    lambda x: math.sin(x) * 2 * (math.pi / 12)\n",
    ")\n",
    "\n",
    "appa_hours[\"cos_month\"] = appa_hours[\"month\"].apply(\n",
    "    lambda x: math.cos(x) * 2 * (math.pi / 12)\n",
    ")"
   ]
  },
  {
   "cell_type": "code",
   "execution_count": 160,
   "metadata": {},
   "outputs": [],
   "source": [
    "appa_hours = appa_hours[['ZnOR_1', 'ZnOR_2', 'LaFeO3_1', 'LaFeO3_2', 'WO3_1', 'WO3_2',\n",
    "       'ZnOR_heatR_1', 'ZnOR_heatR_2', 'LaFeO3_heatR_1', 'LaFeO3_heatR_2',\n",
    "       'WO3_heatR_1', 'WO3_heatR_2', 'ZnOR_heatV_1', 'ZnOR_heatV_2',\n",
    "       'LaFeO3_heatV_1', 'LaFeO3_heatV_2', 'WO3_heatV_1', 'WO3_heatV_2',\n",
    "       'Temperature', 'Relative_Humidity', 'Pressure', 'VOC',\n",
    "       'ZnOR_1_TimeSinceCreated', 'ZnOR_2_TimeSinceCreated',\n",
    "       'LaFeO3_1_TimeSinceCreated', 'LaFeO3_2_TimeSinceCreated',\n",
    "       'WO3_1_TimeSinceCreated', 'WO3_2_TimeSinceCreated','time', 'month',\n",
    "       'weekend', 'sin_time', 'cos_time', 'sin_month', 'cos_month', 'NO2', 'SO2', 'O3', 'CO']]"
   ]
  },
  {
   "cell_type": "code",
   "execution_count": 16,
   "metadata": {},
   "outputs": [],
   "source": [
    "from sklearn.ensemble import RandomForestRegressor\n",
    "from sklearn.metrics import mean_squared_error,median_absolute_error, mean_absolute_error"
   ]
  },
  {
   "cell_type": "code",
   "execution_count": 595,
   "metadata": {},
   "outputs": [
    {
     "data": {
      "text/plain": [
       "Index(['ZnOR_1', 'ZnOR_2', 'LaFeO3_1', 'LaFeO3_2', 'WO3_1', 'WO3_2',\n",
       "       'ZnOR_heatR_1', 'ZnOR_heatR_2', 'LaFeO3_heatR_1', 'LaFeO3_heatR_2',\n",
       "       'WO3_heatR_1', 'WO3_heatR_2', 'ZnOR_heatV_1', 'ZnOR_heatV_2',\n",
       "       'LaFeO3_heatV_1', 'LaFeO3_heatV_2', 'WO3_heatV_1', 'WO3_heatV_2',\n",
       "       'Temperature', 'Relative_Humidity', 'Pressure', 'VOC',\n",
       "       'ZnOR_1_TimeSinceCreated', 'ZnOR_2_TimeSinceCreated',\n",
       "       'LaFeO3_1_TimeSinceCreated', 'LaFeO3_2_TimeSinceCreated',\n",
       "       'WO3_1_TimeSinceCreated', 'WO3_2_TimeSinceCreated'],\n",
       "      dtype='object')"
      ]
     },
     "execution_count": 595,
     "metadata": {},
     "output_type": "execute_result"
    }
   ],
   "source": [
    "appa_hours.columns"
   ]
  },
  {
   "cell_type": "code",
   "execution_count": 161,
   "metadata": {},
   "outputs": [],
   "source": [
    "cols = ['ZnOR_1', 'ZnOR_2', 'LaFeO3_1', 'LaFeO3_2', 'WO3_1', 'WO3_2',\n",
    "       'ZnOR_heatR_1', 'ZnOR_heatR_2', 'LaFeO3_heatR_1', 'LaFeO3_heatR_2',\n",
    "       'WO3_heatR_1', 'WO3_heatR_2', 'ZnOR_heatV_1', 'ZnOR_heatV_2',\n",
    "       'LaFeO3_heatV_1', 'LaFeO3_heatV_2', 'WO3_heatV_1', 'WO3_heatV_2',\n",
    "       'Temperature', 'Relative_Humidity', 'Pressure', 'VOC',\n",
    "       'ZnOR_1_TimeSinceCreated', 'ZnOR_2_TimeSinceCreated',\n",
    "       'LaFeO3_1_TimeSinceCreated', 'LaFeO3_2_TimeSinceCreated',\n",
    "       'WO3_1_TimeSinceCreated', 'WO3_2_TimeSinceCreated', 'time', 'month',\n",
    "       'weekend', 'sin_time', 'cos_time', 'sin_month', 'cos_month']\n",
    "outs = ['NO2', 'O3', 'CO']"
   ]
  },
  {
   "cell_type": "code",
   "execution_count": 162,
   "metadata": {},
   "outputs": [],
   "source": [
    "vsplit = round(len(appa_hours) * 0.2)\n",
    "\n",
    "X_train = appa_hours.iloc[vsplit:][cols]\n",
    "X_test = appa_hours.iloc[:vsplit][cols]\n",
    "\n",
    "Y_train = appa_hours.iloc[vsplit:][outs]\n",
    "Y_test = appa_hours.iloc[:vsplit][outs]"
   ]
  },
  {
   "cell_type": "code",
   "execution_count": 65,
   "metadata": {},
   "outputs": [
    {
     "data": {
      "text/html": [
       "<style>#sk-container-id-1 {color: black;background-color: white;}#sk-container-id-1 pre{padding: 0;}#sk-container-id-1 div.sk-toggleable {background-color: white;}#sk-container-id-1 label.sk-toggleable__label {cursor: pointer;display: block;width: 100%;margin-bottom: 0;padding: 0.3em;box-sizing: border-box;text-align: center;}#sk-container-id-1 label.sk-toggleable__label-arrow:before {content: \"▸\";float: left;margin-right: 0.25em;color: #696969;}#sk-container-id-1 label.sk-toggleable__label-arrow:hover:before {color: black;}#sk-container-id-1 div.sk-estimator:hover label.sk-toggleable__label-arrow:before {color: black;}#sk-container-id-1 div.sk-toggleable__content {max-height: 0;max-width: 0;overflow: hidden;text-align: left;background-color: #f0f8ff;}#sk-container-id-1 div.sk-toggleable__content pre {margin: 0.2em;color: black;border-radius: 0.25em;background-color: #f0f8ff;}#sk-container-id-1 input.sk-toggleable__control:checked~div.sk-toggleable__content {max-height: 200px;max-width: 100%;overflow: auto;}#sk-container-id-1 input.sk-toggleable__control:checked~label.sk-toggleable__label-arrow:before {content: \"▾\";}#sk-container-id-1 div.sk-estimator input.sk-toggleable__control:checked~label.sk-toggleable__label {background-color: #d4ebff;}#sk-container-id-1 div.sk-label input.sk-toggleable__control:checked~label.sk-toggleable__label {background-color: #d4ebff;}#sk-container-id-1 input.sk-hidden--visually {border: 0;clip: rect(1px 1px 1px 1px);clip: rect(1px, 1px, 1px, 1px);height: 1px;margin: -1px;overflow: hidden;padding: 0;position: absolute;width: 1px;}#sk-container-id-1 div.sk-estimator {font-family: monospace;background-color: #f0f8ff;border: 1px dotted black;border-radius: 0.25em;box-sizing: border-box;margin-bottom: 0.5em;}#sk-container-id-1 div.sk-estimator:hover {background-color: #d4ebff;}#sk-container-id-1 div.sk-parallel-item::after {content: \"\";width: 100%;border-bottom: 1px solid gray;flex-grow: 1;}#sk-container-id-1 div.sk-label:hover label.sk-toggleable__label {background-color: #d4ebff;}#sk-container-id-1 div.sk-serial::before {content: \"\";position: absolute;border-left: 1px solid gray;box-sizing: border-box;top: 0;bottom: 0;left: 50%;z-index: 0;}#sk-container-id-1 div.sk-serial {display: flex;flex-direction: column;align-items: center;background-color: white;padding-right: 0.2em;padding-left: 0.2em;position: relative;}#sk-container-id-1 div.sk-item {position: relative;z-index: 1;}#sk-container-id-1 div.sk-parallel {display: flex;align-items: stretch;justify-content: center;background-color: white;position: relative;}#sk-container-id-1 div.sk-item::before, #sk-container-id-1 div.sk-parallel-item::before {content: \"\";position: absolute;border-left: 1px solid gray;box-sizing: border-box;top: 0;bottom: 0;left: 50%;z-index: -1;}#sk-container-id-1 div.sk-parallel-item {display: flex;flex-direction: column;z-index: 1;position: relative;background-color: white;}#sk-container-id-1 div.sk-parallel-item:first-child::after {align-self: flex-end;width: 50%;}#sk-container-id-1 div.sk-parallel-item:last-child::after {align-self: flex-start;width: 50%;}#sk-container-id-1 div.sk-parallel-item:only-child::after {width: 0;}#sk-container-id-1 div.sk-dashed-wrapped {border: 1px dashed gray;margin: 0 0.4em 0.5em 0.4em;box-sizing: border-box;padding-bottom: 0.4em;background-color: white;}#sk-container-id-1 div.sk-label label {font-family: monospace;font-weight: bold;display: inline-block;line-height: 1.2em;}#sk-container-id-1 div.sk-label-container {text-align: center;}#sk-container-id-1 div.sk-container {/* jupyter's `normalize.less` sets `[hidden] { display: none; }` but bootstrap.min.css set `[hidden] { display: none !important; }` so we also need the `!important` here to be able to override the default hidden behavior on the sphinx rendered scikit-learn.org. See: https://github.com/scikit-learn/scikit-learn/issues/21755 */display: inline-block !important;position: relative;}#sk-container-id-1 div.sk-text-repr-fallback {display: none;}</style><div id=\"sk-container-id-1\" class=\"sk-top-container\"><div class=\"sk-text-repr-fallback\"><pre>RandomForestRegressor()</pre><b>In a Jupyter environment, please rerun this cell to show the HTML representation or trust the notebook. <br />On GitHub, the HTML representation is unable to render, please try loading this page with nbviewer.org.</b></div><div class=\"sk-container\" hidden><div class=\"sk-item\"><div class=\"sk-estimator sk-toggleable\"><input class=\"sk-toggleable__control sk-hidden--visually\" id=\"sk-estimator-id-1\" type=\"checkbox\" checked><label for=\"sk-estimator-id-1\" class=\"sk-toggleable__label sk-toggleable__label-arrow\">RandomForestRegressor</label><div class=\"sk-toggleable__content\"><pre>RandomForestRegressor()</pre></div></div></div></div></div>"
      ],
      "text/plain": [
       "RandomForestRegressor()"
      ]
     },
     "execution_count": 65,
     "metadata": {},
     "output_type": "execute_result"
    }
   ],
   "source": [
    "model = RandomForestRegressor()\n",
    "model.fit(X_train, Y_train)"
   ]
  },
  {
   "cell_type": "code",
   "execution_count": 138,
   "metadata": {},
   "outputs": [
    {
     "name": "stdout",
     "output_type": "stream",
     "text": [
      "Random Forest\n",
      "Median Error: 6.320622991452992 \n",
      " Mean error: 8.13927195278955\n"
     ]
    }
   ],
   "source": [
    "Y_test_pred_r = model.predict(X_test)\n",
    "\n",
    "print(\"Random Forest\")\n",
    "print(f\"Median Error: {median_absolute_error(Y_test, Y_test_pred_r)} \\n Mean error: {mean_absolute_error(Y_test, Y_test_pred_r)}\")"
   ]
  },
  {
   "cell_type": "markdown",
   "metadata": {},
   "source": [
    "# Transformers"
   ]
  },
  {
   "cell_type": "code",
   "execution_count": 19,
   "metadata": {},
   "outputs": [],
   "source": [
    "from torch.utils.data import DataLoader\n",
    "from sklearn.metrics import accuracy_score\n",
    "from sklearn import preprocessing"
   ]
  },
  {
   "cell_type": "code",
   "execution_count": 11,
   "metadata": {},
   "outputs": [
    {
     "data": {
      "text/plain": [
       "Index(['Time', 'ZnOR_1', 'ZnOR_2', 'LaFeO3_1', 'LaFeO3_2', 'WO3_1', 'WO3_2',\n",
       "       'ZnOR_heatR_1', 'ZnOR_heatR_2', 'LaFeO3_heatR_1', 'LaFeO3_heatR_2',\n",
       "       'WO3_heatR_1', 'WO3_heatR_2', 'ZnOR_heatV_1', 'ZnOR_heatV_2',\n",
       "       'LaFeO3_heatV_1', 'LaFeO3_heatV_2', 'WO3_heatV_1', 'WO3_heatV_2',\n",
       "       'Temperature', 'Relative_Humidity', 'Pressure', 'VOC', 'PM10', 'NO2',\n",
       "       'SO2', 'O3', 'CO', 'ZnOR_1_TimeSinceCreated', 'ZnOR_2_TimeSinceCreated',\n",
       "       'LaFeO3_1_TimeSinceCreated', 'LaFeO3_2_TimeSinceCreated',\n",
       "       'WO3_1_TimeSinceCreated', 'WO3_2_TimeSinceCreated'],\n",
       "      dtype='object')"
      ]
     },
     "execution_count": 11,
     "metadata": {},
     "output_type": "execute_result"
    }
   ],
   "source": [
    "appa_hours.columns"
   ]
  },
  {
   "cell_type": "code",
   "execution_count": 89,
   "metadata": {},
   "outputs": [
    {
     "data": {
      "text/plain": [
       "35"
      ]
     },
     "execution_count": 89,
     "metadata": {},
     "output_type": "execute_result"
    }
   ],
   "source": [
    "len(X[0])"
   ]
  },
  {
   "cell_type": "code",
   "execution_count": 163,
   "metadata": {},
   "outputs": [
    {
     "name": "stdout",
     "output_type": "stream",
     "text": [
      "BasicNet(\n",
      "  (conv1): Conv2d(1, 40, kernel_size=(4, 4), stride=(1, 1))\n",
      "  (conv2): Conv2d(40, 20, kernel_size=(4, 4), stride=(1, 1))\n",
      "  (conv3): Conv2d(20, 3, kernel_size=(4, 4), stride=(1, 1))\n",
      "  (fc1): Linear(in_features=1170, out_features=200, bias=True)\n",
      "  (fc2): Linear(in_features=200, out_features=150, bias=True)\n",
      "  (fc3): Linear(in_features=150, out_features=50, bias=True)\n",
      "  (fc4): Linear(in_features=50, out_features=3, bias=True)\n",
      "  (dropout1): Dropout(p=0.03, inplace=False)\n",
      "  (dropout2): Dropout(p=0.1, inplace=False)\n",
      "  (dropout3): Dropout(p=0.1, inplace=False)\n",
      ")\n"
     ]
    }
   ],
   "source": [
    "class BasicNet(nn.Module):\n",
    "    def __init__(self, in_channel):\n",
    "        super(BasicNet, self).__init__()\n",
    "        self.conv1 = nn.Conv2d(in_channels=in_channel, out_channels=40, kernel_size=(4,4))\n",
    "\n",
    "        self.conv2 = nn.Conv2d(in_channels=40, out_channels=20, kernel_size=(4, 4))\n",
    "\n",
    "        self.conv3 = nn.Conv2d(in_channels=20, out_channels=3, kernel_size=(4, 4))\n",
    "\n",
    "        self.fc1 = nn.Linear(1170, 200)\n",
    "        self.fc2 = nn.Linear(200, 150)\n",
    "        self.fc3 = nn.Linear(150, 50)\n",
    "        self.fc4 = nn.Linear(50, 3)\n",
    "\n",
    "        self.dropout1 = nn.Dropout(0.03)\n",
    "\n",
    "        self.dropout2 = nn.Dropout(0.1)\n",
    "\n",
    "        self.dropout3 = nn.Dropout(0.1)\n",
    "    def forward(self, x):\n",
    "        x = self.conv1(x)\n",
    "        x = F.relu(x)\n",
    "        x = self.conv2(x)\n",
    "        x = F.relu(x)\n",
    "        x = self.dropout2(x)\n",
    "        x = self.conv3(x)\n",
    "        x = F.relu(x)\n",
    "        x = self.dropout3(x)\n",
    "        x = self.fc1(torch.flatten(x, start_dim=1))\n",
    "        x = F.relu(x)\n",
    "        x = self.fc2(x)\n",
    "        x = self.dropout1(x)\n",
    "        x = F.relu(x)\n",
    "        x = self.fc3(x)\n",
    "        x = F.relu(x)\n",
    "        x = self.fc4(x)\n",
    "        return x\n",
    "\n",
    "basic_model = BasicNet(1)\n",
    "print(basic_model)"
   ]
  },
  {
   "cell_type": "code",
   "execution_count": 689,
   "metadata": {},
   "outputs": [
    {
     "data": {
      "text/plain": [
       "(13678, 1, 24, 28)"
      ]
     },
     "execution_count": 689,
     "metadata": {},
     "output_type": "execute_result"
    }
   ],
   "source": [
    "X.shape"
   ]
  },
  {
   "cell_type": "code",
   "execution_count": 164,
   "metadata": {},
   "outputs": [],
   "source": [
    "X = appa_hours[['ZnOR_1', 'ZnOR_2', 'LaFeO3_1', 'LaFeO3_2', 'WO3_1', 'WO3_2',\n",
    "       'ZnOR_heatR_1', 'ZnOR_heatR_2', 'LaFeO3_heatR_1', 'LaFeO3_heatR_2',\n",
    "       'WO3_heatR_1', 'WO3_heatR_2', 'ZnOR_heatV_1', 'ZnOR_heatV_2',\n",
    "       'LaFeO3_heatV_1', 'LaFeO3_heatV_2', 'WO3_heatV_1', 'WO3_heatV_2',\n",
    "       'Temperature', 'Relative_Humidity', 'Pressure', 'VOC',\n",
    "       'ZnOR_1_TimeSinceCreated', 'ZnOR_2_TimeSinceCreated',\n",
    "       'LaFeO3_1_TimeSinceCreated', 'LaFeO3_2_TimeSinceCreated',\n",
    "       'WO3_1_TimeSinceCreated', 'WO3_2_TimeSinceCreated', 'time', 'month',\n",
    "       'weekend', 'sin_time', 'cos_time', 'sin_month', 'cos_month']].to_numpy()\n",
    "Y = appa_hours[['NO2', 'O3', 'CO']].to_numpy()"
   ]
  },
  {
   "cell_type": "code",
   "execution_count": 165,
   "metadata": {},
   "outputs": [],
   "source": [
    "scalerX = preprocessing.StandardScaler().fit(X)\n",
    "X = scalerX.transform(X)\n",
    "scalerY = preprocessing.StandardScaler().fit(Y)\n",
    "Y = scalerY.transform(Y)"
   ]
  },
  {
   "cell_type": "code",
   "execution_count": 166,
   "metadata": {},
   "outputs": [
    {
     "data": {
      "text/plain": [
       "((13678, 1, 24, 35), (13701, 3))"
      ]
     },
     "execution_count": 166,
     "metadata": {},
     "output_type": "execute_result"
    }
   ],
   "source": [
    "X = np.lib.stride_tricks.sliding_window_view(X, (24,35))\n",
    "Y = Y[X.shape[1]-1:]\n",
    "(X.shape,Y.shape)"
   ]
  },
  {
   "cell_type": "code",
   "execution_count": 167,
   "metadata": {},
   "outputs": [],
   "source": [
    "data = []\n",
    "for i in range(len(X)):\n",
    "    data.append([X[i], Y[i]])"
   ]
  },
  {
   "cell_type": "code",
   "execution_count": 168,
   "metadata": {},
   "outputs": [],
   "source": [
    "vsplit = round(len(data) * 0.2)\n",
    "\n",
    "train_dl = DataLoader(data[vsplit:], batch_size=15, shuffle=True)\n",
    "test_dl = DataLoader(data[:vsplit], batch_size=15, shuffle=True)"
   ]
  },
  {
   "cell_type": "code",
   "execution_count": 169,
   "metadata": {},
   "outputs": [],
   "source": [
    "loss_hist = []\n",
    "loss_val_hist = []\n",
    "models = []\n",
    "def train_model(train_dl, model, epochs):\n",
    "    global bm, loss_hist, loss_val_hist\n",
    "    model.to(device)\n",
    "\n",
    "    best_loss = float(\"inf\")\n",
    "    # define the optimization\n",
    "    criterion = nn.L1Loss()\n",
    "    optimizer = torch.optim.SGD(basic_model.parameters(), lr=0.01, momentum=0.9)\n",
    "    # enumerate epochs\n",
    "    for epoch in range(epochs):\n",
    "        for i, (inputs, targets) in enumerate(train_dl):\n",
    "            # clear the gradients\n",
    "            optimizer.zero_grad()\n",
    "            # compute the model ou\n",
    "            yhat = model(inputs.float().to(device))\n",
    "            loss = criterion(yhat, targets.float().to(device))\n",
    "            # credit assignment\n",
    "            optimizer.zero_grad()\n",
    "            loss.backward()\n",
    "            # update model weights\n",
    "            optimizer.step()\n",
    "            \n",
    "        loss_hist.append(loss.detach().cpu().numpy().item())\n",
    "        val_loss = evaluate_model(test_dl, model)[0]\n",
    "        loss_val_hist.append(val_loss)\n",
    "        if best_loss > loss:\n",
    "            models.append([loss, val_loss, copy.deepcopy(model)])\n",
    "        print(f\"epoch {epoch} done, loss {loss} loss val {loss_val_hist[-1]}\")"
   ]
  },
  {
   "cell_type": "code",
   "execution_count": 107,
   "metadata": {},
   "outputs": [],
   "source": [
    "def evaluate_model(test_dl, model):\n",
    "    predictions, actuals = list(), list()\n",
    "    for i, (inputs, targets) in enumerate(test_dl):\n",
    "        # evaluate the model on the test set\n",
    "        yhat = model(inputs.float())\n",
    "        # retrieve numpy array\n",
    "        yhat = yhat.detach().numpy()\n",
    "        actual = targets.numpy()\n",
    "        # store\n",
    "        predictions.append(yhat)\n",
    "        actuals.append(actual)\n",
    "    predictions, actuals = np.vstack(predictions), np.vstack(actuals)\n",
    "    # calculate accuracy\n",
    "    acc = (actuals, predictions)\n",
    "    return mean_absolute_error(actuals, predictions), (predictions, actuals)"
   ]
  },
  {
   "cell_type": "code",
   "execution_count": 40,
   "metadata": {},
   "outputs": [],
   "source": [
    "import copy"
   ]
  },
  {
   "cell_type": "code",
   "execution_count": 170,
   "metadata": {},
   "outputs": [
    {
     "name": "stdout",
     "output_type": "stream",
     "text": [
      "epoch 0 done, loss 0.29924261569976807 loss val 0.8938072227935882\n",
      "epoch 1 done, loss 0.38683319091796875 loss val 0.8376559062373347\n",
      "epoch 2 done, loss 0.5346595048904419 loss val 0.7140995123201113\n",
      "epoch 3 done, loss 0.12386731058359146 loss val 0.7232434289603756\n",
      "epoch 4 done, loss 0.19551165401935577 loss val 0.7877668004058505\n",
      "epoch 5 done, loss 0.14930908381938934 loss val 0.8109596228138494\n",
      "epoch 6 done, loss 0.21536871790885925 loss val 0.7375225328273\n",
      "epoch 7 done, loss 0.337555468082428 loss val 0.7782694313670359\n",
      "epoch 8 done, loss 0.16598914563655853 loss val 0.7580844016620012\n",
      "epoch 9 done, loss 0.3032310903072357 loss val 0.7260048801636371\n",
      "epoch 10 done, loss 0.14999589323997498 loss val 0.7405578701542171\n",
      "epoch 11 done, loss 0.16136357188224792 loss val 0.7756658630787632\n",
      "epoch 12 done, loss 0.15870331227779388 loss val 0.8065899077194651\n",
      "epoch 13 done, loss 0.16079047322273254 loss val 0.8693717658720885\n",
      "epoch 14 done, loss 0.2601684629917145 loss val 0.8494393954724333\n",
      "epoch 15 done, loss 0.14621488749980927 loss val 0.869522707864761\n",
      "epoch 16 done, loss 0.24872997403144836 loss val 0.8628198196426364\n",
      "epoch 17 done, loss 0.15072311460971832 loss val 0.8784837555471023\n",
      "epoch 18 done, loss 0.1699349582195282 loss val 0.8348717365724531\n",
      "epoch 19 done, loss 0.26665884256362915 loss val 0.8024467227334137\n",
      "epoch 20 done, loss 0.20409271121025085 loss val 0.8222064253030981\n",
      "epoch 21 done, loss 0.17056119441986084 loss val 0.810592131715036\n",
      "epoch 22 done, loss 0.12023262679576874 loss val 0.8154634404704589\n",
      "epoch 23 done, loss 0.2065538614988327 loss val 0.7936970575206305\n"
     ]
    }
   ],
   "source": [
    "train_model(train_dl, basic_model, 200)"
   ]
  },
  {
   "cell_type": "code",
   "execution_count": 728,
   "metadata": {},
   "outputs": [
    {
     "data": {
      "text/plain": [
       "array([[-0.54618671,  1.06808293, -0.41565641],\n",
       "       [ 0.68755297, -0.16362373,  0.05611054],\n",
       "       [-1.16305655,  1.1450646 , -1.10662821],\n",
       "       ...,\n",
       "       [-0.93874025,  1.42733071, -0.71587175],\n",
       "       [ 1.08010651, -1.26702762,  2.34346545],\n",
       "       [ 3.26719049, -1.26702762,  4.36872761]])"
      ]
     },
     "execution_count": 728,
     "metadata": {},
     "output_type": "execute_result"
    }
   ],
   "source": [
    "from sklearn.metrics import mean_squared_error, median_absolute_error, mean_absolute_error\n",
    "evals = evaluate_model(test_dl, basic_model)[1]\n",
    "evals[1]"
   ]
  },
  {
   "cell_type": "code",
   "execution_count": 770,
   "metadata": {},
   "outputs": [
    {
     "data": {
      "text/plain": [
       "79"
      ]
     },
     "execution_count": 770,
     "metadata": {},
     "output_type": "execute_result"
    }
   ],
   "source": [
    "len(loss_hist[-79:])"
   ]
  },
  {
   "cell_type": "code",
   "execution_count": 54,
   "metadata": {},
   "outputs": [],
   "source": [
    "import math"
   ]
  },
  {
   "cell_type": "code",
   "execution_count": 55,
   "metadata": {},
   "outputs": [
    {
     "data": {
      "text/plain": [
       "array([[42.028819  , 86.78986643,  0.91610095]])"
      ]
     },
     "execution_count": 55,
     "metadata": {},
     "output_type": "execute_result"
    }
   ],
   "source": []
  },
  {
   "cell_type": "code",
   "execution_count": 122,
   "metadata": {},
   "outputs": [
    {
     "data": {
      "image/png": "[encoded data removed]",
      "text/plain": [
       "<Figure size 432x288 with 1 Axes>"
      ]
     },
     "metadata": {
      "needs_background": "light"
     },
     "output_type": "display_data"
    }
   ],
   "source": [
    "plt.plot(norm(loss_val_hist), label=\"validation\")\n",
    "plt.plot(norm(loss_hist), label=\"loss\")\n",
    "plt.legend()\n",
    "plt.show()"
   ]
  },
  {
   "cell_type": "code",
   "execution_count": 137,
   "metadata": {},
   "outputs": [
    {
     "data": {
      "text/plain": [
       "14.561535587485539"
      ]
     },
     "execution_count": 137,
     "metadata": {},
     "output_type": "execute_result"
    }
   ],
   "source": [
    "evals = evaluate_model(test_dl, max(models, key=lambda x:x[1])[2])[1]\n",
    "mean_absolute_error(scalerY.inverse_transform(evals[1]), scalerY.inverse_transform(evals[0]))"
   ]
  }
 ],
 "metadata": {
  "kernelspec": {
   "display_name": "Python 3.8.13 ('ml')",
   "language": "python",
   "name": "python3"
  },
  "language_info": {
   "codemirror_mode": {
    "name": "ipython",
    "version": 3
   },
   "file_extension": ".py",
   "mimetype": "text/x-python",
   "name": "python",
   "nbconvert_exporter": "python",
   "pygments_lexer": "ipython3",
   "version": "3.9.12"
  },
  "orig_nbformat": 4,
  "vscode": {
   "interpreter": {
    "hash": "8689fac7afca8cfd8aa85671ea19899a8f2204abddab2f8fabdacf0ec105764e"
   }
  }
 },
 "nbformat": 4,
 "nbformat_minor": 2
}
