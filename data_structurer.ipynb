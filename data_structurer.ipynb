{
 "cells": [
  {
   "cell_type": "code",
   "execution_count": 3,
   "metadata": {},
   "outputs": [],
   "source": [
    "import pandas as pd\n",
    "from matplotlib import pyplot as plt\n",
    "import locale\n",
    "from tqdm import tqdm\n",
    "import numpy as np\n",
    "import math\n",
    "from numpy import NaN"
   ]
  },
  {
   "cell_type": "code",
   "execution_count": 4,
   "metadata": {},
   "outputs": [],
   "source": [
    "def elaborate_file(file_name, sensing_material_table_file):\n",
    "    sensing_table = pd.read_csv(sensing_material_table_file)\n",
    "    raw_table = pd.read_csv(file_name)\n",
    "    # todo\n"
   ]
  },
  {
   "cell_type": "code",
   "execution_count": 5,
   "metadata": {},
   "outputs": [],
   "source": [
    "sensing_table = pd.read_csv(\"../sensing_material_appa1.csv\")\n",
    "raw_table = pd.read_csv(\"../appa1.csv\")"
   ]
  },
  {
   "cell_type": "code",
   "execution_count": 6,
   "metadata": {},
   "outputs": [],
   "source": [
    "# get the timestamp of the sensing material change date\n",
    "dates_str = sensing_table.columns.to_list()\n",
    "dates_str.remove(\"nm\")\n",
    "dates = [pd.to_datetime(x) for x in dates_str]"
   ]
  },
  {
   "cell_type": "code",
   "execution_count": 7,
   "metadata": {},
   "outputs": [],
   "source": [
    "# change raw_table ts column to timestamp\n",
    "raw_table.ts = pd.to_datetime(raw_table.ts.str.slice(start = 0, stop = 24), format = \"%a %b %d %Y %H:%M:%S\")\n",
    "NUMBER_OF_SENSORS = 8"
   ]
  },
  {
   "cell_type": "code",
   "execution_count": 8,
   "metadata": {},
   "outputs": [],
   "source": [
    "raw_table = raw_table.set_index(\"ts\")\n",
    "raw_table = raw_table.resample(\"H\").mean()\n",
    "raw_table = raw_table.reset_index(level=0)"
   ]
  },
  {
   "cell_type": "code",
   "execution_count": 9,
   "metadata": {},
   "outputs": [],
   "source": [
    "def get_sensing_mat(index_date, channel):\n",
    "    return sensing_table[dates_str[index_date]][sensing_table.nm == channel].values[0]\n",
    "\n",
    "def find_change_date(index_date_reach, channel):\n",
    "    actual_sens_mat = get_sensing_mat(index_date_reach, channel)\n",
    "    if  not '*' in actual_sens_mat:\n",
    "        return dates[index_date_reach]\n",
    "    else:\n",
    "        # find the last change\n",
    "        if get_sensing_mat(index_date_reach -1,channel) in actual_sens_mat:\n",
    "            # do the same thing on the previus cell\n",
    "            return find_change_date(index_date_reach - 1, channel)\n",
    "        else:\n",
    "            # the sensor changed channel, find the channel and do the same thing\n",
    "            channel_before = 1\n",
    "            while channel_before <= NUMBER_OF_SENSORS:\n",
    "                if get_sensing_mat(index_date_reach -1,channel_before) in actual_sens_mat:\n",
    "                    break\n",
    "                channel_before += 1\n",
    "            else:\n",
    "                raise Exception(f\"error in find previus position of sensor\\n actual index {index_date_reach} type {actual_sens_mat}\")\n",
    "            return find_change_date(index_date_reach - 1, channel_before)\n"
   ]
  },
  {
   "cell_type": "code",
   "execution_count": 12,
   "metadata": {},
   "outputs": [
    {
     "name": "stderr",
     "output_type": "stream",
     "text": [
      " 50%|████▉     | 12751/25534 [00:23<00:23, 538.13it/s] \n"
     ]
    },
    {
     "ename": "KeyboardInterrupt",
     "evalue": "",
     "output_type": "error",
     "traceback": [
      "\u001b[0;31m---------------------------------------------------------------------------\u001b[0m",
      "\u001b[0;31mKeyboardInterrupt\u001b[0m                         Traceback (most recent call last)",
      "\u001b[1;32m/home/samu/fbk/ds2/DS2/data_structurer.ipynb Cella 8\u001b[0m in \u001b[0;36m<cell line: 8>\u001b[0;34m()\u001b[0m\n\u001b[1;32m     <a href='vscode-notebook-cell:/home/samu/fbk/ds2/DS2/data_structurer.ipynb#ch0000007?line=24'>25</a>\u001b[0m         \u001b[39mcontinue\u001b[39;00m\n\u001b[1;32m     <a href='vscode-notebook-cell:/home/samu/fbk/ds2/DS2/data_structurer.ipynb#ch0000007?line=25'>26</a>\u001b[0m     \u001b[39m# for every channel add a row\u001b[39;00m\n\u001b[0;32m---> <a href='vscode-notebook-cell:/home/samu/fbk/ds2/DS2/data_structurer.ipynb#ch0000007?line=26'>27</a>\u001b[0m     append_ds\u001b[39m.\u001b[39mloc[\u001b[39mlen\u001b[39m(append_ds\u001b[39m.\u001b[39mindex)] \u001b[39m=\u001b[39m [\n\u001b[1;32m     <a href='vscode-notebook-cell:/home/samu/fbk/ds2/DS2/data_structurer.ipynb#ch0000007?line=27'>28</a>\u001b[0m         record[\u001b[39m'\u001b[39m\u001b[39mts\u001b[39m\u001b[39m'\u001b[39m],\n\u001b[1;32m     <a href='vscode-notebook-cell:/home/samu/fbk/ds2/DS2/data_structurer.ipynb#ch0000007?line=28'>29</a>\u001b[0m         actual_sensing_material[channel\u001b[39m-\u001b[39m\u001b[39m1\u001b[39m],\n\u001b[1;32m     <a href='vscode-notebook-cell:/home/samu/fbk/ds2/DS2/data_structurer.ipynb#ch0000007?line=29'>30</a>\u001b[0m         record[\u001b[39m'\u001b[39m\u001b[39mRs\u001b[39m\u001b[39m'\u001b[39m\u001b[39m+\u001b[39m\u001b[39mstr\u001b[39m(channel)],\n\u001b[1;32m     <a href='vscode-notebook-cell:/home/samu/fbk/ds2/DS2/data_structurer.ipynb#ch0000007?line=30'>31</a>\u001b[0m         record[\u001b[39m'\u001b[39m\u001b[39mRh\u001b[39m\u001b[39m'\u001b[39m\u001b[39m+\u001b[39m\u001b[39mstr\u001b[39m(channel)],\n\u001b[1;32m     <a href='vscode-notebook-cell:/home/samu/fbk/ds2/DS2/data_structurer.ipynb#ch0000007?line=31'>32</a>\u001b[0m         record[\u001b[39m'\u001b[39m\u001b[39mVh\u001b[39m\u001b[39m'\u001b[39m\u001b[39m+\u001b[39m\u001b[39mstr\u001b[39m(channel)],\n\u001b[1;32m     <a href='vscode-notebook-cell:/home/samu/fbk/ds2/DS2/data_structurer.ipynb#ch0000007?line=32'>33</a>\u001b[0m         record[\u001b[39m'\u001b[39m\u001b[39mT\u001b[39m\u001b[39m'\u001b[39m],\n\u001b[1;32m     <a href='vscode-notebook-cell:/home/samu/fbk/ds2/DS2/data_structurer.ipynb#ch0000007?line=33'>34</a>\u001b[0m         record[\u001b[39m'\u001b[39m\u001b[39mRH\u001b[39m\u001b[39m'\u001b[39m],\n\u001b[1;32m     <a href='vscode-notebook-cell:/home/samu/fbk/ds2/DS2/data_structurer.ipynb#ch0000007?line=34'>35</a>\u001b[0m         record[\u001b[39m'\u001b[39m\u001b[39mP\u001b[39m\u001b[39m'\u001b[39m],\n\u001b[1;32m     <a href='vscode-notebook-cell:/home/samu/fbk/ds2/DS2/data_structurer.ipynb#ch0000007?line=35'>36</a>\u001b[0m         math\u001b[39m.\u001b[39mcos(record[\u001b[39m'\u001b[39m\u001b[39mts\u001b[39m\u001b[39m'\u001b[39m]\u001b[39m.\u001b[39mhour) \u001b[39m*\u001b[39m \u001b[39m2\u001b[39m \u001b[39m*\u001b[39m (math\u001b[39m.\u001b[39mpi \u001b[39m/\u001b[39m \u001b[39m24\u001b[39m),\n\u001b[1;32m     <a href='vscode-notebook-cell:/home/samu/fbk/ds2/DS2/data_structurer.ipynb#ch0000007?line=36'>37</a>\u001b[0m         math\u001b[39m.\u001b[39msin(record[\u001b[39m'\u001b[39m\u001b[39mts\u001b[39m\u001b[39m'\u001b[39m]\u001b[39m.\u001b[39mhour) \u001b[39m*\u001b[39m \u001b[39m2\u001b[39m \u001b[39m*\u001b[39m (math\u001b[39m.\u001b[39mpi \u001b[39m/\u001b[39m \u001b[39m24\u001b[39m),\n\u001b[1;32m     <a href='vscode-notebook-cell:/home/samu/fbk/ds2/DS2/data_structurer.ipynb#ch0000007?line=37'>38</a>\u001b[0m         math\u001b[39m.\u001b[39mcos(record[\u001b[39m'\u001b[39m\u001b[39mts\u001b[39m\u001b[39m'\u001b[39m]\u001b[39m.\u001b[39mmonth) \u001b[39m*\u001b[39m \u001b[39m2\u001b[39m \u001b[39m*\u001b[39m (math\u001b[39m.\u001b[39mpi \u001b[39m/\u001b[39m \u001b[39m12\u001b[39m),\n\u001b[1;32m     <a href='vscode-notebook-cell:/home/samu/fbk/ds2/DS2/data_structurer.ipynb#ch0000007?line=38'>39</a>\u001b[0m         math\u001b[39m.\u001b[39msin(record[\u001b[39m'\u001b[39m\u001b[39mts\u001b[39m\u001b[39m'\u001b[39m]\u001b[39m.\u001b[39mmonth) \u001b[39m*\u001b[39m \u001b[39m2\u001b[39m \u001b[39m*\u001b[39m (math\u001b[39m.\u001b[39mpi \u001b[39m/\u001b[39m \u001b[39m12\u001b[39m),\n\u001b[1;32m     <a href='vscode-notebook-cell:/home/samu/fbk/ds2/DS2/data_structurer.ipynb#ch0000007?line=39'>40</a>\u001b[0m         record[\u001b[39m'\u001b[39m\u001b[39mts\u001b[39m\u001b[39m'\u001b[39m]\u001b[39m.\u001b[39myear,\n\u001b[1;32m     <a href='vscode-notebook-cell:/home/samu/fbk/ds2/DS2/data_structurer.ipynb#ch0000007?line=40'>41</a>\u001b[0m         record[\u001b[39m'\u001b[39m\u001b[39mts\u001b[39m\u001b[39m'\u001b[39m] \u001b[39m-\u001b[39m last_change_date[channel\u001b[39m-\u001b[39m\u001b[39m1\u001b[39m]\n\u001b[1;32m     <a href='vscode-notebook-cell:/home/samu/fbk/ds2/DS2/data_structurer.ipynb#ch0000007?line=41'>42</a>\u001b[0m     ]\n\u001b[1;32m     <a href='vscode-notebook-cell:/home/samu/fbk/ds2/DS2/data_structurer.ipynb#ch0000007?line=42'>43</a>\u001b[0m new_data \u001b[39m=\u001b[39m new_data\u001b[39m.\u001b[39mappend(append_ds)\n",
      "File \u001b[0;32m/usr/lib64/python3.10/site-packages/pandas/core/indexing.py:723\u001b[0m, in \u001b[0;36m_LocationIndexer.__setitem__\u001b[0;34m(self, key, value)\u001b[0m\n\u001b[1;32m    720\u001b[0m \u001b[39mself\u001b[39m\u001b[39m.\u001b[39m_has_valid_setitem_indexer(key)\n\u001b[1;32m    722\u001b[0m iloc \u001b[39m=\u001b[39m \u001b[39mself\u001b[39m \u001b[39mif\u001b[39;00m \u001b[39mself\u001b[39m\u001b[39m.\u001b[39mname \u001b[39m==\u001b[39m \u001b[39m\"\u001b[39m\u001b[39miloc\u001b[39m\u001b[39m\"\u001b[39m \u001b[39melse\u001b[39;00m \u001b[39mself\u001b[39m\u001b[39m.\u001b[39mobj\u001b[39m.\u001b[39miloc\n\u001b[0;32m--> 723\u001b[0m iloc\u001b[39m.\u001b[39;49m_setitem_with_indexer(indexer, value, \u001b[39mself\u001b[39;49m\u001b[39m.\u001b[39;49mname)\n",
      "File \u001b[0;32m/usr/lib64/python3.10/site-packages/pandas/core/indexing.py:1724\u001b[0m, in \u001b[0;36m_iLocIndexer._setitem_with_indexer\u001b[0;34m(self, indexer, value, name)\u001b[0m\n\u001b[1;32m   1721\u001b[0m     indexer, missing \u001b[39m=\u001b[39m convert_missing_indexer(indexer)\n\u001b[1;32m   1723\u001b[0m     \u001b[39mif\u001b[39;00m missing:\n\u001b[0;32m-> 1724\u001b[0m         \u001b[39mself\u001b[39;49m\u001b[39m.\u001b[39;49m_setitem_with_indexer_missing(indexer, value)\n\u001b[1;32m   1725\u001b[0m         \u001b[39mreturn\u001b[39;00m\n\u001b[1;32m   1727\u001b[0m \u001b[39m# align and set the values\u001b[39;00m\n",
      "File \u001b[0;32m/usr/lib64/python3.10/site-packages/pandas/core/indexing.py:2031\u001b[0m, in \u001b[0;36m_iLocIndexer._setitem_with_indexer_missing\u001b[0;34m(self, indexer, value)\u001b[0m\n\u001b[1;32m   2027\u001b[0m             \u001b[39mraise\u001b[39;00m \u001b[39mValueError\u001b[39;00m(\u001b[39m\"\u001b[39m\u001b[39mcannot set a row with mismatched columns\u001b[39m\u001b[39m\"\u001b[39m)\n\u001b[1;32m   2029\u001b[0m     value \u001b[39m=\u001b[39m Series(value, index\u001b[39m=\u001b[39m\u001b[39mself\u001b[39m\u001b[39m.\u001b[39mobj\u001b[39m.\u001b[39mcolumns, name\u001b[39m=\u001b[39mindexer)\n\u001b[0;32m-> 2031\u001b[0m \u001b[39mself\u001b[39m\u001b[39m.\u001b[39mobj\u001b[39m.\u001b[39m_mgr \u001b[39m=\u001b[39m \u001b[39mself\u001b[39;49m\u001b[39m.\u001b[39;49mobj\u001b[39m.\u001b[39;49mappend(value)\u001b[39m.\u001b[39m_mgr\n\u001b[1;32m   2032\u001b[0m \u001b[39mself\u001b[39m\u001b[39m.\u001b[39mobj\u001b[39m.\u001b[39m_maybe_update_cacher(clear\u001b[39m=\u001b[39m\u001b[39mTrue\u001b[39;00m)\n",
      "File \u001b[0;32m/usr/lib64/python3.10/site-packages/pandas/core/frame.py:8945\u001b[0m, in \u001b[0;36mDataFrame.append\u001b[0;34m(self, other, ignore_index, verify_integrity, sort)\u001b[0m\n\u001b[1;32m   8940\u001b[0m idx_diff \u001b[39m=\u001b[39m other\u001b[39m.\u001b[39mindex\u001b[39m.\u001b[39mdifference(\u001b[39mself\u001b[39m\u001b[39m.\u001b[39mcolumns)\n\u001b[1;32m   8941\u001b[0m combined_columns \u001b[39m=\u001b[39m \u001b[39mself\u001b[39m\u001b[39m.\u001b[39mcolumns\u001b[39m.\u001b[39mappend(idx_diff)\n\u001b[1;32m   8942\u001b[0m other \u001b[39m=\u001b[39m (\n\u001b[1;32m   8943\u001b[0m     other\u001b[39m.\u001b[39;49mreindex(combined_columns, copy\u001b[39m=\u001b[39;49m\u001b[39mFalse\u001b[39;49;00m)\n\u001b[1;32m   8944\u001b[0m     \u001b[39m.\u001b[39;49mto_frame()\n\u001b[0;32m-> 8945\u001b[0m     \u001b[39m.\u001b[39;49mT\u001b[39m.\u001b[39;49minfer_objects()\n\u001b[1;32m   8946\u001b[0m     \u001b[39m.\u001b[39mrename_axis(index\u001b[39m.\u001b[39mnames, copy\u001b[39m=\u001b[39m\u001b[39mFalse\u001b[39;00m)\n\u001b[1;32m   8947\u001b[0m )\n\u001b[1;32m   8948\u001b[0m \u001b[39mif\u001b[39;00m \u001b[39mnot\u001b[39;00m \u001b[39mself\u001b[39m\u001b[39m.\u001b[39mcolumns\u001b[39m.\u001b[39mequals(combined_columns):\n\u001b[1;32m   8949\u001b[0m     \u001b[39mself\u001b[39m \u001b[39m=\u001b[39m \u001b[39mself\u001b[39m\u001b[39m.\u001b[39mreindex(columns\u001b[39m=\u001b[39mcombined_columns)\n",
      "File \u001b[0;32m/usr/lib64/python3.10/site-packages/pandas/core/generic.py:6030\u001b[0m, in \u001b[0;36mNDFrame.infer_objects\u001b[0;34m(self)\u001b[0m\n\u001b[1;32m   5989\u001b[0m \u001b[39m\"\"\"\u001b[39;00m\n\u001b[1;32m   5990\u001b[0m \u001b[39mAttempt to infer better dtypes for object columns.\u001b[39;00m\n\u001b[1;32m   5991\u001b[0m \n\u001b[0;32m   (...)\u001b[0m\n\u001b[1;32m   6024\u001b[0m \u001b[39mdtype: object\u001b[39;00m\n\u001b[1;32m   6025\u001b[0m \u001b[39m\"\"\"\u001b[39;00m\n\u001b[1;32m   6026\u001b[0m \u001b[39m# numeric=False necessary to only soft convert;\u001b[39;00m\n\u001b[1;32m   6027\u001b[0m \u001b[39m# python objects will still be converted to\u001b[39;00m\n\u001b[1;32m   6028\u001b[0m \u001b[39m# native numpy numeric types\u001b[39;00m\n\u001b[1;32m   6029\u001b[0m \u001b[39mreturn\u001b[39;00m \u001b[39mself\u001b[39m\u001b[39m.\u001b[39m_constructor(\n\u001b[0;32m-> 6030\u001b[0m     \u001b[39mself\u001b[39;49m\u001b[39m.\u001b[39;49m_mgr\u001b[39m.\u001b[39;49mconvert(datetime\u001b[39m=\u001b[39;49m\u001b[39mTrue\u001b[39;49;00m, numeric\u001b[39m=\u001b[39;49m\u001b[39mFalse\u001b[39;49;00m, timedelta\u001b[39m=\u001b[39;49m\u001b[39mTrue\u001b[39;49;00m, copy\u001b[39m=\u001b[39;49m\u001b[39mTrue\u001b[39;49;00m)\n\u001b[1;32m   6031\u001b[0m )\u001b[39m.\u001b[39m__finalize__(\u001b[39mself\u001b[39m, method\u001b[39m=\u001b[39m\u001b[39m\"\u001b[39m\u001b[39minfer_objects\u001b[39m\u001b[39m\"\u001b[39m)\n",
      "File \u001b[0;32m/usr/lib64/python3.10/site-packages/pandas/core/internals/managers.py:427\u001b[0m, in \u001b[0;36mBaseBlockManager.convert\u001b[0;34m(self, copy, datetime, numeric, timedelta)\u001b[0m\n\u001b[1;32m    420\u001b[0m \u001b[39mdef\u001b[39;00m \u001b[39mconvert\u001b[39m(\n\u001b[1;32m    421\u001b[0m     \u001b[39mself\u001b[39m: T,\n\u001b[1;32m    422\u001b[0m     copy: \u001b[39mbool\u001b[39m \u001b[39m=\u001b[39m \u001b[39mTrue\u001b[39;00m,\n\u001b[0;32m   (...)\u001b[0m\n\u001b[1;32m    425\u001b[0m     timedelta: \u001b[39mbool\u001b[39m \u001b[39m=\u001b[39m \u001b[39mTrue\u001b[39;00m,\n\u001b[1;32m    426\u001b[0m ) \u001b[39m-\u001b[39m\u001b[39m>\u001b[39m T:\n\u001b[0;32m--> 427\u001b[0m     \u001b[39mreturn\u001b[39;00m \u001b[39mself\u001b[39;49m\u001b[39m.\u001b[39;49mapply(\n\u001b[1;32m    428\u001b[0m         \u001b[39m\"\u001b[39;49m\u001b[39mconvert\u001b[39;49m\u001b[39m\"\u001b[39;49m,\n\u001b[1;32m    429\u001b[0m         copy\u001b[39m=\u001b[39;49mcopy,\n\u001b[1;32m    430\u001b[0m         datetime\u001b[39m=\u001b[39;49mdatetime,\n\u001b[1;32m    431\u001b[0m         numeric\u001b[39m=\u001b[39;49mnumeric,\n\u001b[1;32m    432\u001b[0m         timedelta\u001b[39m=\u001b[39;49mtimedelta,\n\u001b[1;32m    433\u001b[0m     )\n",
      "File \u001b[0;32m/usr/lib64/python3.10/site-packages/pandas/core/internals/managers.py:327\u001b[0m, in \u001b[0;36mBaseBlockManager.apply\u001b[0;34m(self, f, align_keys, ignore_failures, **kwargs)\u001b[0m\n\u001b[1;32m    325\u001b[0m         applied \u001b[39m=\u001b[39m b\u001b[39m.\u001b[39mapply(f, \u001b[39m*\u001b[39m\u001b[39m*\u001b[39mkwargs)\n\u001b[1;32m    326\u001b[0m     \u001b[39melse\u001b[39;00m:\n\u001b[0;32m--> 327\u001b[0m         applied \u001b[39m=\u001b[39m \u001b[39mgetattr\u001b[39;49m(b, f)(\u001b[39m*\u001b[39;49m\u001b[39m*\u001b[39;49mkwargs)\n\u001b[1;32m    328\u001b[0m \u001b[39mexcept\u001b[39;00m (\u001b[39mTypeError\u001b[39;00m, \u001b[39mNotImplementedError\u001b[39;00m):\n\u001b[1;32m    329\u001b[0m     \u001b[39mif\u001b[39;00m \u001b[39mnot\u001b[39;00m ignore_failures:\n",
      "File \u001b[0;32m/usr/lib64/python3.10/site-packages/pandas/core/internals/blocks.py:141\u001b[0m, in \u001b[0;36mmaybe_split.<locals>.newfunc\u001b[0;34m(self, *args, **kwargs)\u001b[0m\n\u001b[1;32m    138\u001b[0m     \u001b[39mreturn\u001b[39;00m meth(\u001b[39mself\u001b[39m, \u001b[39m*\u001b[39margs, \u001b[39m*\u001b[39m\u001b[39m*\u001b[39mkwargs)\n\u001b[1;32m    139\u001b[0m \u001b[39melse\u001b[39;00m:\n\u001b[1;32m    140\u001b[0m     \u001b[39m# Split and operate column-by-column\u001b[39;00m\n\u001b[0;32m--> 141\u001b[0m     \u001b[39mreturn\u001b[39;00m \u001b[39mself\u001b[39;49m\u001b[39m.\u001b[39;49msplit_and_operate(meth, \u001b[39m*\u001b[39;49margs, \u001b[39m*\u001b[39;49m\u001b[39m*\u001b[39;49mkwargs)\n",
      "File \u001b[0;32m/usr/lib64/python3.10/site-packages/pandas/core/internals/blocks.py:505\u001b[0m, in \u001b[0;36mBlock.split_and_operate\u001b[0;34m(self, func, *args, **kwargs)\u001b[0m\n\u001b[1;32m    503\u001b[0m res_blocks \u001b[39m=\u001b[39m []\n\u001b[1;32m    504\u001b[0m \u001b[39mfor\u001b[39;00m nb \u001b[39min\u001b[39;00m \u001b[39mself\u001b[39m\u001b[39m.\u001b[39m_split():\n\u001b[0;32m--> 505\u001b[0m     rbs \u001b[39m=\u001b[39m func(nb, \u001b[39m*\u001b[39;49margs, \u001b[39m*\u001b[39;49m\u001b[39m*\u001b[39;49mkwargs)\n\u001b[1;32m    506\u001b[0m     res_blocks\u001b[39m.\u001b[39mextend(rbs)\n\u001b[1;32m    507\u001b[0m \u001b[39mreturn\u001b[39;00m res_blocks\n",
      "File \u001b[0;32m/usr/lib64/python3.10/site-packages/pandas/core/internals/blocks.py:1832\u001b[0m, in \u001b[0;36mObjectBlock.convert\u001b[0;34m(self, copy, datetime, numeric, timedelta)\u001b[0m\n\u001b[1;32m   1820\u001b[0m \u001b[39m@maybe_split\u001b[39m\n\u001b[1;32m   1821\u001b[0m \u001b[39mdef\u001b[39;00m \u001b[39mconvert\u001b[39m(\n\u001b[1;32m   1822\u001b[0m     \u001b[39mself\u001b[39m,\n\u001b[0;32m   (...)\u001b[0m\n\u001b[1;32m   1826\u001b[0m     timedelta: \u001b[39mbool\u001b[39m \u001b[39m=\u001b[39m \u001b[39mTrue\u001b[39;00m,\n\u001b[1;32m   1827\u001b[0m ) \u001b[39m-\u001b[39m\u001b[39m>\u001b[39m \u001b[39mlist\u001b[39m[Block]:\n\u001b[1;32m   1828\u001b[0m     \u001b[39m\"\"\"\u001b[39;00m\n\u001b[1;32m   1829\u001b[0m \u001b[39m    attempt to cast any object types to better types return a copy of\u001b[39;00m\n\u001b[1;32m   1830\u001b[0m \u001b[39m    the block (if copy = True) by definition we ARE an ObjectBlock!!!!!\u001b[39;00m\n\u001b[1;32m   1831\u001b[0m \u001b[39m    \"\"\"\u001b[39;00m\n\u001b[0;32m-> 1832\u001b[0m     res_values \u001b[39m=\u001b[39m soft_convert_objects(\n\u001b[1;32m   1833\u001b[0m         \u001b[39mself\u001b[39;49m\u001b[39m.\u001b[39;49mvalues\u001b[39m.\u001b[39;49mravel(),\n\u001b[1;32m   1834\u001b[0m         datetime\u001b[39m=\u001b[39;49mdatetime,\n\u001b[1;32m   1835\u001b[0m         numeric\u001b[39m=\u001b[39;49mnumeric,\n\u001b[1;32m   1836\u001b[0m         timedelta\u001b[39m=\u001b[39;49mtimedelta,\n\u001b[1;32m   1837\u001b[0m         copy\u001b[39m=\u001b[39;49mcopy,\n\u001b[1;32m   1838\u001b[0m     )\n\u001b[1;32m   1839\u001b[0m     res_values \u001b[39m=\u001b[39m ensure_block_shape(res_values, \u001b[39mself\u001b[39m\u001b[39m.\u001b[39mndim)\n\u001b[1;32m   1840\u001b[0m     \u001b[39mreturn\u001b[39;00m [\u001b[39mself\u001b[39m\u001b[39m.\u001b[39mmake_block(res_values)]\n",
      "File \u001b[0;32m/usr/lib64/python3.10/site-packages/pandas/core/dtypes/cast.py:1360\u001b[0m, in \u001b[0;36msoft_convert_objects\u001b[0;34m(values, datetime, numeric, timedelta, period, copy)\u001b[0m\n\u001b[1;32m   1356\u001b[0m \u001b[39mif\u001b[39;00m datetime \u001b[39mor\u001b[39;00m timedelta:\n\u001b[1;32m   1357\u001b[0m     \u001b[39m# GH 20380, when datetime is beyond year 2262, hence outside\u001b[39;00m\n\u001b[1;32m   1358\u001b[0m     \u001b[39m# bound of nanosecond-resolution 64-bit integers.\u001b[39;00m\n\u001b[1;32m   1359\u001b[0m     \u001b[39mtry\u001b[39;00m:\n\u001b[0;32m-> 1360\u001b[0m         converted \u001b[39m=\u001b[39m lib\u001b[39m.\u001b[39;49mmaybe_convert_objects(\n\u001b[1;32m   1361\u001b[0m             values,\n\u001b[1;32m   1362\u001b[0m             convert_datetime\u001b[39m=\u001b[39;49mdatetime,\n\u001b[1;32m   1363\u001b[0m             convert_timedelta\u001b[39m=\u001b[39;49mtimedelta,\n\u001b[1;32m   1364\u001b[0m             convert_period\u001b[39m=\u001b[39;49mperiod,\n\u001b[1;32m   1365\u001b[0m         )\n\u001b[1;32m   1366\u001b[0m     \u001b[39mexcept\u001b[39;00m (OutOfBoundsDatetime, \u001b[39mValueError\u001b[39;00m):\n\u001b[1;32m   1367\u001b[0m         \u001b[39mreturn\u001b[39;00m values\n",
      "\u001b[0;31mKeyboardInterrupt\u001b[0m: "
     ]
    }
   ],
   "source": [
    "\n",
    "columns = ['ts','sensing_,material','signal_res','heater_res','heater_V','T','RH','P','time_cos','time_sin','date_cos','date_sin','Y','age']\n",
    "new_data = pd.DataFrame(columns=columns)\n",
    "\n",
    "last_change_date = [dates[0] for _ in range(NUMBER_OF_SENSORS)]\n",
    "index_date_reached = 0\n",
    "actual_sensing_material = [get_sensing_mat(0,i) for i in range(1,NUMBER_OF_SENSORS + 1)]\n",
    "\n",
    "for index, record in tqdm(raw_table.iterrows(), total = raw_table.shape[0]):\n",
    "    if record.ts.date() < dates[0].date():\n",
    "        # skip all data before sensor changing(and sensing mat knowing)\n",
    "        continue\n",
    "\n",
    "    if index_date_reached != len(dates) and record.ts.date() == dates[index_date_reached+1].date():\n",
    "        # reached sensing material change day\n",
    "        index_date_reached += 1\n",
    "        for channel in range(NUMBER_OF_SENSORS):\n",
    "            last_change_date[channel] = find_change_date(index_date_reached, channel+1)\n",
    "\n",
    "        # update the sensing material array\n",
    "        actual_sensing_material = [get_sensing_mat(index_date_reached,i) for i in range(1,NUMBER_OF_SENSORS + 1)]\n",
    "\n",
    "    append_ds = pd.DataFrame(columns=columns)\n",
    "    for channel in range(1,NUMBER_OF_SENSORS + 1):\n",
    "        if record[\"Rs\"+str(channel)] == np.NaN:\n",
    "            continue\n",
    "        # for every channel add a row\n",
    "        append_ds.loc[len(append_ds.index)] = [\n",
    "            record['ts'],\n",
    "            actual_sensing_material[channel-1].replace(\"*\",\"\"),\n",
    "            record['Rs'+str(channel)],\n",
    "            record['Rh'+str(channel)],\n",
    "            record['Vh'+str(channel)],\n",
    "            record['T'],\n",
    "            record['RH'],\n",
    "            record['P'],\n",
    "            math.cos(record['ts'].hour) * 2 * (math.pi / 24),\n",
    "            math.sin(record['ts'].hour) * 2 * (math.pi / 24),\n",
    "            math.cos(record['ts'].month) * 2 * (math.pi / 12),\n",
    "            math.sin(record['ts'].month) * 2 * (math.pi / 12),\n",
    "            record['ts'].year,\n",
    "            record['ts'] - last_change_date[channel-1]\n",
    "        ]\n",
    "    new_data = new_data.append(append_ds)\n"
   ]
  },
  {
   "cell_type": "code",
   "execution_count": 11,
   "metadata": {},
   "outputs": [
    {
     "name": "stdout",
     "output_type": "stream",
     "text": [
      "           ts sensing_,material       signal_res  heater_res  heater_V      T  \\\n",
      "0  2021-01-13              ZnOR              NaN         NaN       NaN    NaN   \n",
      "1  2021-01-13              ZnOR              NaN         NaN       NaN    NaN   \n",
      "2  2021-01-13            LaFeO3              NaN         NaN       NaN    NaN   \n",
      "3  2021-01-13            LaFeO3              NaN         NaN       NaN    NaN   \n",
      "4  2021-01-13               WO3              NaN         NaN       NaN    NaN   \n",
      "..        ...               ...              ...         ...       ...    ...   \n",
      "3  2022-04-19              WO3*  48403051.966667      127.42  2.400167  45.66   \n",
      "4  2022-04-19             ZnOR*      355588748.8  121.931667  3.980667  45.66   \n",
      "5  2022-04-19             ZnOR*      365193468.8  120.658333  3.985167  45.66   \n",
      "6  2022-04-19           SmFeO3*       39482509.8   96.103333  3.579833  45.66   \n",
      "7  2022-04-19              STN*      198154600.8  111.623333     4.263  45.66   \n",
      "\n",
      "          RH      P  time_cos  time_sin  date_cos  date_sin     Y      age  \n",
      "0        NaN    NaN  0.261799       0.0  0.282902  0.440593  2021   0 days  \n",
      "1        NaN    NaN  0.261799       0.0  0.282902  0.440593  2021   0 days  \n",
      "2        NaN    NaN  0.261799       0.0  0.282902  0.440593  2021   0 days  \n",
      "3        NaN    NaN  0.261799       0.0  0.282902  0.440593  2021   0 days  \n",
      "4        NaN    NaN  0.261799       0.0  0.282902  0.440593  2021   0 days  \n",
      "..       ...    ...       ...       ...       ...       ...   ...      ...  \n",
      "3   6.336667  989.7  0.261799       0.0 -0.342247 -0.396261  2022 355 days  \n",
      "4   6.336667  989.7  0.261799       0.0 -0.342247 -0.396261  2022 461 days  \n",
      "5   6.336667  989.7  0.261799       0.0 -0.342247 -0.396261  2022 461 days  \n",
      "6   6.336667  989.7  0.261799       0.0 -0.342247 -0.396261  2022  95 days  \n",
      "7   6.336667  989.7  0.261799       0.0 -0.342247 -0.396261  2022 293 days  \n",
      "\n",
      "[88520 rows x 14 columns]\n"
     ]
    }
   ],
   "source": [
    "print(new_data)\n",
    "new_data.to_csv(\"../appa1_new.csv\", index = False)"
   ]
  },
  {
   "cell_type": "code",
   "execution_count": null,
   "metadata": {},
   "outputs": [],
   "source": []
  }
 ],
 "metadata": {
  "kernelspec": {
   "display_name": "Python 3.10.5 64-bit",
   "language": "python",
   "name": "python3"
  },
  "language_info": {
   "codemirror_mode": {
    "name": "ipython",
    "version": 3
   },
   "file_extension": ".py",
   "mimetype": "text/x-python",
   "name": "python",
   "nbconvert_exporter": "python",
   "pygments_lexer": "ipython3",
   "version": "3.10.5"
  },
  "orig_nbformat": 4,
  "vscode": {
   "interpreter": {
    "hash": "e7370f93d1d0cde622a1f8e1c04877d8463912d04d973331ad4851f04de6915a"
   }
  }
 },
 "nbformat": 4,
 "nbformat_minor": 2
}
