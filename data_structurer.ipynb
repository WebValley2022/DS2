{
 "cells": [
  {
   "cell_type": "code",
   "execution_count": 3,
   "metadata": {},
   "outputs": [],
   "source": [
    "import pandas as pd\n",
    "from matplotlib import pyplot as plt\n",
    "import locale\n",
    "from tqdm import tqdm\n",
    "import numpy as np\n",
    "import math\n",
    "from numpy import NaN"
   ]
  },
  {
   "cell_type": "code",
   "execution_count": 4,
   "metadata": {},
   "outputs": [],
   "source": [
    "def elaborate_file(file_name, sensing_material_table_file):\n",
    "    sensing_table = pd.read_csv(sensing_material_table_file)\n",
    "    raw_table = pd.read_csv(file_name)\n",
    "    # todo\n"
   ]
  },
  {
   "cell_type": "code",
   "execution_count": 5,
   "metadata": {},
   "outputs": [],
   "source": [
    "sensing_table = pd.read_csv(\"../sensing_material_appa1.csv\")\n",
    "raw_table = pd.read_csv(\"../appa1.csv\")"
   ]
  },
  {
   "cell_type": "code",
   "execution_count": 6,
   "metadata": {},
   "outputs": [],
   "source": [
    "# get the timestamp of the sensing material change date\n",
    "dates_str = sensing_table.columns.to_list()\n",
    "dates_str.remove(\"nm\")\n",
    "dates = [pd.to_datetime(x) for x in dates_str]"
   ]
  },
  {
   "cell_type": "code",
   "execution_count": 7,
   "metadata": {},
   "outputs": [],
   "source": [
    "# change raw_table ts column to timestamp\n",
    "raw_table.ts = pd.to_datetime(raw_table.ts.str.slice(start = 0, stop = 24), format = \"%a %b %d %Y %H:%M:%S\")\n",
    "NUMBER_OF_SENSORS = 8"
   ]
  },
  {
   "cell_type": "code",
   "execution_count": 8,
   "metadata": {},
   "outputs": [],
   "source": [
    "raw_table = raw_table.set_index(\"ts\")\n",
    "raw_table = raw_table.resample(\"H\").mean()\n",
    "raw_table = raw_table.reset_index(level=0)"
   ]
  },
  {
   "cell_type": "code",
   "execution_count": 9,
   "metadata": {},
   "outputs": [],
   "source": [
    "def get_sensing_mat(index_date, channel):\n",
    "    return sensing_table[dates_str[index_date]][sensing_table.nm == channel].values[0]\n",
    "\n",
    "def find_change_date(index_date_reach, channel):\n",
    "    actual_sens_mat = get_sensing_mat(index_date_reach, channel)\n",
    "    if  not '*' in actual_sens_mat:\n",
    "        return dates[index_date_reach]\n",
    "    else:\n",
    "        # find the last change\n",
    "        if get_sensing_mat(index_date_reach -1,channel) in actual_sens_mat:\n",
    "            # do the same thing on the previus cell\n",
    "            return find_change_date(index_date_reach - 1, channel)\n",
    "        else:\n",
    "            # the sensor changed channel, find the channel and do the same thing\n",
    "            channel_before = 1\n",
    "            while channel_before <= NUMBER_OF_SENSORS:\n",
    "                if get_sensing_mat(index_date_reach -1,channel_before) in actual_sens_mat:\n",
    "                    break\n",
    "                channel_before += 1\n",
    "            else:\n",
    "                raise Exception(f\"error in find previus position of sensor\\n actual index {index_date_reach} type {actual_sens_mat}\")\n",
    "            return find_change_date(index_date_reach - 1, channel_before)\n"
   ]
  },
  {
   "cell_type": "code",
   "execution_count": 10,
   "metadata": {},
   "outputs": [
    {
     "name": "stderr",
     "output_type": "stream",
     "text": [
      "  0%|          | 0/25534 [00:00<?, ?it/s]/tmp/ipykernel_4438/895334185.py:9: FutureWarning: Comparison of Timestamp with datetime.date is deprecated in order to match the standard library behavior.  In a future version these will be considered non-comparable.Use 'ts == pd.Timestamp(date)' or 'ts.date() == date' instead.\n",
      "  if record.ts.date() < pd.Timestamp(dates[0]):\n",
      " 91%|█████████ | 23192/25534 [10:19<01:02, 37.43it/s]  \n"
     ]
    },
    {
     "ename": "IndexError",
     "evalue": "list index out of range",
     "output_type": "error",
     "traceback": [
      "\u001b[0;31m---------------------------------------------------------------------------\u001b[0m",
      "\u001b[0;31mIndexError\u001b[0m                                Traceback (most recent call last)",
      "\u001b[1;32m/home/samu/fbk/ds2/DS2/data_structurer.ipynb Cella 8\u001b[0m in \u001b[0;36m<cell line: 8>\u001b[0;34m()\u001b[0m\n\u001b[1;32m      <a href='vscode-notebook-cell:/home/samu/fbk/ds2/DS2/data_structurer.ipynb#ch0000007?line=8'>9</a>\u001b[0m \u001b[39mif\u001b[39;00m record\u001b[39m.\u001b[39mts\u001b[39m.\u001b[39mdate() \u001b[39m<\u001b[39m pd\u001b[39m.\u001b[39mTimestamp(dates[\u001b[39m0\u001b[39m]):\n\u001b[1;32m     <a href='vscode-notebook-cell:/home/samu/fbk/ds2/DS2/data_structurer.ipynb#ch0000007?line=9'>10</a>\u001b[0m     \u001b[39m# skip all data before sensor changing(and sensing mat knowing)\u001b[39;00m\n\u001b[1;32m     <a href='vscode-notebook-cell:/home/samu/fbk/ds2/DS2/data_structurer.ipynb#ch0000007?line=10'>11</a>\u001b[0m     \u001b[39mcontinue\u001b[39;00m\n\u001b[0;32m---> <a href='vscode-notebook-cell:/home/samu/fbk/ds2/DS2/data_structurer.ipynb#ch0000007?line=12'>13</a>\u001b[0m \u001b[39mif\u001b[39;00m record\u001b[39m.\u001b[39mts\u001b[39m.\u001b[39mdate() \u001b[39m==\u001b[39m dates[index_date_reached\u001b[39m+\u001b[39m\u001b[39m1\u001b[39m]\u001b[39m.\u001b[39mdate():\n\u001b[1;32m     <a href='vscode-notebook-cell:/home/samu/fbk/ds2/DS2/data_structurer.ipynb#ch0000007?line=13'>14</a>\u001b[0m     \u001b[39m# reached sensing material change day\u001b[39;00m\n\u001b[1;32m     <a href='vscode-notebook-cell:/home/samu/fbk/ds2/DS2/data_structurer.ipynb#ch0000007?line=14'>15</a>\u001b[0m     index_date_reached \u001b[39m+\u001b[39m\u001b[39m=\u001b[39m \u001b[39m1\u001b[39m\n\u001b[1;32m     <a href='vscode-notebook-cell:/home/samu/fbk/ds2/DS2/data_structurer.ipynb#ch0000007?line=15'>16</a>\u001b[0m     \u001b[39mfor\u001b[39;00m channel \u001b[39min\u001b[39;00m \u001b[39mrange\u001b[39m(NUMBER_OF_SENSORS):\n",
      "\u001b[0;31mIndexError\u001b[0m: list index out of range"
     ]
    }
   ],
   "source": [
    "\n",
    "columns = ['ts','sensing_,material','signal_res','heater_res','heater_V','T','RH','P','time_cos','time_sin','date_cos','date_sin','Y','age']\n",
    "new_data = pd.DataFrame(columns=columns)\n",
    "\n",
    "last_change_date = [dates[0] for _ in range(NUMBER_OF_SENSORS)]\n",
    "index_date_reached = 0\n",
    "actual_sensing_material = [get_sensing_mat(0,i) for i in range(1,NUMBER_OF_SENSORS + 1)]\n",
    "\n",
    "for index, record in tqdm(raw_table.iterrows(), total = raw_table.shape[0]):\n",
    "    if record.ts.date() < dates[0].date():\n",
    "        # skip all data before sensor changing(and sensing mat knowing)\n",
    "        continue\n",
    "\n",
    "    if index_date_reached != len(dates) and record.ts.date() == dates[index_date_reached+1].date():\n",
    "        # reached sensing material change day\n",
    "        index_date_reached += 1\n",
    "        for channel in range(NUMBER_OF_SENSORS):\n",
    "            last_change_date[channel] = find_change_date(index_date_reached, channel+1)\n",
    "\n",
    "        # update the sensing material array\n",
    "        actual_sensing_material = [get_sensing_mat(index_date_reached,i) for i in range(1,NUMBER_OF_SENSORS + 1)]\n",
    "\n",
    "    append_ds = pd.DataFrame(columns=columns)\n",
    "    for channel in range(1,NUMBER_OF_SENSORS + 1):\n",
    "        if record[\"Rs\"+str(channel)] == np.NaN:\n",
    "            continue\n",
    "        # for every channel add a row\n",
    "        append_ds.loc[len(append_ds.index)] = [\n",
    "            record['ts'],\n",
    "            actual_sensing_material[channel-1],\n",
    "            record['Rs'+str(channel)],\n",
    "            record['Rh'+str(channel)],\n",
    "            record['Vh'+str(channel)],\n",
    "            record['T'],\n",
    "            record['RH'],\n",
    "            record['P'],\n",
    "            math.cos(record['ts'].hour) * 2 * (math.pi / 24),\n",
    "            math.sin(record['ts'].hour) * 2 * (math.pi / 24),\n",
    "            math.cos(record['ts'].month) * 2 * (math.pi / 12),\n",
    "            math.sin(record['ts'].month) * 2 * (math.pi / 12),\n",
    "            record['ts'].year,\n",
    "            record['ts'] - last_change_date[channel-1]\n",
    "        ]\n",
    "    new_data = new_data.append(append_ds)\n"
   ]
  },
  {
   "cell_type": "code",
   "execution_count": null,
   "metadata": {},
   "outputs": [],
   "source": [
    "print(new_data)\n",
    "new_data.to_csv(\"../appa1_new.csv\", index = False)"
   ]
  },
  {
   "cell_type": "code",
   "execution_count": null,
   "metadata": {},
   "outputs": [],
   "source": []
  }
 ],
 "metadata": {
  "kernelspec": {
   "display_name": "Python 3.10.5 64-bit",
   "language": "python",
   "name": "python3"
  },
  "language_info": {
   "codemirror_mode": {
    "name": "ipython",
    "version": 3
   },
   "file_extension": ".py",
   "mimetype": "text/x-python",
   "name": "python",
   "nbconvert_exporter": "python",
   "pygments_lexer": "ipython3",
   "version": "3.10.5"
  },
  "orig_nbformat": 4,
  "vscode": {
   "interpreter": {
    "hash": "e7370f93d1d0cde622a1f8e1c04877d8463912d04d973331ad4851f04de6915a"
   }
  }
 },
 "nbformat": 4,
 "nbformat_minor": 2
}
