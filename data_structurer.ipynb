{
 "cells": [
  {
   "cell_type": "markdown",
   "metadata": {},
   "source": [
    "# Reformatter and resampler of APPA's data\n",
    "mainly by *Samuele Facenda*\n",
    "\n",
    "copy-paste contributed by *Magoni Parker*\n",
    "\n",
    "\n",
    "--- \n",
    "\n",
    "convert the table with a column for every channel to a table(with a table with the chenges of sensing materials) with a feature that is the sensing material, age of the sensor, sin and cos of date and a lot of other things\n"
   ]
  },
  {
   "cell_type": "code",
   "execution_count": 3,
   "metadata": {},
   "outputs": [],
   "source": [
    "import pandas as pd\n",
    "from matplotlib import pyplot as plt\n",
    "import locale\n",
    "from tqdm import tqdm\n",
    "import numpy as np\n",
    "import math\n",
    "from numpy import NaN"
   ]
  },
  {
   "cell_type": "code",
   "execution_count": 4,
   "metadata": {},
   "outputs": [],
   "source": [
    "def elaborate_file(file_name, sensing_material_table_file):\n",
    "    sensing_table = pd.read_csv(sensing_material_table_file)\n",
    "    raw_table = pd.read_csv(file_name)\n",
    "    # todo\n"
   ]
  },
  {
   "cell_type": "markdown",
   "metadata": {},
   "source": [
    "### read the files ###"
   ]
  },
  {
   "cell_type": "code",
   "execution_count": 5,
   "metadata": {},
   "outputs": [],
   "source": [
    "sensing_table = pd.read_csv(\"../sensing_material_appa1.csv\")\n",
    "raw_table = pd.read_csv(\"../appa1.csv\")"
   ]
  },
  {
   "cell_type": "markdown",
   "metadata": {},
   "source": [
    "the name of the column in the transform file is a string, i must have a list with this strings and a list with the convertion in timestamp"
   ]
  },
  {
   "cell_type": "code",
   "execution_count": 6,
   "metadata": {},
   "outputs": [],
   "source": [
    "# get the timestamp of the sensing material change date\n",
    "dates_str = sensing_table.columns.to_list()\n",
    "dates_str.remove(\"nm\")\n",
    "dates = [pd.to_datetime(x) for x in dates_str]"
   ]
  },
  {
   "cell_type": "markdown",
   "metadata": {},
   "source": [
    "#### refactor:\n",
    "convert in timestamp and aggregate every hour with the mean"
   ]
  },
  {
   "cell_type": "code",
   "execution_count": 7,
   "metadata": {},
   "outputs": [],
   "source": [
    "# change raw_table ts column to timestamp\n",
    "raw_table.ts = pd.to_datetime(raw_table.ts.str.slice(start = 0, stop = 24), format = \"%a %b %d %Y %H:%M:%S\")\n",
    "NUMBER_OF_SENSORS = 8"
   ]
  },
  {
   "cell_type": "code",
   "execution_count": 8,
   "metadata": {},
   "outputs": [],
   "source": [
    "# set and reset index to computate the mea\n",
    "raw_table = raw_table.set_index(\"ts\")\n",
    "raw_table = raw_table.resample(\"H\").mean()\n",
    "raw_table = raw_table.reset_index(level=0)"
   ]
  },
  {
   "cell_type": "markdown",
   "metadata": {},
   "source": [
    "### utility functions:\n",
    "get_sensing_mat:\n",
    "- index_date is the number of column in the tranform file where to search\n",
    "- channel is the channel to get\n",
    "\n",
    "find_change_date:\n",
    "- the index is the column of the file where to search in the channel\n",
    "- channel is the channel\n",
    "\n",
    "a little recursive function, if there is a * in the name recall himself with a lower index, if the lower index is a different molecule, check in the other channels"
   ]
  },
  {
   "cell_type": "code",
   "execution_count": 9,
   "metadata": {},
   "outputs": [],
   "source": [
    "def get_sensing_mat(index_date, channel):\n",
    "    return sensing_table[dates_str[index_date]][sensing_table.nm == channel].values[0]\n",
    "\n",
    "def find_change_date(index_date_reach, channel):\n",
    "    actual_sens_mat = get_sensing_mat(index_date_reach, channel)\n",
    "    if  not '*' in actual_sens_mat:\n",
    "        return dates[index_date_reach]\n",
    "    else:\n",
    "        # find the last change\n",
    "        if get_sensing_mat(index_date_reach -1,channel) in actual_sens_mat:\n",
    "            # do the same thing on the previus cell\n",
    "            return find_change_date(index_date_reach - 1, channel)\n",
    "        else:\n",
    "            # the sensor changed channel, find the channel and do the same thing\n",
    "            channel_before = 1\n",
    "            while channel_before <= NUMBER_OF_SENSORS:\n",
    "                if get_sensing_mat(index_date_reach -1,channel_before) in actual_sens_mat:\n",
    "                    break\n",
    "                channel_before += 1\n",
    "            else:\n",
    "                raise Exception(f\"error in find previus position of sensor\\n actual index {index_date_reach} type {actual_sens_mat}\")\n",
    "            return find_change_date(index_date_reach - 1, channel_before)\n"
   ]
  },
  {
   "cell_type": "markdown",
   "metadata": {},
   "source": [
    "define the columns\n",
    "\n",
    "create a new dataframe, the structure is too different, I can't keep the old one\n",
    "\n",
    "keep track during the iteration of the material in every channel and the timestamp of his first installation\n",
    "\n",
    "in the iteration(on every row, called record) check if the date is before the first certified installation(if so skip to the next row), check if a sensing material change day is reached(and then computate and update the traks array ex. lasta_change_data...), so for every channel create a row with all the columns and fill it. \n",
    "\n",
    "In the end of every iteration concatenate the temporary dataset to the final one"
   ]
  },
  {
   "cell_type": "code",
   "execution_count": null,
   "metadata": {},
   "outputs": [],
   "source": [
    "\n",
    "columns = ['ts','sensing_,material','signal_res','heater_res','heater_V','T','RH','P','time_cos','time_sin','date_cos','date_sin','Y','age']\n",
    "new_data = pd.DataFrame(columns=columns)\n",
    "\n",
    "last_change_date = [dates[0] for _ in range(NUMBER_OF_SENSORS)]\n",
    "index_date_reached = 0\n",
    "actual_sensing_material = [get_sensing_mat(0,i) for i in range(1,NUMBER_OF_SENSORS + 1)]\n",
    "\n",
    "for index, record in tqdm(raw_table.iterrows(), total = raw_table.shape[0]):\n",
    "    if record.ts.date() < dates[0].date():\n",
    "        # skip all data before sensor changing(and sensing mat knowing)\n",
    "        continue\n",
    "\n",
    "    if index_date_reached != len(dates) and record.ts.date() == dates[index_date_reached+1].date():\n",
    "        # reached sensing material change day\n",
    "        index_date_reached += 1\n",
    "        for channel in range(NUMBER_OF_SENSORS):\n",
    "            last_change_date[channel] = find_change_date(index_date_reached, channel+1)\n",
    "\n",
    "        # update the sensing material array\n",
    "        actual_sensing_material = [get_sensing_mat(index_date_reached,i) for i in range(1,NUMBER_OF_SENSORS + 1)]\n",
    "\n",
    "    append_ds = pd.DataFrame(columns=columns)\n",
    "    for channel in range(1,NUMBER_OF_SENSORS + 1):\n",
    "        if record[\"Rs\"+str(channel)] == np.NaN:\n",
    "            continue\n",
    "        # for every channel add a row\n",
    "        append_ds.loc[len(append_ds.index)] = [\n",
    "            record['ts'],\n",
    "            actual_sensing_material[channel-1].replace(\"*\",\"\"),\n",
    "            record['Rs'+str(channel)],\n",
    "            record['Rh'+str(channel)],\n",
    "            record['Vh'+str(channel)],\n",
    "            record['T'],\n",
    "            record['RH'],\n",
    "            record['P'],\n",
    "            math.cos(record['ts'].hour) * 2 * (math.pi / 24),\n",
    "            math.sin(record['ts'].hour) * 2 * (math.pi / 24),\n",
    "            math.cos(record['ts'].month) * 2 * (math.pi / 12),\n",
    "            math.sin(record['ts'].month) * 2 * (math.pi / 12),\n",
    "            record['ts'].year,\n",
    "            record['ts'] - last_change_date[channel-1]\n",
    "        ]\n",
    "    new_data = new_data.append(append_ds)\n"
   ]
  },
  {
   "cell_type": "markdown",
   "metadata": {},
   "source": [
    "Last clear and file/print"
   ]
  },
  {
   "cell_type": "code",
   "execution_count": null,
   "metadata": {},
   "outputs": [],
   "source": [
    "new_data = new_data.dropna().reset_index(drop=True)"
   ]
  },
  {
   "cell_type": "code",
   "execution_count": 11,
   "metadata": {},
   "outputs": [
    {
     "name": "stdout",
     "output_type": "stream",
     "text": [
      "           ts sensing_,material       signal_res  heater_res  heater_V      T  \\\n",
      "0  2021-01-13              ZnOR              NaN         NaN       NaN    NaN   \n",
      "1  2021-01-13              ZnOR              NaN         NaN       NaN    NaN   \n",
      "2  2021-01-13            LaFeO3              NaN         NaN       NaN    NaN   \n",
      "3  2021-01-13            LaFeO3              NaN         NaN       NaN    NaN   \n",
      "4  2021-01-13               WO3              NaN         NaN       NaN    NaN   \n",
      "..        ...               ...              ...         ...       ...    ...   \n",
      "3  2022-04-19              WO3*  48403051.966667      127.42  2.400167  45.66   \n",
      "4  2022-04-19             ZnOR*      355588748.8  121.931667  3.980667  45.66   \n",
      "5  2022-04-19             ZnOR*      365193468.8  120.658333  3.985167  45.66   \n",
      "6  2022-04-19           SmFeO3*       39482509.8   96.103333  3.579833  45.66   \n",
      "7  2022-04-19              STN*      198154600.8  111.623333     4.263  45.66   \n",
      "\n",
      "          RH      P  time_cos  time_sin  date_cos  date_sin     Y      age  \n",
      "0        NaN    NaN  0.261799       0.0  0.282902  0.440593  2021   0 days  \n",
      "1        NaN    NaN  0.261799       0.0  0.282902  0.440593  2021   0 days  \n",
      "2        NaN    NaN  0.261799       0.0  0.282902  0.440593  2021   0 days  \n",
      "3        NaN    NaN  0.261799       0.0  0.282902  0.440593  2021   0 days  \n",
      "4        NaN    NaN  0.261799       0.0  0.282902  0.440593  2021   0 days  \n",
      "..       ...    ...       ...       ...       ...       ...   ...      ...  \n",
      "3   6.336667  989.7  0.261799       0.0 -0.342247 -0.396261  2022 355 days  \n",
      "4   6.336667  989.7  0.261799       0.0 -0.342247 -0.396261  2022 461 days  \n",
      "5   6.336667  989.7  0.261799       0.0 -0.342247 -0.396261  2022 461 days  \n",
      "6   6.336667  989.7  0.261799       0.0 -0.342247 -0.396261  2022  95 days  \n",
      "7   6.336667  989.7  0.261799       0.0 -0.342247 -0.396261  2022 293 days  \n",
      "\n",
      "[88520 rows x 14 columns]\n"
     ]
    }
   ],
   "source": [
    "print(new_data)\n",
    "new_data.to_csv(\"../appa1_new.csv\", index = False)"
   ]
  },
  {
   "cell_type": "code",
   "execution_count": null,
   "metadata": {},
   "outputs": [],
   "source": []
  }
 ],
 "metadata": {
  "kernelspec": {
   "display_name": "Python 3.10.5 64-bit",
   "language": "python",
   "name": "python3"
  },
  "language_info": {
   "codemirror_mode": {
    "name": "ipython",
    "version": 3
   },
   "file_extension": ".py",
   "mimetype": "text/x-python",
   "name": "python",
   "nbconvert_exporter": "python",
   "pygments_lexer": "ipython3",
   "version": "3.10.5"
  },
  "orig_nbformat": 4,
  "vscode": {
   "interpreter": {
    "hash": "e7370f93d1d0cde622a1f8e1c04877d8463912d04d973331ad4851f04de6915a"
   }
  }
 },
 "nbformat": 4,
 "nbformat_minor": 2
}
