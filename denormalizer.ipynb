{
 "cells": [
  {
   "cell_type": "markdown",
   "source": [
    "# get normalized output and denormalize it according to the models in models folder"
   ],
   "metadata": {
    "collapsed": false,
    "pycharm": {
     "name": "#%% md\n"
    }
   }
  },
  {
   "cell_type": "code",
   "execution_count": 50,
   "outputs": [],
   "source": [
    "import math\n",
    "import locale\n",
    "import numpy as np\n",
    "import pandas as pd\n",
    "import plotly.express as px\n",
    "from tqdm import tqdm\n",
    "from joblib import dump, load\n",
    "import pickle\n",
    "STATION = \"Parco S. Chiara\"\n",
    "pollu = [\"Biossido di Azoto\", \"Ossido di Carbonio\", \"PM10\", \"Ozono\", \"PM2.5\", \"Biossido Zolfo\"]\n",
    "POLLUTANT = \"O3\""
   ],
   "metadata": {
    "collapsed": false,
    "pycharm": {
     "name": "#%%\n"
    }
   }
  },
  {
   "cell_type": "code",
   "execution_count": 51,
   "outputs": [],
   "source": [
    "pollu_dict = {\n",
    "    \"AO2\": \"Biossido di Azoto\",\n",
    "    \"CO2\": \"Ossido di Carbonio\",\n",
    "    \"PM10\": \"PM10\",\n",
    "    \"O3\": \"Ozono\",\n",
    "    \"PM2.5\": \"PM2.5\",\n",
    "    \"SO2\": \"Biossido Zolfo\"\n",
    "}\n",
    "MODEL_FILE = f\"models/{pollu_dict[POLLUTANT]}.joblib\"\n",
    "FILE = \"data/test_day_data.csv\""
   ],
   "metadata": {
    "collapsed": false,
    "pycharm": {
     "name": "#%%\n"
    }
   }
  },
  {
   "cell_type": "code",
   "execution_count": 52,
   "outputs": [],
   "source": [
    "try:\n",
    "    model = load(MODEL_FILE)\n",
    "    print(\"opened .joblib\")\n",
    "except KeyError:\n",
    "    model = pickle.load(open(MODEL_FILE.split('.')[0]+'.sav', 'rb'))\n",
    "    print(\"opened .sav\")\n",
    "day_data = pd.read_csv(FILE)"
   ],
   "metadata": {
    "collapsed": false,
    "pycharm": {
     "name": "#%%\n"
    }
   }
  },
  {
   "cell_type": "code",
   "execution_count": 53,
   "outputs": [],
   "source": [
    "day_data.Data = pd.to_datetime(day_data.Data, format = \"%Y-%m-%d %H:%M:%S\")"
   ],
   "metadata": {
    "collapsed": false,
    "pycharm": {
     "name": "#%%\n"
    }
   }
  },
  {
   "cell_type": "code",
   "execution_count": 64,
   "outputs": [
    {
     "name": "stderr",
     "output_type": "stream",
     "text": [
      "C:\\Users\\samue\\AppData\\Local\\Temp\\ipykernel_1724\\2438649910.py:1: FutureWarning: Support for multi-dimensional indexing (e.g. `obj[:, None]`) is deprecated and will be removed in a future version.  Convert to a numpy array before indexing instead.\n",
      "  day_data[\"real_ppm\"]= day_data.Valore * model.predict(day_data.Data.dt.day_of_year[:,np.newaxis])\n"
     ]
    }
   ],
   "source": [
    "day_data[\"real_ppm\"]= day_data.Valore * model.predict(day_data.Data.dt.day_of_year[:,np.newaxis])"
   ],
   "metadata": {
    "collapsed": false,
    "pycharm": {
     "name": "#%%\n"
    }
   }
  },
  {
   "cell_type": "markdown",
   "source": [
    "test = pd.read_csv(\"data/APPA_data_merged.csv\")\n",
    "test.Data = pd.to_datetime(test.Data, format = \"%Y-%m-%d %H:%M:%S\")\n",
    "test = test[test.Stazione == STATION]\n",
    "test = test[test.Inquinante == pollu_dict[POLLUTANT]]\n",
    "test[test.Data.dt.date == test.at[test.index[200],'Data'].date()].to_csv(\"data/test_day_data.csv\")"
   ],
   "metadata": {
    "collapsed": false,
    "pycharm": {
     "name": "#%% md\n"
    }
   }
  },
  {
   "cell_type": "code",
   "execution_count": 65,
   "outputs": [],
   "source": [
    "day_data.to_csv(FILE)"
   ],
   "metadata": {
    "collapsed": false,
    "pycharm": {
     "name": "#%%\n"
    }
   }
  }
 ],
 "metadata": {
  "kernelspec": {
   "display_name": "Python 3",
   "language": "python",
   "name": "python3"
  },
  "language_info": {
   "codemirror_mode": {
    "name": "ipython",
    "version": 2
   },
   "file_extension": ".py",
   "mimetype": "text/x-python",
   "name": "python",
   "nbconvert_exporter": "python",
   "pygments_lexer": "ipython2",
   "version": "2.7.6"
  }
 },
 "nbformat": 4,
 "nbformat_minor": 0
}