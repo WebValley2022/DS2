{
 "cells": [
  {
   "cell_type": "markdown",
   "source": [
    "# get normalized output and denormalize it according to the models in models folder"
   ],
   "metadata": {
    "collapsed": false,
    "pycharm": {
     "name": "#%% md\n"
    }
   }
  },
  {
   "cell_type": "code",
   "execution_count": 26,
   "outputs": [],
   "source": [
    "import math\n",
    "import locale\n",
    "import numpy as np\n",
    "import pandas as pd\n",
    "import plotly.express as px\n",
    "from tqdm import tqdm\n",
    "from joblib import dump, load\n",
    "import pickle\n",
    "STATION = \"Parco S. Chiara\"\n",
    "pollu = [\"Biossido di Azoto\", \"Ossido di Carbonio\", \"PM10\", \"Ozono\", \"PM2.5\", \"Biossido Zolfo\"]\n",
    "POLLUTANT = \"O3\""
   ],
   "metadata": {
    "collapsed": false,
    "pycharm": {
     "name": "#%%\n"
    }
   }
  },
  {
   "cell_type": "code",
   "execution_count": 27,
   "outputs": [],
   "source": [
    "pollu_dict = {\n",
    "    \"AO2\": \"Biossido di Azoto\",\n",
    "    \"CO2\": \"Ossido di Carbonio\",\n",
    "    \"PM10\": \"PM10\",\n",
    "    \"O3\": \"Ozono\",\n",
    "    \"PM2.5\": \"PM2.5\",\n",
    "    \"SO2\": \"Biossido Zolfo\"\n",
    "}\n",
    "MODEL_FILE = f\"models/{pollu_dict[POLLUTANT]}.joblib\"\n",
    "FILE = \"data/test_day_data.csv\""
   ],
   "metadata": {
    "collapsed": false,
    "pycharm": {
     "name": "#%%\n"
    }
   }
  },
  {
   "cell_type": "code",
   "execution_count": 28,
   "outputs": [],
   "source": [
    "try:\n",
    "    model = load(MODEL_FILE)\n",
    "except KeyError:\n",
    "    model = pickle.load(open(MODEL_FILE.split('.')[0]+'.sav', 'rb'))\n",
    "day_data = pd.read_csv(FILE)\n",
    "# read an entire day of normalized output data, you need the entire day"
   ],
   "metadata": {
    "collapsed": false,
    "pycharm": {
     "name": "#%%\n"
    }
   }
  },
  {
   "cell_type": "code",
   "execution_count": 29,
   "outputs": [],
   "source": [
    "day_data.Data = pd.to_datetime(day_data.Data, format = \"%Y-%m-%d %H:%M:%S\")\n",
    "sum = day_data.Valore.sum()"
   ],
   "metadata": {
    "collapsed": false,
    "pycharm": {
     "name": "#%%\n"
    }
   }
  },
  {
   "cell_type": "code",
   "execution_count": 30,
   "outputs": [],
   "source": [
    "day_of_year = day_data.at[day_data.index[1],'Data'].day_of_year"
   ],
   "metadata": {
    "collapsed": false,
    "pycharm": {
     "name": "#%%\n"
    }
   }
  },
  {
   "cell_type": "code",
   "execution_count": 31,
   "outputs": [
    {
     "name": "stdout",
     "output_type": "stream",
     "text": [
      "[259.26164449]\n"
     ]
    }
   ],
   "source": [
    "prediction_sum = model.predict([[day_of_year]])\n",
    "print(prediction_sum)"
   ],
   "metadata": {
    "collapsed": false,
    "pycharm": {
     "name": "#%%\n"
    }
   }
  },
  {
   "cell_type": "code",
   "execution_count": 32,
   "outputs": [],
   "source": [
    "\n",
    "day_data[\"real_ppm\"]= day_data.Valore * prediction_sum"
   ],
   "metadata": {
    "collapsed": false,
    "pycharm": {
     "name": "#%%\n"
    }
   }
  },
  {
   "cell_type": "markdown",
   "source": [
    "test = pd.read_csv(\"data/APPA_data_merged.csv\")\n",
    "test.Data = pd.to_datetime(test.Data, format = \"%Y-%m-%d %H:%M:%S\")\n",
    "test = test[test.Stazione == STATION]\n",
    "test = test[test.Inquinante == pollu_dict[POLLUTANT]]\n",
    "test[test.Data.dt.date == test.at[test.index[200],'Data'].date()].to_csv(\"data/test_day_data.csv\")"
   ],
   "metadata": {
    "collapsed": false,
    "pycharm": {
     "name": "#%% md\n"
    }
   }
  },
  {
   "cell_type": "code",
   "execution_count": 33,
   "outputs": [],
   "source": [
    "day_data.to_csv(FILE)"
   ],
   "metadata": {
    "collapsed": false,
    "pycharm": {
     "name": "#%%\n"
    }
   }
  },
  {
   "cell_type": "code",
   "execution_count": null,
   "outputs": [],
   "source": [],
   "metadata": {
    "collapsed": false,
    "pycharm": {
     "name": "#%%\n"
    }
   }
  }
 ],
 "metadata": {
  "kernelspec": {
   "display_name": "Python 3",
   "language": "python",
   "name": "python3"
  },
  "language_info": {
   "codemirror_mode": {
    "name": "ipython",
    "version": 2
   },
   "file_extension": ".py",
   "mimetype": "text/x-python",
   "name": "python",
   "nbconvert_exporter": "python",
   "pygments_lexer": "ipython2",
   "version": "2.7.6"
  }
 },
 "nbformat": 4,
 "nbformat_minor": 0
}