{
 "cells": [
  {
   "cell_type": "code",
   "execution_count": 32,
   "metadata": {
    "collapsed": true,
    "pycharm": {
     "name": "#%%\n"
    }
   },
   "outputs": [],
   "source": [
    "import pandas as pd\n",
    "from tqdm.notebook import tqdm\n",
    "import numpy as np"
   ]
  },
  {
   "cell_type": "code",
   "execution_count": 33,
   "outputs": [],
   "source": [
    "df = pd.read_csv('data/train_adj.csv')"
   ],
   "metadata": {
    "collapsed": false,
    "pycharm": {
     "name": "#%%\n"
    }
   }
  },
  {
   "cell_type": "code",
   "execution_count": 34,
   "outputs": [],
   "source": [
    "df.ts = pd.to_datetime(df.ts, format = \"%Y-%m-%d %H:%M:%S\")"
   ],
   "metadata": {
    "collapsed": false,
    "pycharm": {
     "name": "#%%\n"
    }
   }
  },
  {
   "cell_type": "code",
   "execution_count": 35,
   "outputs": [],
   "source": [
    "sensing_mat = df.sensing_material.unique()\n",
    "fixed_cols = ['T', 'RH', 'P', 'sin_hour', 'cos_hour', 'sin_ordate','cos_ordate', 'sin_weekday', 'cos_weekday']\n",
    "input_cols = ['signal_res', 'heater_res', 'heater_volt', 'age']\n",
    "sens_cols = ['labels'] + [ str(i) for i in range(4)] * 8 + ['ts']\n",
    "out_cols = sens_cols + fixed_cols\n",
    "out_ds = pd.DataFrame(columns=out_cols)"
   ],
   "metadata": {
    "collapsed": false,
    "pycharm": {
     "name": "#%%\n"
    }
   }
  },
  {
   "cell_type": "code",
   "execution_count": 36,
   "outputs": [],
   "source": [
    "df_red = df.drop_duplicates(subset=['ts'])\n",
    "df_red.index = np.arange(1, len(df_red)+1)\n",
    "for col in fixed_cols:\n",
    "    out_ds[col] = df_red[col]\n",
    "out_ds.ts = df_red.ts"
   ],
   "metadata": {
    "collapsed": false,
    "pycharm": {
     "name": "#%%\n"
    }
   }
  },
  {
   "cell_type": "code",
   "execution_count": 37,
   "outputs": [
    {
     "data": {
      "text/plain": "  0%|          | 0/12199 [00:00<?, ?it/s]",
      "application/vnd.jupyter.widget-view+json": {
       "version_major": 2,
       "version_minor": 0,
       "model_id": "6d9153a7804c4f12a47019351bc70be0"
      }
     },
     "metadata": {},
     "output_type": "display_data"
    }
   ],
   "source": [
    "for out_i, (hour, group_hour) in tqdm(enumerate(df.groupby('ts')), total=len(out_ds)):\n",
    "    labels = []\n",
    "    col = 1\n",
    "    for sens_mat, sens_df in group_hour.groupby('sensing_material'):\n",
    "        labels += [sens_mat, sens_mat]\n",
    "        for sens_line in sens_df.iterrows():\n",
    "            for inpu in input_cols:\n",
    "                out_ds.iat[out_i, col] = sens_line[1][inpu]\n",
    "                col += 1\n",
    "    out_ds.at[out_i, 'labels'] = \" \".join(labels)"
   ],
   "metadata": {
    "collapsed": false,
    "pycharm": {
     "name": "#%%\n"
    }
   }
  },
  {
   "cell_type": "code",
   "execution_count": 38,
   "outputs": [
    {
     "data": {
      "text/plain": "       Unnamed: 0                  ts sensing_material    signal_res  \\\n0               0 2021-01-13 08:00:00             ZnOR  7.513813e+07   \n1               1 2021-01-13 08:00:00             ZnOR  7.495123e+07   \n2               2 2021-01-13 08:00:00           LaFeO3  7.472385e+07   \n3               3 2021-01-13 08:00:00           LaFeO3  2.713244e+07   \n4               4 2021-01-13 08:00:00              WO3  4.990000e+08   \n...           ...                 ...              ...           ...   \n97587      103787 2022-07-07 23:00:00              WO3  3.285417e+08   \n97588      103788 2022-07-07 23:00:00             ZnOR  4.990000e+08   \n97589      103789 2022-07-07 23:00:00             ZnOR  4.990000e+08   \n97590      103790 2022-07-07 23:00:00           SmFeO3  2.852844e+07   \n97591      103791 2022-07-07 23:00:00              STN  4.247611e+08   \n\n       heater_res  heater_volt          T         RH           P  sin_hour  \\\n0       67.050000     1.431667  26.691667  22.616667  991.958333  0.259013   \n1       66.125000     1.475833  26.691667  22.616667  991.958333  0.259013   \n2       70.991667     1.843333  26.691667  22.616667  991.958333  0.259013   \n3       69.975000     1.802500  26.691667  22.616667  991.958333  0.259013   \n4       64.950000     1.730000  26.691667  22.616667  991.958333  0.259013   \n...           ...          ...        ...        ...         ...       ...   \n97587  142.530000     2.520500  35.941667  29.576667  993.590000 -0.221540   \n97588  126.821667     3.891167  35.941667  29.576667  993.590000 -0.221540   \n97589  125.353333     3.896500  35.941667  29.576667  993.590000 -0.221540   \n97590  101.286667     3.820000  35.941667  29.576667  993.590000 -0.221540   \n97591  107.036667     4.260000  35.941667  29.576667  993.590000 -0.221540   \n\n       cos_hour  sin_ordate  cos_ordate  sin_weekday  cos_weekday  year  age  \n0     -0.038092   -0.000596    0.017157     0.816183    -0.373533  2021    0  \n1     -0.038092   -0.000596    0.017157     0.816183    -0.373533  2021    0  \n2     -0.038092   -0.000596    0.017157     0.816183    -0.373533  2021    0  \n3     -0.038092   -0.000596    0.017157     0.816183    -0.373533  2021    0  \n4     -0.038092   -0.000596    0.017157     0.816183    -0.373533  2021    0  \n...         ...         ...         ...          ...          ...   ...  ...  \n97587 -0.139495   -0.006505    0.015887     0.126669    -0.888615  2022  434  \n97588 -0.139495   -0.006505    0.015887     0.126669    -0.888615  2022  540  \n97589 -0.139495   -0.006505    0.015887     0.126669    -0.888615  2022  540  \n97590 -0.139495   -0.006505    0.015887     0.126669    -0.888615  2022  174  \n97591 -0.139495   -0.006505    0.015887     0.126669    -0.888615  2022  372  \n\n[97592 rows x 17 columns]",
      "text/html": "<div>\n<style scoped>\n    .dataframe tbody tr th:only-of-type {\n        vertical-align: middle;\n    }\n\n    .dataframe tbody tr th {\n        vertical-align: top;\n    }\n\n    .dataframe thead th {\n        text-align: right;\n    }\n</style>\n<table border=\"1\" class=\"dataframe\">\n  <thead>\n    <tr style=\"text-align: right;\">\n      <th></th>\n      <th>Unnamed: 0</th>\n      <th>ts</th>\n      <th>sensing_material</th>\n      <th>signal_res</th>\n      <th>heater_res</th>\n      <th>heater_volt</th>\n      <th>T</th>\n      <th>RH</th>\n      <th>P</th>\n      <th>sin_hour</th>\n      <th>cos_hour</th>\n      <th>sin_ordate</th>\n      <th>cos_ordate</th>\n      <th>sin_weekday</th>\n      <th>cos_weekday</th>\n      <th>year</th>\n      <th>age</th>\n    </tr>\n  </thead>\n  <tbody>\n    <tr>\n      <th>0</th>\n      <td>0</td>\n      <td>2021-01-13 08:00:00</td>\n      <td>ZnOR</td>\n      <td>7.513813e+07</td>\n      <td>67.050000</td>\n      <td>1.431667</td>\n      <td>26.691667</td>\n      <td>22.616667</td>\n      <td>991.958333</td>\n      <td>0.259013</td>\n      <td>-0.038092</td>\n      <td>-0.000596</td>\n      <td>0.017157</td>\n      <td>0.816183</td>\n      <td>-0.373533</td>\n      <td>2021</td>\n      <td>0</td>\n    </tr>\n    <tr>\n      <th>1</th>\n      <td>1</td>\n      <td>2021-01-13 08:00:00</td>\n      <td>ZnOR</td>\n      <td>7.495123e+07</td>\n      <td>66.125000</td>\n      <td>1.475833</td>\n      <td>26.691667</td>\n      <td>22.616667</td>\n      <td>991.958333</td>\n      <td>0.259013</td>\n      <td>-0.038092</td>\n      <td>-0.000596</td>\n      <td>0.017157</td>\n      <td>0.816183</td>\n      <td>-0.373533</td>\n      <td>2021</td>\n      <td>0</td>\n    </tr>\n    <tr>\n      <th>2</th>\n      <td>2</td>\n      <td>2021-01-13 08:00:00</td>\n      <td>LaFeO3</td>\n      <td>7.472385e+07</td>\n      <td>70.991667</td>\n      <td>1.843333</td>\n      <td>26.691667</td>\n      <td>22.616667</td>\n      <td>991.958333</td>\n      <td>0.259013</td>\n      <td>-0.038092</td>\n      <td>-0.000596</td>\n      <td>0.017157</td>\n      <td>0.816183</td>\n      <td>-0.373533</td>\n      <td>2021</td>\n      <td>0</td>\n    </tr>\n    <tr>\n      <th>3</th>\n      <td>3</td>\n      <td>2021-01-13 08:00:00</td>\n      <td>LaFeO3</td>\n      <td>2.713244e+07</td>\n      <td>69.975000</td>\n      <td>1.802500</td>\n      <td>26.691667</td>\n      <td>22.616667</td>\n      <td>991.958333</td>\n      <td>0.259013</td>\n      <td>-0.038092</td>\n      <td>-0.000596</td>\n      <td>0.017157</td>\n      <td>0.816183</td>\n      <td>-0.373533</td>\n      <td>2021</td>\n      <td>0</td>\n    </tr>\n    <tr>\n      <th>4</th>\n      <td>4</td>\n      <td>2021-01-13 08:00:00</td>\n      <td>WO3</td>\n      <td>4.990000e+08</td>\n      <td>64.950000</td>\n      <td>1.730000</td>\n      <td>26.691667</td>\n      <td>22.616667</td>\n      <td>991.958333</td>\n      <td>0.259013</td>\n      <td>-0.038092</td>\n      <td>-0.000596</td>\n      <td>0.017157</td>\n      <td>0.816183</td>\n      <td>-0.373533</td>\n      <td>2021</td>\n      <td>0</td>\n    </tr>\n    <tr>\n      <th>...</th>\n      <td>...</td>\n      <td>...</td>\n      <td>...</td>\n      <td>...</td>\n      <td>...</td>\n      <td>...</td>\n      <td>...</td>\n      <td>...</td>\n      <td>...</td>\n      <td>...</td>\n      <td>...</td>\n      <td>...</td>\n      <td>...</td>\n      <td>...</td>\n      <td>...</td>\n      <td>...</td>\n      <td>...</td>\n    </tr>\n    <tr>\n      <th>97587</th>\n      <td>103787</td>\n      <td>2022-07-07 23:00:00</td>\n      <td>WO3</td>\n      <td>3.285417e+08</td>\n      <td>142.530000</td>\n      <td>2.520500</td>\n      <td>35.941667</td>\n      <td>29.576667</td>\n      <td>993.590000</td>\n      <td>-0.221540</td>\n      <td>-0.139495</td>\n      <td>-0.006505</td>\n      <td>0.015887</td>\n      <td>0.126669</td>\n      <td>-0.888615</td>\n      <td>2022</td>\n      <td>434</td>\n    </tr>\n    <tr>\n      <th>97588</th>\n      <td>103788</td>\n      <td>2022-07-07 23:00:00</td>\n      <td>ZnOR</td>\n      <td>4.990000e+08</td>\n      <td>126.821667</td>\n      <td>3.891167</td>\n      <td>35.941667</td>\n      <td>29.576667</td>\n      <td>993.590000</td>\n      <td>-0.221540</td>\n      <td>-0.139495</td>\n      <td>-0.006505</td>\n      <td>0.015887</td>\n      <td>0.126669</td>\n      <td>-0.888615</td>\n      <td>2022</td>\n      <td>540</td>\n    </tr>\n    <tr>\n      <th>97589</th>\n      <td>103789</td>\n      <td>2022-07-07 23:00:00</td>\n      <td>ZnOR</td>\n      <td>4.990000e+08</td>\n      <td>125.353333</td>\n      <td>3.896500</td>\n      <td>35.941667</td>\n      <td>29.576667</td>\n      <td>993.590000</td>\n      <td>-0.221540</td>\n      <td>-0.139495</td>\n      <td>-0.006505</td>\n      <td>0.015887</td>\n      <td>0.126669</td>\n      <td>-0.888615</td>\n      <td>2022</td>\n      <td>540</td>\n    </tr>\n    <tr>\n      <th>97590</th>\n      <td>103790</td>\n      <td>2022-07-07 23:00:00</td>\n      <td>SmFeO3</td>\n      <td>2.852844e+07</td>\n      <td>101.286667</td>\n      <td>3.820000</td>\n      <td>35.941667</td>\n      <td>29.576667</td>\n      <td>993.590000</td>\n      <td>-0.221540</td>\n      <td>-0.139495</td>\n      <td>-0.006505</td>\n      <td>0.015887</td>\n      <td>0.126669</td>\n      <td>-0.888615</td>\n      <td>2022</td>\n      <td>174</td>\n    </tr>\n    <tr>\n      <th>97591</th>\n      <td>103791</td>\n      <td>2022-07-07 23:00:00</td>\n      <td>STN</td>\n      <td>4.247611e+08</td>\n      <td>107.036667</td>\n      <td>4.260000</td>\n      <td>35.941667</td>\n      <td>29.576667</td>\n      <td>993.590000</td>\n      <td>-0.221540</td>\n      <td>-0.139495</td>\n      <td>-0.006505</td>\n      <td>0.015887</td>\n      <td>0.126669</td>\n      <td>-0.888615</td>\n      <td>2022</td>\n      <td>372</td>\n    </tr>\n  </tbody>\n</table>\n<p>97592 rows × 17 columns</p>\n</div>"
     },
     "execution_count": 38,
     "metadata": {},
     "output_type": "execute_result"
    }
   ],
   "source": [
    "df"
   ],
   "metadata": {
    "collapsed": false,
    "pycharm": {
     "name": "#%%\n"
    }
   }
  },
  {
   "cell_type": "code",
   "execution_count": 39,
   "outputs": [],
   "source": [
    "out_ds.to_csv('data/parallel_x_labels.csv')"
   ],
   "metadata": {
    "collapsed": false,
    "pycharm": {
     "name": "#%%\n"
    }
   }
  },
  {
   "cell_type": "code",
   "execution_count": 40,
   "outputs": [
    {
     "data": {
      "text/plain": "array(['ZnOR', 'LaFeO3', 'WO3', 'ZnO', 'ZnOg', 'STN', 'SmFeO3'],\n      dtype=object)"
     },
     "execution_count": 40,
     "metadata": {},
     "output_type": "execute_result"
    }
   ],
   "source": [
    "sensing_mat"
   ],
   "metadata": {
    "collapsed": false,
    "pycharm": {
     "name": "#%%\n"
    }
   }
  },
  {
   "cell_type": "code",
   "execution_count": null,
   "outputs": [],
   "source": [],
   "metadata": {
    "collapsed": false,
    "pycharm": {
     "name": "#%%\n"
    }
   }
  }
 ],
 "metadata": {
  "kernelspec": {
   "display_name": "Python 3",
   "language": "python",
   "name": "python3"
  },
  "language_info": {
   "codemirror_mode": {
    "name": "ipython",
    "version": 2
   },
   "file_extension": ".py",
   "mimetype": "text/x-python",
   "name": "python",
   "nbconvert_exporter": "python",
   "pygments_lexer": "ipython2",
   "version": "2.7.6"
  }
 },
 "nbformat": 4,
 "nbformat_minor": 0
}