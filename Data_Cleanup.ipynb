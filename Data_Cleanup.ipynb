{
 "cells": [
  {
   "cell_type": "code",
   "execution_count": null,
   "metadata": {},
   "outputs": [],
   "source": [
    "import math\n",
    "import numpy as np\n",
    "import pandas as pd\n",
    "from tqdm import tqdm\n",
    "from datetime import datetime\n",
    "\n",
    "\n",
    "appa1 = pd.read_csv('appa1.csv')\n",
    "appa2 = pd.read_csv('appa2.csv')"
   ]
  },
  {
   "cell_type": "code",
   "execution_count": null,
   "metadata": {},
   "outputs": [],
   "source": [
    "for df in tqdm(appa1, appa2):\n",
    "    df = df.drop(\"Unnamed: 0\", axis = 1)\n",
    "    df.ts = pd.to_datetime(df.ts.str.slice(start = 0, stop = 24), format = \"%a %b %d %Y %H:%M:%S\")\n",
    "    df[df.ts != '\\0']\n",
    "\n",
    "    df['sin_hour'] = df.ts.dt.hour.apply(\n",
    "        lambda x: math.pi/12 * math.sin(x)\n",
    "        )\n",
    "    df['cos_hour'] = df.ts.dt.hour.apply(\n",
    "        lambda x: math.pi/12 * math.cos(x)\n",
    "        )\n",
    "    df['sin_ordate'] = df.ts.dt.date.apply(\n",
    "        lambda x: 2*math.pi/365 * math.sin(x.toordinal())\n",
    "        )\n",
    "    df['cos_ordate'] = df.ts.dt.date.apply(\n",
    "        lambda x: 2*math.pi/365 * math.cos(x.toordinal())\n",
    "        )\n",
    "    df['sin_weekday'] = df.ts.dt.weekday.apply(\n",
    "        lambda x: 2*math.pi/7 * math.sin(x)\n",
    "        )\n",
    "    df['cos_weekday'] = df.ts.dt.weekday.apply(\n",
    "        lambda x: 2*math.pi/7 * math.cos(x)\n",
    "        )"
   ]
  }
 ],
 "metadata": {
  "kernelspec": {
   "display_name": "Python 3.9.13 64-bit",
   "language": "python",
   "name": "python3"
  },
  "language_info": {
   "codemirror_mode": {
    "name": "ipython",
    "version": 3
   },
   "file_extension": ".py",
   "mimetype": "text/x-python",
   "name": "python",
   "nbconvert_exporter": "python",
   "pygments_lexer": "ipython3",
   "version": "3.9.13"
  },
  "orig_nbformat": 4,
  "vscode": {
   "interpreter": {
    "hash": "36cf16204b8548560b1c020c4e8fb5b57f0e4c58016f52f2d4be01e192833930"
   }
  }
 },
 "nbformat": 4,
 "nbformat_minor": 2
}
