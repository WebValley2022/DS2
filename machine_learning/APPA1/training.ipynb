{
 "cells": [
  {
   "cell_type": "code",
   "execution_count": null,
   "metadata": {},
   "outputs": [],
   "source": [
    "import math\n",
    "import numpy as np\n",
    "import pandas as pd\n",
    "import pickle\n",
    "from matplotlib import pyplot as plt\n",
    "import matplotlib.gridspec as gridspec\n",
    "\n",
    "from sklearn.ensemble import RandomForestRegressor\n",
    "from sklearn.model_selection import RandomizedSearchCV\n",
    "from sklearn.metrics import mean_absolute_error"
   ]
  },
  {
   "cell_type": "code",
   "execution_count": null,
   "metadata": {},
   "outputs": [],
   "source": [
    "#Reading the file in which the values are saved, converting the Date into a panda Datetime format\n",
    "appa_hours = pd.read_csv(\"../../exports/appa1.csv\")\n",
    "appa_hours = appa_hours.drop('Unnamed: 0', axis=1)\n",
    "appa_hours.Time = pd.to_datetime(appa_hours.Time)\n",
    "appa_hours.columns"
   ]
  },
  {
   "cell_type": "code",
   "execution_count": null,
   "metadata": {},
   "outputs": [],
   "source": [
    "#selecting all the values we need to train and test the model\n",
    "appa_hours = appa_hours[[\n",
    "    'ZnOR_1', 'ZnOR_2', \n",
    "    'LaFeO3_1', 'LaFeO3_2',\n",
    "    'WO3_1', 'WO3_2', \n",
    "    'ZnOR_1_heatR', 'ZnOR_2_heatR', \n",
    "    'LaFeO3_1_heatR', 'LaFeO3_2_heatR', \n",
    "    'WO3_1_heatR', 'WO3_2_heatR', \n",
    "    'ZnOR_1_heatV', 'ZnOR_2_heatV', \n",
    "    'LaFeO3_1_heatV', 'LaFeO3_2_heatV', \n",
    "    'WO3_1_heatV','WO3_2_heatV', \n",
    "    'Temperature', 'Relative_Humidity', 'Pressure', 'VOC',\n",
    "    'ZnOR_1_Age', 'ZnOR_2_Age', \n",
    "    'LaFeO3_1_Age', 'LaFeO3_2_Age', \n",
    "    'WO3_1_Age', 'WO3_2_Age', \n",
    "    'sin_hour', 'cos_hour', \n",
    "    'sin_weekday', 'cos_weekday',\n",
    "    'sin_month', 'cos_month', \n",
    "    'sin_ordate', 'cos_ordate', \n",
    "    'year', \n",
    "    'UV', 'Rain', \n",
    "    'Wind_Speed', 'sin_wind', 'cos_wind', \n",
    "    'NO2', 'O3', 'CO'\n",
    "]]"
   ]
  },
  {
   "cell_type": "code",
   "execution_count": null,
   "metadata": {},
   "outputs": [],
   "source": [
    "#Selecting the features\n",
    "cols = [\n",
    "    'ZnOR_1', 'ZnOR_2', \n",
    "    'LaFeO3_1', 'LaFeO3_2',\n",
    "    'WO3_1', 'WO3_2', \n",
    "]\n",
    "\n",
    "\n",
    "\n",
    "#Selecting the target\n",
    "# outs = ['NO2', 'O3', 'CO']\n",
    "outs = ['O3',]"
   ]
  },
  {
   "cell_type": "code",
   "execution_count": null,
   "metadata": {},
   "outputs": [],
   "source": [
    "#splitting the values in training and test\n",
    "vsplit = round(len(appa_hours) * 0.2)\n",
    "\n",
    "X_train = appa_hours.iloc[vsplit:][cols]\n",
    "X_test = appa_hours.iloc[:vsplit][cols]\n",
    "\n",
    "Y_train = appa_hours.iloc[vsplit:][outs]\n",
    "Y_test = appa_hours.iloc[:vsplit][outs]\n"
   ]
  },
  {
   "cell_type": "markdown",
   "metadata": {},
   "source": [
    "## Random Forest"
   ]
  },
  {
   "cell_type": "code",
   "execution_count": null,
   "metadata": {},
   "outputs": [],
   "source": [
    "#Selecting the features\n",
    "cols = [\n",
    "    'ZnOR_1', 'ZnOR_2', \n",
    "    'LaFeO3_1', 'LaFeO3_2',\n",
    "    'WO3_1', 'WO3_2', \n",
    "    'ZnOR_1_heatR', 'ZnOR_2_heatR', \n",
    "    'LaFeO3_1_heatR', 'LaFeO3_2_heatR', \n",
    "    'WO3_1_heatR', 'WO3_2_heatR', \n",
    "    'ZnOR_1_heatV', 'ZnOR_2_heatV', \n",
    "    'LaFeO3_1_heatV', 'LaFeO3_2_heatV', \n",
    "    'WO3_1_heatV','WO3_2_heatV', \n",
    "    'Temperature', 'Relative_Humidity', 'Pressure', 'VOC',\n",
    "    'ZnOR_1_Age', 'ZnOR_2_Age', \n",
    "    'LaFeO3_1_Age', 'LaFeO3_2_Age', \n",
    "    'WO3_1_Age', 'WO3_2_Age', \n",
    "    'sin_hour', 'cos_hour', \n",
    "    'sin_weekday', 'cos_weekday',\n",
    "    'sin_month', 'cos_month', \n",
    "    'sin_ordate', 'cos_ordate', \n",
    "    'year', \n",
    "    'UV', 'Rain', \n",
    "    'Wind_Speed', 'sin_wind', 'cos_wind',\n",
    "]\n",
    "\n",
    "#Selecting the target\n",
    "outs = ['NO2', 'O3', 'CO']"
   ]
  },
  {
   "cell_type": "code",
   "execution_count": null,
   "metadata": {},
   "outputs": [],
   "source": [
    "# Number of trees in random forest\n",
    "n_estimators = [int(x) for x in np.linspace(start= 100, stop= 2000, num= 20)]\n",
    "# Number of features to consider at every split\n",
    "max_features = ['sqrt']\n",
    "# Maximum number of levels in tree\n",
    "max_depth = [int(x) for x in np.linspace(10, 200, num= 15)]\n",
    "max_depth.append(None)\n",
    "# Minimum number of samples required to split a node\n",
    "min_samples_split = [int(x) for x in np.linspace(2, 20, num= 19)]\n",
    "# Minimum number of samples required at each leaf node\n",
    "min_samples_leaf = [int(x) for x in np.linspace(2, 20, num= 19)]\n",
    "# Method of selecting samples for training each tree\n",
    "bootstrap = [True, False]\n",
    "# Create the random grid\n",
    "random_grid = {'n_estimators': n_estimators,\n",
    "               'max_features': max_features,\n",
    "               'max_depth': max_depth,\n",
    "               'min_samples_split': min_samples_split,\n",
    "               'min_samples_leaf': min_samples_leaf,\n",
    "               'bootstrap': bootstrap}\n",
    "print(random_grid)"
   ]
  },
  {
   "cell_type": "code",
   "execution_count": null,
   "metadata": {},
   "outputs": [],
   "source": [
    "# Choosing the type of model\n",
    "model = RandomForestRegressor()"
   ]
  },
  {
   "cell_type": "code",
   "execution_count": null,
   "metadata": {},
   "outputs": [],
   "source": [
    "# Performing the RandomForestRegression with a Random Search on hyper-parameters\n",
    "rf_random = RandomizedSearchCV(estimator=model, param_distributions=random_grid, n_iter=1000, cv=3, verbose=2,\n",
    "                               random_state=42, n_jobs=-1)"
   ]
  },
  {
   "cell_type": "code",
   "execution_count": null,
   "metadata": {},
   "outputs": [],
   "source": [
    "# Fit the random search model\n",
    "rf_random.fit(X_train, Y_train)"
   ]
  },
  {
   "cell_type": "code",
   "execution_count": null,
   "metadata": {},
   "outputs": [],
   "source": [
    "#Creating a Dataframe with the results of the model and then saving them into a .csv file\n",
    "ris = pd.DataFrame(rf_random.cv_results_)\n",
    "ris.to_csv('results_weather1_ultimate(2).csv')\n",
    "# Save the model itself in a .sav file\n",
    "pickle.dump(rf_random, open('model_weather2_ultimate(2).sav', 'wb'))"
   ]
  },
  {
   "cell_type": "markdown",
   "metadata": {},
   "source": [
    "## Result"
   ]
  },
  {
   "cell_type": "code",
   "execution_count": null,
   "metadata": {},
   "outputs": [],
   "source": [
    "## Printing the mean absolute error for each gas\n",
    "print(\"NO2: \" + str(mean_absolute_error(Y_test.NO2 , rf_random.predict(X_test)[: ,0])))\n",
    "print(\"O3: \" + str(mean_absolute_error(Y_test.O3 , rf_random.predict(X_test)[: ,1])))\n",
    "print(\"CO: \" + str(mean_absolute_error(Y_test.CO , rf_random.predict(X_test)[: ,2])))\n",
    "print(\"Total: \" + str(mean_absolute_error(Y_test, rf_random.predict(X_test))))"
   ]
  },
  {
   "cell_type": "markdown",
   "metadata": {},
   "source": [
    "## Hyper Parameters"
   ]
  },
  {
   "cell_type": "code",
   "execution_count": null,
   "metadata": {},
   "outputs": [],
   "source": [
    "#Plotting the hyper-parameters in relation of mean test score\n",
    "#Values are plotted through dots. The brighter the dot, the more times that value has been chosen by the models.\n",
    "#On the X scale, the closer the values are to 0 the better they are\n",
    "\n",
    "h_params = ['param_n_estimators', 'param_max_depth', 'param_min_samples_split', 'param_min_samples_leaf', ]\n",
    "fig = plt.figure(figsize=(25, 15))\n",
    "fig.suptitle('Hyper Parameters')\n",
    "outer = gridspec.GridSpec(3, 2, wspace=0.2, hspace=0.2)\n",
    "for index, h_param in enumerate(h_params):\n",
    "    ax = plt.Subplot(fig, outer[index])\n",
    "    ax.scatter(ris['mean_test_score'], ris[h_param], color='red', alpha=0.4, )\n",
    "    ax.set_ylabel(h_param)\n",
    "    ax.set_xlabel('mean_test_score')\n",
    "    fig.add_subplot(ax)\n",
    "fig.show()\n",
    "fig = plt.figure(figsize=(10, 10))\n",
    "ax = fig.add_subplot()\n",
    "ax.barh(X_test.columns, rf_random.best_estimator_.feature_importances_)\n",
    "plt.show()"
   ]
  },
  {
   "cell_type": "markdown",
   "metadata": {},
   "source": [
    "## Feature Importances"
   ]
  },
  {
   "cell_type": "code",
   "execution_count": null,
   "metadata": {},
   "outputs": [],
   "source": [
    "fig = plt.figure(figsize=(10, 10))\n",
    "ax = fig.add_subplot()\n",
    "ax.barh(X_test.columns, rf_random.best_estimator_.feature_importances_)\n",
    "plt.show()"
   ]
  },
  {
   "cell_type": "markdown",
   "metadata": {},
   "source": [
    "## Prediction vs. Reality"
   ]
  },
  {
   "cell_type": "code",
   "execution_count": null,
   "metadata": {},
   "outputs": [],
   "source": [
    "#Printing the charts to undersand better our predictions\n",
    "\n",
    "fig,((ax1,ax2), (ax3, ax4)) = plt.subplots(nrows=2, ncols=2, figsize=(20, 20))\n",
    "\n",
    "ax1.scatter(Y_test.NO2, rf_random.predict(X_test)[:, 0], label = \"NO2\")\n",
    "ax2.scatter(Y_test.O3, rf_random.predict(X_test)[:, 1], label = \"O3\")\n",
    "ax3.scatter(Y_test.CO, rf_random.predict(X_test)[:, 2], label = \"CO\")\n",
    "\n",
    "ax1.set_xlim(0, 120)\n",
    "ax1.set_ylim(0, 120)\n",
    "ax2.set_xlim(0, 150)\n",
    "ax2.set_ylim(0, 150)\n",
    "ax3.set_xlim(0.5, 2.5)\n",
    "ax3.set_ylim(0.5, 2.5)\n",
    "\n",
    "ax1.set_title('NO2')\n",
    "ax1.set_xlabel('Real data')\n",
    "ax1.set_ylabel('Prediciton')\n",
    "ax2.set_title('O3')\n",
    "ax2.set_xlabel('Real data')\n",
    "ax2.set_ylabel('Prediciton')\n",
    "ax3.set_title('CO')\n",
    "ax3.set_xlabel('Real Data')\n",
    "ax3.set_ylabel('Prediction')\n",
    "\n",
    "ax1.legend()\n",
    "ax2.legend()\n",
    "ax3.legend()\n",
    "\n",
    "plt.show()"
   ]
  },
  {
   "cell_type": "code",
   "execution_count": null,
   "metadata": {},
   "outputs": [],
   "source": []
  },
  {
   "cell_type": "code",
   "execution_count": null,
   "metadata": {},
   "outputs": [],
   "source": []
  }
 ],
 "metadata": {
  "kernelspec": {
   "display_name": "Python 3.10.4 ('.venv': venv)",
   "language": "python",
   "name": "python3"
  },
  "language_info": {
   "name": "python",
   "version": "3.10.4"
  },
  "orig_nbformat": 4,
  "vscode": {
   "interpreter": {
    "hash": "294f7b255e7dd8b72c10d182304dae00e570bb7b6daef79db8aaac26ae436d9e"
   }
  }
 },
 "nbformat": 4,
 "nbformat_minor": 2
}
