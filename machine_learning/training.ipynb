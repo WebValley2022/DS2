{
 "cells": [
  {
   "cell_type": "code",
   "execution_count": 20,
   "metadata": {
    "pycharm": {
     "name": "#%%\n"
    }
   },
   "outputs": [],
   "source": [
    "import math\n",
    "import numpy as np\n",
    "import pandas as pd\n",
    "from matplotlib import pyplot as plt\n",
    "import matplotlib.gridspec as gridspec"
   ]
  },
  {
   "cell_type": "code",
   "execution_count": 24,
   "metadata": {
    "pycharm": {
     "name": "#%%\n"
    }
   },
   "outputs": [],
   "source": [
    "#Reading the file in which the values are saved, converting the Date into a panda Datetime format\n",
    "appa_hours = pd.read_csv(\"../exports/appa_hr_age.csv\")\n",
    "appa_hours.Time = pd.to_datetime(appa_hours.Time)"
   ]
  },
  {
   "cell_type": "code",
   "execution_count": 25,
   "metadata": {
    "pycharm": {
     "name": "#%%\n"
    }
   },
   "outputs": [],
   "source": [
    "#Converting the hour, day, week, month and year into a sin/cos function to gain the cyclicity of the values\n",
    "appa_hours[\"sin_hour\"] = appa_hours[\"Time\"].dt.hour.apply(\n",
    "    lambda x: math.sin(x) * 2 * (math.pi / 24)\n",
    ")\n",
    "appa_hours[\"cos_hour\"] = appa_hours[\"Time\"].dt.hour.apply(\n",
    "    lambda x: math.cos(x) * 2 * (math.pi / 24)\n",
    ")\n",
    "\n",
    "appa_hours[\"sin_weekday\"] = appa_hours[\"Time\"].dt.weekday.apply(\n",
    "    lambda x: math.sin(x) * 2 * (math.pi / 7)\n",
    ")\n",
    "appa_hours[\"cos_weekday\"] = appa_hours[\"Time\"].dt.weekday.apply(\n",
    "    lambda x: math.cos(x) * 2 * (math.pi / 7)\n",
    ")\n",
    "\n",
    "appa_hours[\"sin_month\"] = appa_hours[\"Time\"].dt.month.apply(\n",
    "    lambda x: math.sin(x) * 2 * (math.pi / 12)\n",
    ")\n",
    "\n",
    "appa_hours[\"cos_month\"] = appa_hours[\"Time\"].dt.month.apply(\n",
    "    lambda x: math.cos(x) * 2 * (math.pi / 12)\n",
    ")\n",
    "\n",
    "appa_hours[\"sin_ordate\"] = appa_hours[\"Time\"].apply(\n",
    "    lambda x: math.sin(x.toordinal()) * 2 * (math.pi / 366)\n",
    ")\n",
    "appa_hours[\"cos_ordate\"] = appa_hours[\"Time\"].apply(\n",
    "    lambda x: math.cos(x.toordinal()) * 2 * (math.pi / 366)\n",
    ")\n",
    "\n",
    "appa_hours[\"year\"] = appa_hours[\"Time\"].dt.year"
   ]
  },
  {
   "cell_type": "code",
   "execution_count": 26,
   "metadata": {
    "pycharm": {
     "name": "#%%\n"
    }
   },
   "outputs": [],
   "source": [
    "#selecting all the values we need to train and test the model\n",
    "appa_hours = appa_hours[[\n",
    "    'ZnOR_1', 'ZnOR_2',\n",
    "    'LaFeO3_1', 'LaFeO3_2',\n",
    "    'WO3_1', 'WO3_2',\n",
    "    'ZnOR_1_heatR', 'ZnOR_2_heatR',\n",
    "    'LaFeO3_1_heatR', 'LaFeO3_2_heatR',\n",
    "    'WO3_1_heatR', 'WO3_2_heatR',\n",
    "    'ZnOR_1_heatV', 'ZnOR_2_heatV',\n",
    "    'LaFeO3_1_heatV', 'LaFeO3_2_heatV',\n",
    "    'WO3_1_heatV', 'WO3_2_heatV',\n",
    "    'Temperature', 'Relative_Humidity', 'Pressure', 'VOC',\n",
    "    'ZnOR_1_Age', 'ZnOR_2_Age',\n",
    "    'LaFeO3_1_Age', 'LaFeO3_2_Age',\n",
    "    'WO3_1_Age', 'WO3_2_Age',\n",
    "    'sin_hour', 'cos_hour',\n",
    "    'sin_weekday', 'cos_weekday',\n",
    "    'sin_month', 'cos_month',\n",
    "    'sin_ordate', 'cos_ordate',\n",
    "    'year',\n",
    "    'NO2', 'SO2', 'O3', 'CO'\n",
    "]]"
   ]
  },
  {
   "cell_type": "markdown",
   "metadata": {
    "pycharm": {
     "name": "#%% md\n"
    }
   },
   "source": [
    "# Random Forest"
   ]
  },
  {
   "cell_type": "code",
   "execution_count": 27,
   "metadata": {
    "pycharm": {
     "name": "#%%\n"
    }
   },
   "outputs": [],
   "source": [
    "from sklearn.ensemble import RandomForestRegressor\n",
    "from sklearn.model_selection import RandomizedSearchCV"
   ]
  },
  {
   "cell_type": "code",
   "execution_count": 28,
   "metadata": {
    "pycharm": {
     "name": "#%%\n"
    }
   },
   "outputs": [],
   "source": [
    "#Selecting the features\n",
    "cols = [\n",
    "    'ZnOR_1', 'ZnOR_2',\n",
    "    'LaFeO3_1', 'LaFeO3_2',\n",
    "    'WO3_1', 'WO3_2',\n",
    "    'ZnOR_1_heatR', 'ZnOR_2_heatR',\n",
    "    'LaFeO3_1_heatR', 'LaFeO3_2_heatR',\n",
    "    'WO3_1_heatR', 'WO3_2_heatR',\n",
    "    'ZnOR_1_heatV', 'ZnOR_2_heatV',\n",
    "    'LaFeO3_1_heatV', 'LaFeO3_2_heatV',\n",
    "    'WO3_1_heatV', 'WO3_2_heatV',\n",
    "    'Temperature', 'Relative_Humidity', 'Pressure', 'VOC',\n",
    "    'ZnOR_1_Age', 'ZnOR_2_Age',\n",
    "    'LaFeO3_1_Age', 'LaFeO3_2_Age',\n",
    "    'WO3_1_Age', 'WO3_2_Age',\n",
    "    'sin_hour', 'cos_hour',\n",
    "    'sin_weekday', 'cos_weekday',\n",
    "    'sin_month', 'cos_month',\n",
    "    'sin_ordate', 'cos_ordate',\n",
    "    'year'\n",
    "]\n",
    "\n",
    "#Selecting the target\n",
    "outs = ['NO2', 'O3', 'CO']"
   ]
  },
  {
   "cell_type": "code",
   "execution_count": 29,
   "metadata": {
    "pycharm": {
     "name": "#%%\n"
    }
   },
   "outputs": [],
   "source": [
    "from sklearn.model_selection import train_test_split\n",
    "\n",
    "#splitting the values in training and test\n",
    "vsplit = round(len(appa_hours) * 0.2)\n",
    "\n",
    "X_train = appa_hours.iloc[vsplit:][cols]\n",
    "X_test = appa_hours.iloc[:vsplit][cols]\n",
    "\n",
    "Y_train = appa_hours.iloc[vsplit:][outs]\n",
    "Y_test = appa_hours.iloc[:vsplit][outs]\n"
   ]
  },
  {
   "cell_type": "code",
   "execution_count": 8,
   "metadata": {
    "collapsed": false,
    "pycharm": {
     "name": "#%%\n"
    }
   },
   "outputs": [
    {
     "name": "stdout",
     "output_type": "stream",
     "text": [
      "{'n_estimators': [100, 311, 522, 733, 944, 1155, 1366, 1577, 1788, 2000], 'max_features': ['sqrt'], 'max_depth': [10, 20, 30, 40, 50, 60, 70, 80, 90, 100, 110, None], 'min_samples_split': [2, 5, 10], 'min_samples_leaf': [1, 2, 4], 'bootstrap': [True, False]}\n"
     ]
    }
   ],
   "source": [
    "# Number of trees in random forest\n",
    "n_estimators = [int(x) for x in np.linspace(start=100, stop=2000, num=10)]\n",
    "# Number of features to consider at every split\n",
    "max_features = ['sqrt']\n",
    "# Maximum number of levels in tree\n",
    "max_depth = [int(x) for x in np.linspace(10, 110, num=11)]\n",
    "max_depth.append(None)\n",
    "# Minimum number of samples required to split a node\n",
    "min_samples_split = [2, 5, 10]\n",
    "# Minimum number of samples required at each leaf node\n",
    "min_samples_leaf = [1, 2, 4]\n",
    "# Method of selecting samples for training each tree\n",
    "bootstrap = [True, False]\n",
    "# Create the random grid\n",
    "random_grid = {'n_estimators': n_estimators,\n",
    "               'max_features': max_features,\n",
    "               'max_depth': max_depth,\n",
    "               'min_samples_split': min_samples_split,\n",
    "               'min_samples_leaf': min_samples_leaf,\n",
    "               'bootstrap': bootstrap}\n",
    "print(random_grid)"
   ]
  },
  {
   "cell_type": "code",
   "execution_count": 9,
   "metadata": {
    "collapsed": false,
    "pycharm": {
     "name": "#%%\n"
    }
   },
   "outputs": [],
   "source": [
    "# Choosing the type of model\n",
    "model = RandomForestRegressor()"
   ]
  },
  {
   "cell_type": "code",
   "execution_count": 10,
   "metadata": {
    "collapsed": false,
    "pycharm": {
     "name": "#%%\n"
    }
   },
   "outputs": [
    {
     "name": "stdout",
     "output_type": "stream",
     "text": [
      "Fitting 3 folds for each of 100 candidates, totalling 300 fits\n"
     ]
    },
    {
     "data": {
      "text/plain": [
       "RandomizedSearchCV(cv=3, estimator=RandomForestRegressor(), n_iter=100,\n",
       "                   n_jobs=-1,\n",
       "                   param_distributions={'bootstrap': [True, False],\n",
       "                                        'max_depth': [10, 20, 30, 40, 50, 60,\n",
       "                                                      70, 80, 90, 100, 110,\n",
       "                                                      None],\n",
       "                                        'max_features': ['auto', 'sqrt'],\n",
       "                                        'min_samples_leaf': [1, 2, 4],\n",
       "                                        'min_samples_split': [2, 5, 10],\n",
       "                                        'n_estimators': [100, 311, 522, 733,\n",
       "                                                         944, 1155, 1366, 1577,\n",
       "                                                         1788, 2000]},\n",
       "                   random_state=42, verbose=2)"
      ]
     },
     "execution_count": 10,
     "metadata": {},
     "output_type": "execute_result"
    }
   ],
   "source": [
    "# Performing the RandomForestRegression with a Random Search on hyper-parameters\n",
    "rf_random = RandomizedSearchCV(estimator=model, param_distributions=random_grid, n_iter=100, cv=3, verbose=2,\n",
    "                               random_state=42, n_jobs=-1)\n",
    "# Fit the random search model\n",
    "rf_random.fit(X_train, Y_train)"
   ]
  },
  {
   "cell_type": "code",
   "execution_count": 23,
   "metadata": {
    "collapsed": false,
    "pycharm": {
     "name": "#%%\n"
    }
   },
   "outputs": [],
   "source": [
    "#Creating a Dataframe with the results of the model and then saving them into a .csv file\n",
    "ris = pd.DataFrame(rf_random.cv_results_)\n",
    "ris.to_csv('risultati.csv')"
   ]
  },
  {
   "cell_type": "code",
   "execution_count": 45,
   "metadata": {
    "collapsed": false,
    "pycharm": {
     "name": "#%%\n"
    }
   },
   "outputs": [],
   "source": [
    "#Saving the model itself in a .sav file\n",
    "import pickle\n",
    "pickle.dump(rf_random, open('model/random_forest_gridsearch.sav', 'wb'))"
   ]
  },
  {
   "cell_type": "markdown",
   "metadata": {
    "collapsed": false,
    "pycharm": {
     "name": "#%% md\n"
    }
   },
   "source": [
    "## Results"
   ]
  },
  {
   "cell_type": "code",
   "execution_count": null,
   "metadata": {
    "collapsed": false,
    "pycharm": {
     "name": "#%%\n"
    }
   },
   "outputs": [],
   "source": [
    "#A method to print the performance of the model\n",
    "def evaluate(model, test_features, test_labels):\n",
    "    predictions = model.predict(test_features)\n",
    "    errors = abs(predictions - test_labels)\n",
    "    mape = 100 * np.mean(errors / test_labels)\n",
    "    accuracy = 100 - mape\n",
    "    print('Model Performance')\n",
    "    print(f'Average Degrees Error:\\n{np.mean(errors)}')\n",
    "    print(f'Accuracy:\\n{accuracy}')\n",
    "    return accuracy"
   ]
  },
  {
   "cell_type": "code",
   "execution_count": null,
   "metadata": {
    "collapsed": false,
    "pycharm": {
     "name": "#%%\n"
    }
   },
   "outputs": [],
   "source": [
    "base_accuracy = evaluate(rf_random, X_test, Y_test)"
   ]
  },
  {
   "cell_type": "markdown",
   "metadata": {
    "collapsed": false,
    "pycharm": {
     "name": "#%% md\n"
    }
   },
   "source": [
    "## Feature Importance"
   ]
  },
  {
   "cell_type": "code",
   "execution_count": 1,
   "metadata": {
    "collapsed": false,
    "pycharm": {
     "name": "#%%\n"
    }
   },
   "outputs": [
    {
     "ename": "NameError",
     "evalue": "name 'plt' is not defined",
     "output_type": "error",
     "traceback": [
      "\u001b[1;31m---------------------------------------------------------------------------\u001b[0m",
      "\u001b[1;31mNameError\u001b[0m                                 Traceback (most recent call last)",
      "\u001b[1;32mc:\\Users\\gabri\\Downloads\\DS2\\DS2\\machine_learning\\training.ipynb Cella 20\u001b[0m in \u001b[0;36m<cell line: 1>\u001b[1;34m()\u001b[0m\n\u001b[1;32m----> <a href='vscode-notebook-cell:/c%3A/Users/gabri/Downloads/DS2/DS2/machine_learning/training.ipynb#ch0000020?line=0'>1</a>\u001b[0m fig \u001b[39m=\u001b[39m plt\u001b[39m.\u001b[39mfigure(figsize\u001b[39m=\u001b[39m(\u001b[39m10\u001b[39m, \u001b[39m10\u001b[39m))\n\u001b[0;32m      <a href='vscode-notebook-cell:/c%3A/Users/gabri/Downloads/DS2/DS2/machine_learning/training.ipynb#ch0000020?line=1'>2</a>\u001b[0m ax \u001b[39m=\u001b[39m fig\u001b[39m.\u001b[39madd_subplot()\n\u001b[0;32m      <a href='vscode-notebook-cell:/c%3A/Users/gabri/Downloads/DS2/DS2/machine_learning/training.ipynb#ch0000020?line=2'>3</a>\u001b[0m ax\u001b[39m.\u001b[39mbarh(X_test\u001b[39m.\u001b[39mcolumns, rf_random\u001b[39m.\u001b[39mbest_estimator_\u001b[39m.\u001b[39mfeature_importances_)\n",
      "\u001b[1;31mNameError\u001b[0m: name 'plt' is not defined"
     ]
    }
   ],
   "source": [
    "fig = plt.figure(figsize=(10, 10))\n",
    "ax = fig.add_subplot()\n",
    "ax.barh(X_test.columns, rf_random.best_estimator_.feature_importances_)\n",
    "plt.show()"
   ]
  }
 ],
 "metadata": {
  "kernelspec": {
   "display_name": "Python 3.9.7 64-bit",
   "language": "python",
   "name": "python3"
  },
  "language_info": {
   "codemirror_mode": {
    "name": "ipython",
    "version": 3
   },
   "file_extension": ".py",
   "mimetype": "text/x-python",
   "name": "python",
   "nbconvert_exporter": "python",
   "pygments_lexer": "ipython3",
   "version": "3.9.7"
  },
  "orig_nbformat": 4,
  "vscode": {
   "interpreter": {
    "hash": "c347c8f9a7ef94e4c9e03b4513be7835ed18f45b99a2a817fb579f408b867b16"
   }
  }
 },
 "nbformat": 4,
 "nbformat_minor": 2
}
