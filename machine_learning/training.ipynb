{
 "cells": [
  {
   "cell_type": "code",
   "execution_count": 20,
   "metadata": {
    "pycharm": {
     "name": "#%%\n"
    }
   },
   "outputs": [],
   "source": [
    "import math\n",
    "import numpy as np\n",
    "import pandas as pd\n",
    "from matplotlib import pyplot as plt\n",
    "import matplotlib.gridspec as gridspec"
   ]
  },
  {
   "cell_type": "markdown",
   "source": [],
   "metadata": {
    "collapsed": false,
    "pycharm": {
     "name": "#%% md\n"
    }
   }
  },
  {
   "cell_type": "code",
   "execution_count": 24,
   "metadata": {
    "pycharm": {
     "name": "#%%\n"
    }
   },
   "outputs": [],
   "source": [
    "#Reading the file in which the values are saved, converting the Date into a panda Datetime format\n",
    "appa_hours = pd.read_csv(\"../exports/appa_hr_age.csv\")\n",
    "appa_hours.Time = pd.to_datetime(appa_hours.Time)"
   ]
  },
  {
   "cell_type": "code",
   "execution_count": 25,
   "metadata": {
    "pycharm": {
     "name": "#%%\n"
    }
   },
   "outputs": [],
   "source": [
    "#Converting the hour, day, week, month and year into a sin/cos function to gain the cyclicity of the values\n",
    "appa_hours[\"sin_hour\"] = appa_hours[\"Time\"].dt.hour.apply(\n",
    "    lambda x: math.sin(x) * 2 * (math.pi / 24)\n",
    ")\n",
    "appa_hours[\"cos_hour\"] = appa_hours[\"Time\"].dt.hour.apply(\n",
    "    lambda x: math.cos(x) * 2 * (math.pi / 24)\n",
    ")\n",
    "\n",
    "appa_hours[\"sin_weekday\"] = appa_hours[\"Time\"].dt.weekday.apply(\n",
    "    lambda x: math.sin(x) * 2 * (math.pi / 7)\n",
    ")\n",
    "appa_hours[\"cos_weekday\"] = appa_hours[\"Time\"].dt.weekday.apply(\n",
    "    lambda x: math.cos(x) * 2 * (math.pi / 7)\n",
    ")\n",
    "\n",
    "appa_hours[\"sin_month\"] = appa_hours[\"Time\"].dt.month.apply(\n",
    "    lambda x: math.sin(x) * 2 * (math.pi / 12)\n",
    ")\n",
    "\n",
    "appa_hours[\"cos_month\"] = appa_hours[\"Time\"].dt.month.apply(\n",
    "    lambda x: math.cos(x) * 2 * (math.pi / 12)\n",
    ")\n",
    "\n",
    "appa_hours[\"sin_ordate\"] = appa_hours[\"Time\"].apply(\n",
    "    lambda x: math.sin(x.toordinal()) * 2 * (math.pi / 366)\n",
    ")\n",
    "appa_hours[\"cos_ordate\"] = appa_hours[\"Time\"].apply(\n",
    "    lambda x: math.cos(x.toordinal()) * 2 * (math.pi / 366)\n",
    ")\n",
    "\n",
    "appa_hours[\"year\"] = appa_hours[\"Time\"].dt.year"
   ]
  },
  {
   "cell_type": "code",
   "execution_count": 26,
   "metadata": {
    "pycharm": {
     "name": "#%%\n"
    }
   },
   "outputs": [],
   "source": [
    "#selecting all the values we need to train and test the model\n",
    "appa_hours = appa_hours[[\n",
    "    'ZnOR_1', 'ZnOR_2',\n",
    "    'LaFeO3_1', 'LaFeO3_2',\n",
    "    'WO3_1', 'WO3_2',\n",
    "    'ZnOR_1_heatR', 'ZnOR_2_heatR',\n",
    "    'LaFeO3_1_heatR', 'LaFeO3_2_heatR',\n",
    "    'WO3_1_heatR', 'WO3_2_heatR',\n",
    "    'ZnOR_1_heatV', 'ZnOR_2_heatV',\n",
    "    'LaFeO3_1_heatV', 'LaFeO3_2_heatV',\n",
    "    'WO3_1_heatV', 'WO3_2_heatV',\n",
    "    'Temperature', 'Relative_Humidity', 'Pressure', 'VOC',\n",
    "    'ZnOR_1_Age', 'ZnOR_2_Age',\n",
    "    'LaFeO3_1_Age', 'LaFeO3_2_Age',\n",
    "    'WO3_1_Age', 'WO3_2_Age',\n",
    "    'sin_hour', 'cos_hour',\n",
    "    'sin_weekday', 'cos_weekday',\n",
    "    'sin_month', 'cos_month',\n",
    "    'sin_ordate', 'cos_ordate',\n",
    "    'year',\n",
    "    'NO2', 'SO2', 'O3', 'CO'\n",
    "]]"
   ]
  },
  {
   "cell_type": "markdown",
   "metadata": {
    "pycharm": {
     "name": "#%% md\n"
    }
   },
   "source": [
    "# Random Forest"
   ]
  },
  {
   "cell_type": "code",
   "execution_count": 27,
   "metadata": {
    "pycharm": {
     "name": "#%%\n"
    }
   },
   "outputs": [],
   "source": [
    "from sklearn.ensemble import RandomForestRegressor\n",
    "from sklearn.model_selection import RandomizedSearchCV"
   ]
  },
  {
   "cell_type": "code",
   "execution_count": 28,
   "metadata": {
    "pycharm": {
     "name": "#%%\n"
    }
   },
   "outputs": [],
   "source": [
    "#Selecting the features\n",
    "cols = [\n",
    "    'ZnOR_1', 'ZnOR_2',\n",
    "    'LaFeO3_1', 'LaFeO3_2',\n",
    "    'WO3_1', 'WO3_2',\n",
    "    'ZnOR_1_heatR', 'ZnOR_2_heatR',\n",
    "    'LaFeO3_1_heatR', 'LaFeO3_2_heatR',\n",
    "    'WO3_1_heatR', 'WO3_2_heatR',\n",
    "    'ZnOR_1_heatV', 'ZnOR_2_heatV',\n",
    "    'LaFeO3_1_heatV', 'LaFeO3_2_heatV',\n",
    "    'WO3_1_heatV', 'WO3_2_heatV',\n",
    "    'Temperature', 'Relative_Humidity', 'Pressure', 'VOC',\n",
    "    'ZnOR_1_Age', 'ZnOR_2_Age',\n",
    "    'LaFeO3_1_Age', 'LaFeO3_2_Age',\n",
    "    'WO3_1_Age', 'WO3_2_Age',\n",
    "    'sin_hour', 'cos_hour',\n",
    "    'sin_weekday', 'cos_weekday',\n",
    "    'sin_month', 'cos_month',\n",
    "    'sin_ordate', 'cos_ordate',\n",
    "    'year'\n",
    "]\n",
    "\n",
    "#Selecting the target\n",
    "outs = ['NO2', 'O3', 'CO']"
   ]
  },
  {
   "cell_type": "code",
   "execution_count": 29,
   "metadata": {
    "pycharm": {
     "name": "#%%\n"
    }
   },
   "outputs": [],
   "source": [
    "from sklearn.model_selection import train_test_split\n",
    "\n",
    "#splitting the values in training and test\n",
    "vsplit = round(len(appa_hours) * 0.2)\n",
    "\n",
    "X_train = appa_hours.iloc[vsplit:][cols]\n",
    "X_test = appa_hours.iloc[:vsplit][cols]\n",
    "\n",
    "Y_train = appa_hours.iloc[vsplit:][outs]\n",
    "Y_test = appa_hours.iloc[:vsplit][outs]\n"
   ]
  },
  {
   "cell_type": "code",
   "execution_count": 8,
   "outputs": [
    {
     "name": "stdout",
     "output_type": "stream",
     "text": [
      "{'n_estimators': [100, 311, 522, 733, 944, 1155, 1366, 1577, 1788, 2000], 'max_features': ['sqrt'], 'max_depth': [10, 20, 30, 40, 50, 60, 70, 80, 90, 100, 110, None], 'min_samples_split': [2, 5, 10], 'min_samples_leaf': [1, 2, 4], 'bootstrap': [True, False]}\n"
     ]
    }
   ],
   "source": [
    "# Number of trees in random forest\n",
    "n_estimators = [int(x) for x in np.linspace(start=100, stop=2000, num=10)]\n",
    "# Number of features to consider at every split\n",
    "max_features = ['sqrt']\n",
    "# Maximum number of levels in tree\n",
    "max_depth = [int(x) for x in np.linspace(10, 110, num=11)]\n",
    "max_depth.append(None)\n",
    "# Minimum number of samples required to split a node\n",
    "min_samples_split = [2, 5, 10]\n",
    "# Minimum number of samples required at each leaf node\n",
    "min_samples_leaf = [1, 2, 4]\n",
    "# Method of selecting samples for training each tree\n",
    "bootstrap = [True, False]\n",
    "# Create the random grid\n",
    "random_grid = {'n_estimators': n_estimators,\n",
    "               'max_features': max_features,\n",
    "               'max_depth': max_depth,\n",
    "               'min_samples_split': min_samples_split,\n",
    "               'min_samples_leaf': min_samples_leaf,\n",
    "               'bootstrap': bootstrap}\n",
    "print(random_grid)"
   ],
   "metadata": {
    "collapsed": false,
    "pycharm": {
     "name": "#%%\n"
    }
   }
  },
  {
   "cell_type": "code",
   "execution_count": 9,
   "outputs": [],
   "source": [
    "# Choosing the type of model\n",
    "model = RandomForestRegressor()"
   ],
   "metadata": {
    "collapsed": false,
    "pycharm": {
     "name": "#%%\n"
    }
   }
  },
  {
   "cell_type": "code",
   "execution_count": 10,
   "outputs": [
    {
     "name": "stdout",
     "output_type": "stream",
     "text": [
      "Fitting 3 folds for each of 100 candidates, totalling 300 fits\n"
     ]
    },
    {
     "data": {
      "text/plain": "RandomizedSearchCV(cv=3, estimator=RandomForestRegressor(), n_iter=100,\n                   n_jobs=-1,\n                   param_distributions={'bootstrap': [True, False],\n                                        'max_depth': [10, 20, 30, 40, 50, 60,\n                                                      70, 80, 90, 100, 110,\n                                                      None],\n                                        'max_features': ['auto', 'sqrt'],\n                                        'min_samples_leaf': [1, 2, 4],\n                                        'min_samples_split': [2, 5, 10],\n                                        'n_estimators': [100, 311, 522, 733,\n                                                         944, 1155, 1366, 1577,\n                                                         1788, 2000]},\n                   random_state=42, verbose=2)"
     },
     "execution_count": 10,
     "metadata": {},
     "output_type": "execute_result"
    }
   ],
   "source": [
    "# Performing the RandomForestRegression with a Random Search on hyper-parameters\n",
    "rf_random = RandomizedSearchCV(estimator=model, param_distributions=random_grid, n_iter=100, cv=3, verbose=2,\n",
    "                               random_state=42, n_jobs=-1)\n",
    "# Fit the random search model\n",
    "rf_random.fit(X_train, Y_train)"
   ],
   "metadata": {
    "collapsed": false,
    "pycharm": {
     "name": "#%%\n"
    }
   }
  },
  {
   "cell_type": "code",
   "execution_count": 23,
   "outputs": [],
   "source": [
    "#Creating a Dataframe with the results of the model and then saving them into a .csv file\n",
    "ris = pd.DataFrame(rf_random.cv_results_)\n",
    "ris.to_csv('risultati.csv')"
   ],
   "metadata": {
    "collapsed": false,
    "pycharm": {
     "name": "#%%\n"
    }
   }
  },
  {
   "cell_type": "code",
   "execution_count": 45,
   "outputs": [],
   "source": [
    "#Saving the model itself in a .sav file\n",
    "import pickle\n",
    "pickle.dump(rf_random, open('model/random_forest_gridsearch.sav', 'wb'))"
   ],
   "metadata": {
    "collapsed": false,
    "pycharm": {
     "name": "#%%\n"
    }
   }
  },
  {
   "cell_type": "markdown",
   "source": [
    "## Results"
   ],
   "metadata": {
    "collapsed": false,
    "pycharm": {
     "name": "#%% md\n"
    }
   }
  },
  {
   "cell_type": "code",
   "execution_count": null,
   "outputs": [],
   "source": [
    "#A method to print the performance of the model\n",
    "def evaluate(model, test_features, test_labels):\n",
    "    predictions = model.predict(test_features)\n",
    "    errors = abs(predictions - test_labels)\n",
    "    mape = 100 * np.mean(errors / test_labels)\n",
    "    accuracy = 100 - mape\n",
    "    print('Model Performance')\n",
    "    print(f'Average Degrees Error:\\n{np.mean(errors)}')\n",
    "    print(f'Accuracy:\\n{accuracy}')\n",
    "    return accuracy"
   ],
   "metadata": {
    "collapsed": false,
    "pycharm": {
     "name": "#%%\n"
    }
   }
  },
  {
   "cell_type": "code",
   "execution_count": null,
   "outputs": [],
   "source": [
    "base_accuracy = evaluate(rf_random, X_test, Y_test)"
   ],
   "metadata": {
    "collapsed": false,
    "pycharm": {
     "name": "#%%\n"
    }
   }
  },
  {
   "cell_type": "markdown",
   "source": [
    "## Hyper Parameters Plots"
   ],
   "metadata": {
    "collapsed": false,
    "pycharm": {
     "name": "#%% md\n"
    }
   }
  },
  {
   "cell_type": "code",
   "execution_count": 18,
   "outputs": [
    {
     "name": "stderr",
     "output_type": "stream",
     "text": [
      "C:\\Users\\londe\\AppData\\Local\\Temp\\ipykernel_12420\\2667864387.py:22: UserWarning: Matplotlib is currently using module://matplotlib_inline.backend_inline, which is a non-GUI backend, so cannot show the figure.\n",
      "  fig.show()\n"
     ]
    },
    {
     "data": {
      "text/plain": "<Figure size 1800x1080 with 4 Axes>",
      "image/png": "[encoded data removed]"
     },
     "metadata": {
      "needs_background": "light"
     },
     "output_type": "display_data"
    }
   ],
   "source": [
    "#Plotting the hyper-parameters in relation of mean test score\n",
    "#Values are plotted through dots. The brighter the dot, the more times that value has been chosen by the models.\n",
    "#On the X scale, the closer the values are to 0 the better they are\n",
    "\n",
    "h_params = ['param_n_estimators', 'param_max_depth' , 'param_min_samples_split', 'param_min_samples_leaf']\n",
    "fig = plt.figure(figsize=(25, 15))\n",
    "fig.suptitle('Hyper Parameters')\n",
    "outer = gridspec.GridSpec(2, 2, wspace=0.2, hspace=0.2)\n",
    "for index, h_param in enumerate(h_params):\n",
    "    ax = plt.Subplot(fig, outer[index])\n",
    "    ax.scatter(ris['mean_test_score'], ris[h_param],color='red', alpha=0.4, )\n",
    "    ax.set_ylabel(h_param)\n",
    "    ax.set_xlabel('mean_test_score')\n",
    "    fig.add_subplot(ax)\n",
    "fig.show()"
   ],
   "metadata": {
    "collapsed": false,
    "pycharm": {
     "name": "#%%\n"
    }
   }
  },
  {
   "cell_type": "markdown",
   "source": [
    "## Feature Importance"
   ],
   "metadata": {
    "collapsed": false,
    "pycharm": {
     "name": "#%% md\n"
    }
   }
  },
  {
   "cell_type": "code",
   "execution_count": 30,
   "outputs": [
    {
     "ename": "NameError",
     "evalue": "name 'rf_random' is not defined",
     "output_type": "error",
     "traceback": [
      "\u001B[1;31m---------------------------------------------------------------------------\u001B[0m",
      "\u001B[1;31mNameError\u001B[0m                                 Traceback (most recent call last)",
      "Input \u001B[1;32mIn [30]\u001B[0m, in \u001B[0;36m<module>\u001B[1;34m\u001B[0m\n\u001B[0;32m      1\u001B[0m fig \u001B[38;5;241m=\u001B[39m plt\u001B[38;5;241m.\u001B[39mfigure(figsize\u001B[38;5;241m=\u001B[39m(\u001B[38;5;241m10\u001B[39m, \u001B[38;5;241m10\u001B[39m))\n\u001B[0;32m      2\u001B[0m ax \u001B[38;5;241m=\u001B[39m fig\u001B[38;5;241m.\u001B[39madd_subplot()\n\u001B[1;32m----> 3\u001B[0m ax\u001B[38;5;241m.\u001B[39mbarh(X_test\u001B[38;5;241m.\u001B[39mcolumns, \u001B[43mrf_random\u001B[49m\u001B[38;5;241m.\u001B[39mbest_estimator_\u001B[38;5;241m.\u001B[39mfeature_importances_)\n\u001B[0;32m      4\u001B[0m plt\u001B[38;5;241m.\u001B[39mshow()\n",
      "\u001B[1;31mNameError\u001B[0m: name 'rf_random' is not defined"
     ]
    },
    {
     "data": {
      "text/plain": "<Figure size 720x720 with 1 Axes>",
      "image/png": "[encoded data removed]"
     },
     "metadata": {
      "needs_background": "light"
     },
     "output_type": "display_data"
    }
   ],
   "source": [
    "fig = plt.figure(figsize=(10, 10))\n",
    "ax = fig.add_subplot()\n",
    "ax.barh(X_test.columns, rf_random.best_estimator_.feature_importances_)\n",
    "plt.show()"
   ],
   "metadata": {
    "collapsed": false,
    "pycharm": {
     "name": "#%%\n"
    }
   }
  }
 ],
 "metadata": {
  "kernelspec": {
   "display_name": "Python 3.9.13 64-bit",
   "language": "python",
   "name": "python3"
  },
  "language_info": {
   "codemirror_mode": {
    "name": "ipython",
    "version": 3
   },
   "file_extension": ".py",
   "mimetype": "text/x-python",
   "name": "python",
   "nbconvert_exporter": "python",
   "pygments_lexer": "ipython3",
   "version": "3.9.13"
  },
  "orig_nbformat": 4,
  "vscode": {
   "interpreter": {
    "hash": "36cf16204b8548560b1c020c4e8fb5b57f0e4c58016f52f2d4be01e192833930"
   }
  }
 },
 "nbformat": 4,
 "nbformat_minor": 2
}