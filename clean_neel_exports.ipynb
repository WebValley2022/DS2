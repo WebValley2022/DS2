{
 "cells": [
  {
   "cell_type": "code",
   "execution_count": 31,
   "metadata": {},
   "outputs": [],
   "source": [
    "import math\n",
    "import numpy as np\n",
    "import pandas as pd"
   ]
  },
  {
   "cell_type": "code",
   "execution_count": 32,
   "metadata": {},
   "outputs": [],
   "source": [
    "# Retrieve Neel's \"clean\" files\n",
    "appa1 = pd.read_csv('neel_exports/appa_hr_crop_withCreated.csv')\n",
    "appa2 = pd.read_csv('neel_exports/appa_hr_2_crop_withCreated.csv')\n",
    "appa1_gt = pd.read_csv('neel_exports/appa1_gt_clean_withCO.csv')\n",
    "appa2_gt = pd.read_csv('data/appa2_gt.csv')\n",
    "\n",
    "# Remove confusing indices in appa1_gt\n",
    "appa1_gt = appa1_gt.drop(columns='Unnamed: 0')"
   ]
  },
  {
   "cell_type": "code",
   "execution_count": 33,
   "metadata": {},
   "outputs": [],
   "source": [
    "# Convert time columns from Timestamp format to DateTime format\n",
    "appa1.Time = pd.to_datetime(appa1.Time)\n",
    "appa2.Time = pd.to_datetime(appa2.Time)\n",
    "\n",
    "appa1_gt.Time = pd.to_datetime(appa1.Time)\n",
    "appa2_gt.Time = pd.to_datetime(appa2.Time)"
   ]
  },
  {
   "cell_type": "code",
   "execution_count": 34,
   "metadata": {},
   "outputs": [],
   "source": [
    "def add_times(df):\n",
    "    # Add periodical time features to the dataset\n",
    "    \n",
    "    # HOUR OF THE DAY\n",
    "    df[\"sin_hour\"] = df[\"Time\"].dt.hour.apply(\n",
    "        lambda x: math.sin(x) * 2 * (math.pi / 24)\n",
    "    )\n",
    "    df[\"cos_hour\"] = df[\"Time\"].dt.hour.apply(\n",
    "        lambda x: math.cos(x) * 2 * (math.pi / 24)\n",
    "    )\n",
    "\n",
    "    # DAY OF THE WEEK\n",
    "    df[\"sin_weekday\"] = df[\"Time\"].dt.weekday.apply(\n",
    "        lambda x: math.sin(x) * 2 * (math.pi / 7)\n",
    "    )\n",
    "    df[\"cos_weekday\"] = df[\"Time\"].dt.weekday.apply(\n",
    "        lambda x: math.cos(x) * 2 * (math.pi / 7)\n",
    "    )\n",
    "\n",
    "    # MONTH OF THE YEAR\n",
    "    df[\"sin_month\"] = df[\"Time\"].dt.month.apply(\n",
    "        lambda x: math.sin(x) * 2 * (math.pi / 12)\n",
    "    )\n",
    "\n",
    "    df[\"cos_month\"] = df[\"Time\"].dt.month.apply(\n",
    "        lambda x: math.cos(x) * 2 * (math.pi / 12)\n",
    "    )\n",
    "\n",
    "    # DAY OF THE YEAR (ORDINAL DATE)\n",
    "    df[\"sin_ordate\"] = df[\"Time\"].apply(\n",
    "        lambda x: math.sin(x.toordinal()) * 2 * (math.pi / 366)\n",
    "    )\n",
    "    df[\"cos_ordate\"] = df[\"Time\"].apply(\n",
    "        lambda x: math.cos(x.toordinal()) * 2 * (math.pi / 366)\n",
    "    )\n",
    "\n",
    "    # Add the year feature\n",
    "    df[\"year\"] = df[\"Time\"].dt.year\n",
    "\n",
    "add_times(appa1)\n",
    "add_times(appa2)"
   ]
  },
  {
   "cell_type": "code",
   "execution_count": 35,
   "metadata": {},
   "outputs": [],
   "source": [
    "# Match column names to the convention\n",
    "def rename_columns(df):\n",
    "    df.columns = df.columns.str.replace('TimeSinceCreated', 'Age')\n",
    "\n",
    "    df.columns = df.columns.str.replace('heatR_1', '1_heatR')\n",
    "    df.columns = df.columns.str.replace('heatV_1', '1_heatV')\n",
    "    df.columns = df.columns.str.replace('heatR_2', '2_heatR')\n",
    "    df.columns = df.columns.str.replace('heatV_2', '2_heatV')\n",
    "\n",
    "rename_columns(appa1)\n",
    "rename_columns(appa2)"
   ]
  },
  {
   "cell_type": "code",
   "execution_count": 36,
   "metadata": {},
   "outputs": [],
   "source": [
    "# Add appa2_gt data to appa2 (The good old Samu's way)\n",
    "for col in appa2_gt.columns:\n",
    "    if col == 'Time':\n",
    "        continue\n",
    "    appa2[col] = appa2_gt[col]"
   ]
  },
  {
   "cell_type": "code",
   "execution_count": 39,
   "metadata": {},
   "outputs": [
    {
     "name": "stdout",
     "output_type": "stream",
     "text": [
      "Index(['Time', 'ZnOR_1', 'ZnOR_2', 'LaFeO3_1', 'LaFeO3_2', 'WO3_1', 'WO3_2',\n",
      "       'ZnOR_1_heatR', 'ZnOR_2_heatR', 'LaFeO3_1_heatR', 'LaFeO3_2_heatR',\n",
      "       'WO3_1_heatR', 'WO3_2_heatR', 'ZnOR_1_heatV', 'ZnOR_2_heatV',\n",
      "       'LaFeO3_1_heatV', 'LaFeO3_2_heatV', 'WO3_1_heatV', 'WO3_2_heatV',\n",
      "       'Temperature', 'Relative_Humidity', 'Pressure', 'VOC', 'ZnOR_1_Age',\n",
      "       'ZnOR_2_Age', 'LaFeO3_1_Age', 'LaFeO3_2_Age', 'WO3_1_Age', 'WO3_2_Age',\n",
      "       'sin_hour', 'cos_hour', 'sin_weekday', 'cos_weekday', 'sin_month',\n",
      "       'cos_month', 'sin_ordate', 'cos_ordate', 'year', 'PM10', 'NO2', 'SO2',\n",
      "       'O3', 'CO'],\n",
      "      dtype='object')\n",
      "Index(['Time', 'LaFeO3_1', 'LaFeO3_2', 'STN_1', 'STN_2', 'LaFeO3_1_heatR',\n",
      "       'LaFeO3_2_heatR', 'STN_1_heatR', 'STN_2_heatR', 'LaFeO3_1_heatV',\n",
      "       'LaFeO3_2_heatV', 'STN_1_heatV', 'STN_2_heatV', 'Temperature',\n",
      "       'Relative_Humidity', 'Pressure', 'VOC', 'LaFeO3_1_Age', 'LaFeO3_2_Age',\n",
      "       'STN_1_Age', 'STN_2_Age', 'sin_hour', 'cos_hour', 'sin_weekday',\n",
      "       'cos_weekday', 'sin_month', 'cos_month', 'sin_ordate', 'cos_ordate',\n",
      "       'year', 'PM10', 'CO', 'NO2'],\n",
      "      dtype='object')\n"
     ]
    }
   ],
   "source": [
    "# Move ground truth labels to the end\n",
    "def move_labels (df, labels):\n",
    "    for label in labels:\n",
    "        pos = len(df.columns) - 1\n",
    "        col = df.pop(label)\n",
    "        df.insert(pos, label, col)\n",
    "    print(df.columns)\n",
    "\n",
    "appa1_labels, appa2_labels = ['PM10', 'NO2', 'SO2', 'O3', 'CO'], ['PM10', 'CO', 'NO2']\n",
    "move_labels(appa1, appa1_labels)\n",
    "move_labels(appa2, appa2_labels)"
   ]
  },
  {
   "cell_type": "code",
   "execution_count": 40,
   "metadata": {},
   "outputs": [],
   "source": [
    "# Export\n",
    "appa1.to_csv('noam_exports/appa1.csv')\n",
    "appa2.to_csv('noam_exports/appa2.csv')"
   ]
  }
 ],
 "metadata": {
  "kernelspec": {
   "display_name": "Python 3.10.5 64-bit",
   "language": "python",
   "name": "python3"
  },
  "language_info": {
   "codemirror_mode": {
    "name": "ipython",
    "version": 3
   },
   "file_extension": ".py",
   "mimetype": "text/x-python",
   "name": "python",
   "nbconvert_exporter": "python",
   "pygments_lexer": "ipython3",
   "version": "3.10.5"
  },
  "orig_nbformat": 4,
  "vscode": {
   "interpreter": {
    "hash": "26de051ba29f2982a8de78e945f0abaf191376122a1563185a90213a26c5da77"
   }
  }
 },
 "nbformat": 4,
 "nbformat_minor": 2
}
