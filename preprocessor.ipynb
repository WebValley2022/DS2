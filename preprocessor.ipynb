{
 "cells": [
  {
   "cell_type": "markdown",
   "metadata": {},
   "source": [
    "# Reformatter and resampler of APPA's data\n",
    "mainly by *Samuele Facenda*\n",
    "\n",
    "copy-paste contributed by *Magoni Parker*\n",
    "\n",
    "\n",
    "--- \n",
    "\n",
    "convert the table with a column for every channel to a table(with a table with the chenges of sensing materials) with a feature that is the sensing material, age of the sensor, sin and cos of date and a lot of other things\n"
   ]
  },
  {
   "cell_type": "code",
   "execution_count": 2,
   "metadata": {},
   "outputs": [],
   "source": [
    "import math\n",
    "import locale\n",
    "import numpy as np\n",
    "import pandas as pd\n",
    "\n",
    "from tqdm import tqdm\n",
    "from numpy import NaN\n",
    "\n",
    "\n",
    "NUMBER_OF_SENSORS = 8"
   ]
  },
  {
   "cell_type": "code",
   "execution_count": 3,
   "metadata": {},
   "outputs": [],
   "source": [
    "def get_sensing_mat(index_date, channel):\n",
    "    global timeline\n",
    "    return timeline[dates_str[index_date]][timeline.channel == channel].values[0]\n",
    "\n",
    "def find_change_date(index_date_reach, channel):\n",
    "    global timeline, dates_str, dates, NUMBER_OF_SENSORS\n",
    "\n",
    "    actual_sens_mat = get_sensing_mat(index_date_reach, channel)\n",
    "    if  not '*' in actual_sens_mat:\n",
    "        return dates[index_date_reach]\n",
    "    else:\n",
    "        # find the last change\n",
    "        if get_sensing_mat(index_date_reach - 1,channel) in actual_sens_mat:\n",
    "            # do the same thing on the previus cell\n",
    "            return find_change_date(index_date_reach - 1, channel)\n",
    "        else:\n",
    "            # the sensor changed channel, find the channel and do the same thing\n",
    "            channel_before = 1\n",
    "            while channel_before <= NUMBER_OF_SENSORS:\n",
    "                if get_sensing_mat(index_date_reach -1,channel_before) in actual_sens_mat:\n",
    "                    break\n",
    "                channel_before += 1\n",
    "            else:\n",
    "                raise Exception(f\"error in find previus position of sensor\\n actual index {index_date_reach} type {actual_sens_mat}\")\n",
    "            return find_change_date(index_date_reach - 1, channel_before)\n"
   ]
  },
  {
   "cell_type": "code",
   "execution_count": 4,
   "metadata": {},
   "outputs": [],
   "source": [
    "def elaborate_dataset(dataset, out_file):\n",
    "    columns = ['ts','sensing_material','signal_res','heater_res','heater_volt','T','RH','P','sin_hour','cos_hour','sin_ordate','cos_ordate','sin_weekday','cos_weekday','year','age']\n",
    "    new_data = pd.DataFrame(columns=columns)\n",
    "\n",
    "    last_change_date = [dates[0] for _ in range(NUMBER_OF_SENSORS)]\n",
    "    index_date_reached = 0\n",
    "    actual_sensing_material = [get_sensing_mat(0, i) for i in range(1, NUMBER_OF_SENSORS + 1)]\n",
    "\n",
    "    for index, record in tqdm(dataset.iterrows(), total = dataset.shape[0]):\n",
    "        if record.ts.date() < dates[0].date():\n",
    "            # skip all data before sensor changing(and sensing mat knowing)\n",
    "            continue\n",
    "\n",
    "        if index_date_reached + 1 != len(dates) and record.ts.date() == dates[index_date_reached + 1].date():\n",
    "            # reached sensing material change day\n",
    "            index_date_reached += 1\n",
    "            for channel in range(NUMBER_OF_SENSORS):\n",
    "                last_change_date[channel] = find_change_date(index_date_reached, channel+1)\n",
    "\n",
    "            # update the sensing material array\n",
    "            actual_sensing_material = [get_sensing_mat(index_date_reached,i) for i in range(1, NUMBER_OF_SENSORS + 1)]\n",
    "\n",
    "        append_ds = pd.DataFrame(columns=columns)\n",
    "        for channel in range(1, NUMBER_OF_SENSORS + 1):\n",
    "            if pd.isnull(record[\"Rs\" + str(channel)]):\n",
    "                continue\n",
    "            \n",
    "            # for every channel add a row\n",
    "            append_ds.loc[len(append_ds.index)] = [\n",
    "                record['ts'],\n",
    "                actual_sensing_material[channel - 1].replace(\"*\",\"\"),\n",
    "                record['Rs' + str(channel)],\n",
    "                record['Rh' + str(channel)],\n",
    "                record['Vh' + str(channel)],\n",
    "                record['T'],\n",
    "                record['RH'],\n",
    "                record['P'],\n",
    "                math.sin(record['ts'].hour) * 2 * (math.pi / 24),\n",
    "                math.cos(record['ts'].hour) * 2 * (math.pi / 24),\n",
    "                math.sin(record['ts'].toordinal()) * 2 * (math.pi / 366),\n",
    "                math.cos(record['ts'].toordinal()) * 2 * (math.pi / 366),\n",
    "                math.sin(record['ts'].weekday()) * 2 * (math.pi / 7),\n",
    "                math.cos(record['ts'].weekday()) * 2 * (math.pi / 7),\n",
    "                record['ts'].year,\n",
    "                (record['ts'] - last_change_date[channel - 1]).days\n",
    "            ]\n",
    "            \n",
    "        new_data = pd.concat(objs=(new_data, append_ds))\n",
    "    new_data = new_data.dropna().reset_index(drop=True)\n",
    "    new_data.to_csv(f'{out_file}.csv', index=False)"
   ]
  },
  {
   "cell_type": "code",
   "execution_count": 5,
   "metadata": {},
   "outputs": [],
   "source": [
    "def create_dataset(df_file, timeline_file):\n",
    "    global timeline, NUMBER_OF_SECONDS\n",
    "\n",
    "    df = pd.read_csv(f'{df_file}.csv')\n",
    "    timeline = pd.read_csv(f'{timeline_file}.csv')\n",
    "\n",
    "    # get the timestamp of the sensing material change date\n",
    "    global dates_str, dates\n",
    "    dates_str = timeline.columns.to_list()\n",
    "    dates_str.remove(\"channel\")\n",
    "    dates = [pd.to_datetime(x) for x in dates_str]\n",
    "    appa_1 = df[df.ts.str.contains(\"\\0\") == False]\n",
    "    \n",
    "    # change raw_table ts column to timestamp\n",
    "    df.ts = pd.to_datetime(df.ts.str.slice(start = 0, stop = 24), format = \"%a %b %d %Y %H:%M:%S\")\n",
    "    \n",
    "    # set and reset index to computate the mea\n",
    "    df = df.set_index(\"ts\")\n",
    "    df = df.resample(\"H\").mean()\n",
    "    df = df.reset_index(level=0)\n",
    "\n",
    "    elaborate_dataset(df, f'{df_file}_adjusted')"
   ]
  },
  {
   "cell_type": "code",
   "execution_count": 6,
   "metadata": {},
   "outputs": [
    {
     "name": "stderr",
     "output_type": "stream",
     "text": [
      "100%|██████████| 25534/25534 [05:18<00:00, 80.18it/s]   \n",
      "100%|██████████| 25517/25517 [05:17<00:00, 80.35it/s]   \n"
     ]
    }
   ],
   "source": [
    "create_dataset('appa1', 'appa1_timeline')\n",
    "create_dataset('appa2', 'appa2_timeline')"
   ]
  }
 ],
 "metadata": {
  "kernelspec": {
   "display_name": "Python 3.9.13 64-bit",
   "language": "python",
   "name": "python3"
  },
  "language_info": {
   "codemirror_mode": {
    "name": "ipython",
    "version": 3
   },
   "file_extension": ".py",
   "mimetype": "text/x-python",
   "name": "python",
   "nbconvert_exporter": "python",
   "pygments_lexer": "ipython3",
   "version": "3.9.13"
  },
  "orig_nbformat": 4,
  "vscode": {
   "interpreter": {
    "hash": "36cf16204b8548560b1c020c4e8fb5b57f0e4c58016f52f2d4be01e192833930"
   }
  }
 },
 "nbformat": 4,
 "nbformat_minor": 2
}
