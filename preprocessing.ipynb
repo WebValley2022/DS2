{
 "cells": [
  {
   "cell_type": "code",
   "execution_count": 1,
   "metadata": {},
   "outputs": [],
   "source": [
    "import math\n",
    "import warnings\n",
    "import numpy as np\n",
    "import pandas as pd\n",
    "\n",
    "from tqdm import tqdm\n",
    "from matplotlib import pyplot as plt\n",
    "\n",
    "\n",
    "warnings.simplefilter(action='ignore', category=FutureWarning)"
   ]
  },
  {
   "cell_type": "code",
   "execution_count": 2,
   "metadata": {},
   "outputs": [],
   "source": [
    "appa1 = pd.read_csv(\"data/appa1.csv\")\n",
    "appa1 = appa1.drop(columns='Unnamed: 0')"
   ]
  },
  {
   "cell_type": "markdown",
   "metadata": {},
   "source": [
    "### FBK original dataset\n",
    "\n",
    "| ts        | The time the data was taken (date time)                                                                      |\n",
    "|-----------|--------------------------------------------------------------------------------------------------------------|\n",
    "| Rs1 - Rs8 | Resistance value of all 8 sensors, usually paired the same way (1,2) (3,4)...                                |\n",
    "| Rh1 - Rh8 | Resistance value of the heaters, ideally should stay stable or correlated to tempurature                     |\n",
    "| Vh1 - Vh8 | Voltage of the heater                                                                                        |\n",
    "| T         | Temperature in C                                                                                             |\n",
    "| RH        | Relative Humidity                                                                                            |\n",
    "| P         | Air pressure                                                                                                 |\n",
    "| BME       | Volatile Organic Compounds (VOC), from the BME280 sensor. Likely unrelated but added because its extra data! |"
   ]
  },
  {
   "cell_type": "code",
   "execution_count": 3,
   "metadata": {},
   "outputs": [
    {
     "data": {
      "text/plain": [
       "Timedelta('0 days 00:01:00')"
      ]
     },
     "execution_count": 3,
     "metadata": {},
     "output_type": "execute_result"
    }
   ],
   "source": [
    "appa1.at[381849, \"Time\"] = pd.to_datetime(\"Tue Jan 12 2021 15:39:26 GMT+0000\")\n",
    "+ pd.to_timedelta(1, unit=\"min\")"
   ]
  },
  {
   "cell_type": "code",
   "execution_count": 4,
   "metadata": {},
   "outputs": [
    {
     "name": "stderr",
     "output_type": "stream",
     "text": [
      "  0%|          | 0/1183842 [00:00<?, ?it/s]"
     ]
    },
    {
     "ename": "",
     "evalue": "",
     "output_type": "error",
     "traceback": [
      "\u001b[1;31mCanceled future for execute_request message before replies were done"
     ]
    },
    {
     "ename": "",
     "evalue": "",
     "output_type": "error",
     "traceback": [
      "\u001b[1;31mThe Kernel crashed while executing code in the the current cell or a previous cell. Please review the code in the cell(s) to identify a possible cause of the failure. Click <a href='https://aka.ms/vscodeJupyterKernelCrash'>here</a> for more info. View Jupyter <a href='command:jupyter.viewOutput'>log</a> for further details."
     ]
    }
   ],
   "source": [
    "appa1 = appa1.rename(columns = {\"ts\": \"Time\", \"T\": \"Temperature\", \"RH\": \"Relative_Humidity\", \"P\": \"Pressure\", \"T\": \"Temperature\", \"T\": \"Temperature\", \"BME\": \"VOC\"})\n",
    "\n",
    "# interpolate NaN values\n",
    "for i, row in tqdm(appa1.iterrows(), total=len(appa1)):\n",
    "    if type(row.Time) != str:\n",
    "        print(i, appa1.iloc[i-1].Time, appa1.iloc[i].Time)\n",
    "        appa1.at[i, \"Time\"] = pd.to_datetime(\" \".join(appa1.iloc[i-1].Time.split(\" \")[:6])) + pd.to_timedelta(1, unit=\"m\")"
   ]
  },
  {
   "cell_type": "code",
   "execution_count": null,
   "metadata": {},
   "outputs": [],
   "source": [
    "appa1.Time = pd.to_datetime(\n",
    "    appa1.Time.map(lambda x:  \" \".join(x.split(\" \")[:6]) if type(x) == str else x),\n",
    "    utc=True)"
   ]
  },
  {
   "cell_type": "code",
   "execution_count": null,
   "metadata": {},
   "outputs": [],
   "source": [
    "appa1 = appa1.set_index(\"Time\")"
   ]
  },
  {
   "cell_type": "code",
   "execution_count": null,
   "metadata": {},
   "outputs": [
    {
     "name": "stderr",
     "output_type": "stream",
     "text": [
      "100%|█████████▉| 19722/19729.7 [02:02<00:00, 150.70it/s]/usr/local/anaconda3/lib/python3.9/site-packages/tqdm/std.py:533: TqdmWarning: clamping frac to range [0, 1]\n",
      "  full_bar = Bar(frac,\n",
      "100%|██████████| 19730/19729.7 [02:02<00:00, 161.20it/s]\n"
     ]
    }
   ],
   "source": [
    "# redundant can just do \n",
    "appa1_hr = pd.DataFrame(columns = ['Time', 'Rs1', 'Rs2', 'Rs3', 'Rs4', 'Rs5', 'Rs6', 'Rs7', 'Rs8', 'Rh1',\n",
    "       'Rh2', 'Rh3', 'Rh4', 'Rh5', 'Rh6', 'Rh7', 'Rh8', 'Vh1', 'Vh2', 'Vh3',\n",
    "       'Vh4', 'Vh5', 'Vh6', 'Vh7', 'Vh8', 'Temperature', 'Relative_Humidity',\n",
    "       'Pressure', 'VOC'])\n",
    "\n",
    "for i in tqdm(range(0, len(appa1)-60, 60), total=int(len(appa1)-60)/60):\n",
    "       row = appa1.iloc[i:i+60].mean(axis=0)\n",
    "       temp = [appa1.iloc[i].Time]\n",
    "       temp[1:] = row\n",
    "       appa1_hr.loc[len(appa1_hr.index)] = temp"
   ]
  },
  {
   "cell_type": "code",
   "execution_count": null,
   "metadata": {},
   "outputs": [],
   "source": [
    "appa1_hr.to_csv(\"exports/appa1_hr.csv\")\n",
    "appa1_gt = pd.read_csv(\"exports/appa1_gt_clean_withCO.csv\")\n",
    "appa1_marco = pd.read_csv(\"appa1_gt.csv\")\n",
    "appa1_hr['time'] = appa1_marco['Time']\n",
    "\n",
    "#appa1_hr.time = pd.to_datetime(appa1_hr.time)\n",
    "#appa1_hr.time = appa1_hr.time.dt.tz_localize(None)"
   ]
  },
  {
   "cell_type": "code",
   "execution_count": null,
   "metadata": {},
   "outputs": [
    {
     "name": "stderr",
     "output_type": "stream",
     "text": [
      "100%|██████████| 19730/19730 [00:00<00:00, 25288.23it/s]\n"
     ]
    }
   ],
   "source": [
    "for i, row in tqdm(appa1_hr.iterrows(), total = len(appa1_hr)):\n",
    "    appa1_hr.at[i, \"time\"] = row.Time.replace(microsecond=0, second=0, minute=0)\n",
    "\n",
    "# appa1_hr.Time = appa1_hr.Time.dt.round('60min')"
   ]
  },
  {
   "cell_type": "code",
   "execution_count": null,
   "metadata": {},
   "outputs": [],
   "source": [
    "appa1_hr = appa1_hr.rename(columns = {\"Time\": \"time\", \"time\":\"Time\"})"
   ]
  },
  {
   "cell_type": "code",
   "execution_count": null,
   "metadata": {},
   "outputs": [],
   "source": [
    "appa1_hr.Time = pd.to_datetime(appa1_hr.Time)\n",
    "appa1_hr.Time = appa1_hr.Time.dt.tz_localize(None)"
   ]
  },
  {
   "cell_type": "code",
   "execution_count": null,
   "metadata": {},
   "outputs": [],
   "source": [
    "appa1_gt.Time = pd.to_datetime(appa1_gt.Time)\n",
    "appa1_hr.merge(appa1_gt, how='left', on=\"Time\")\n",
    "appa1_hr.iloc[380]"
   ]
  },
  {
   "cell_type": "code",
   "execution_count": null,
   "metadata": {},
   "outputs": [
    {
     "name": "stdout",
     "output_type": "stream",
     "text": [
      "13350\n"
     ]
    }
   ],
   "source": [
    "#6380\n",
    "#3937\n",
    "#17641\n",
    "\n",
    "appa1_hr = appa1_hr.iloc[6380:]\n",
    "print(len(appa1_hr))"
   ]
  },
  {
   "cell_type": "code",
   "execution_count": null,
   "metadata": {},
   "outputs": [
    {
     "name": "stdout",
     "output_type": "stream",
     "text": [
      "13705\n"
     ]
    }
   ],
   "source": [
    "appa1_gt = appa1_gt.iloc[3864:17569]\n",
    "print(len(appa1_gt))"
   ]
  },
  {
   "cell_type": "code",
   "execution_count": null,
   "metadata": {},
   "outputs": [],
   "source": [
    "appa1_clean = appa1[appa1.Time >= '2021-01-14']\n",
    "appa1_first = appa1_clean[appa1_clean.Time <= '2021-04-29']\n",
    "appa1_second = appa1_clean[(appa1_clean.Time > '2021-04-29') & (appa1_clean.Time <= '2021-6-30')]\n",
    "appa1_third = appa1_clean[(appa1_clean.Time > '2021-06-30') & (appa1_clean.Time <= '2022-1-14')]\n",
    "appa1_fourth = appa1_clean[appa1_clean.Time > '2022-1-14']"
   ]
  },
  {
   "cell_type": "code",
   "execution_count": null,
   "metadata": {},
   "outputs": [],
   "source": [
    "appa1_second = appa1_second.iloc[:, [0,\n",
    " 1,\n",
    " 2,\n",
    " 5, #\n",
    " 6, #\n",
    " 3, #\n",
    " 4, #\n",
    " 7,\n",
    " 8,\n",
    "\n",
    " 9,\n",
    " 10,\n",
    " 13, #\n",
    " 14, #\n",
    " 11, #\n",
    " 12, #\n",
    " 15,\n",
    " 16,\n",
    "\n",
    " 17,\n",
    " 18,\n",
    " 21, #\n",
    " 22, #\n",
    " 19, #\n",
    " 20, #\n",
    " 23,\n",
    " 24,\n",
    " 25,\n",
    " 26,\n",
    " 27,\n",
    " 28]]\n",
    "\n",
    "appa1_third = appa1_third.iloc[:, [0,\n",
    "5,6,1,2,3,4,7,8,\n",
    "\n",
    "13,14,9,10,11,12,15,16,\n",
    "\n",
    " 21,22,17,18,19,20,23,24,\n",
    "\n",
    " 25,\n",
    " 26,\n",
    " 27,\n",
    " 28]]\n",
    "\n",
    "appa1_fourth = appa1_fourth.iloc[:, [0,\n",
    "5,6,1,2,3,4,7,8,\n",
    "\n",
    "13,14,9,10,11,12,15,16,\n",
    "\n",
    " 21,22,17,18,19,20,23,24,\n",
    "\n",
    " 25,\n",
    " 26,\n",
    " 27,\n",
    " 28]]"
   ]
  },
  {
   "cell_type": "code",
   "execution_count": null,
   "metadata": {},
   "outputs": [],
   "source": [
    "appa_clean = pd.DataFrame(\n",
    "       np.vstack([appa1_first, appa1_second, appa1_third, appa1_fourth]),\n",
    "       columns=[\n",
    "              \"Time\", \n",
    "\n",
    "              \"ZnOR_1\",\n",
    "              \"ZnOR_2\",\n",
    "              \"LaFeO3_1\",\n",
    "              \"LaFeO3_2\",\n",
    "              \"WO3_1\",\n",
    "              \"WO3_2\", \n",
    "              \"to_del\", \n",
    "              \"to_del2\",\n",
    "\n",
    "              \"ZnOR_heatR_1\",\n",
    "              \"ZnOR_heatR_2\",\n",
    "              \"LaFeO3_heatR_1\",\n",
    "              \"LaFeO3_heatR_2\",\n",
    "              \"WO3_heatR_1\",\n",
    "              \"WO3_heatR_2\", \n",
    "              \"to_de3\", \n",
    "              \"to_del1\",\n",
    "\n",
    "              \"ZnOR_heatV_1\",\n",
    "              \"ZnOR_heatV_2\",\n",
    "              \"LaFeO3_heatV_1\",\n",
    "              \"LaFeO3_heatV_2\",\n",
    "              \"WO3_heatV_1\",\n",
    "              \"WO3_heatV_2\", \n",
    "              \"to_deal\", \n",
    "              \"to_de2\",\n",
    "\n",
    "              'Temperature', \n",
    "              'Relative_Humidity',\n",
    "              'Pressure', \n",
    "              'VOC'\n",
    "       ]\n",
    "       )"
   ]
  },
  {
   "cell_type": "code",
   "execution_count": null,
   "metadata": {},
   "outputs": [],
   "source": [
    "appa_clean = appa_clean[[\n",
    "              \"Time\", \n",
    "\n",
    "              \"ZnOR_1\",\n",
    "              \"ZnOR_2\",\n",
    "              \"LaFeO3_1\",\n",
    "              \"LaFeO3_2\",\n",
    "              \"WO3_1\",\n",
    "              \"WO3_2\", \n",
    "\n",
    "              \"ZnOR_heatR_1\",\n",
    "              \"ZnOR_heatR_2\",\n",
    "              \"LaFeO3_heatR_1\",\n",
    "              \"LaFeO3_heatR_2\",\n",
    "              \"WO3_heatR_1\",\n",
    "              \"WO3_heatR_2\", \n",
    "\n",
    "              \"ZnOR_heatV_1\",\n",
    "              \"ZnOR_heatV_2\",\n",
    "              \"LaFeO3_heatV_1\",\n",
    "              \"LaFeO3_heatV_2\",\n",
    "              \"WO3_heatV_1\",\n",
    "              \"WO3_heatV_2\", \n",
    "\n",
    "              'Temperature', \n",
    "              'Relative_Humidity',\n",
    "              'Pressure', \n",
    "              'VOC'\n",
    "       ]]"
   ]
  },
  {
   "cell_type": "code",
   "execution_count": null,
   "metadata": {},
   "outputs": [],
   "source": [
    "appa_clean = appa_clean.set_index(\"Time\")"
   ]
  },
  {
   "cell_type": "code",
   "execution_count": null,
   "metadata": {},
   "outputs": [],
   "source": [
    "appa_clean[\"ZnOR_1_Age\"] = 0\n",
    "appa_clean[\"ZnOR_2_Age\"] = 0\n",
    "appa_clean[\"LaFeO3_1_Age\"] = 0\n",
    "appa_clean[\"LaFeO3_2_Age\"] = 0\n",
    "appa_clean[\"WO3_1_Age\"] = 0\n",
    "appa_clean[\"WO3_2_Age\"] = 0"
   ]
  },
  {
   "cell_type": "code",
   "execution_count": null,
   "metadata": {},
   "outputs": [],
   "source": [
    "appa_clean.index = pd.to_datetime(appa_clean.index)"
   ]
  },
  {
   "cell_type": "code",
   "execution_count": null,
   "metadata": {},
   "outputs": [],
   "source": [
    "def norm(data):\n",
    "    return (data)/(max(data))\n",
    "\n",
    "appa_clean.loc[(appa_clean.index < \"2021-06-30\"), \"ZnOR_2\"] = norm(\n",
    "    appa_clean[(appa_clean.index < \"2021-06-30\")].ZnOR_1) * max(\n",
    "        appa_clean[(appa_clean.index > \"2021-06-30\")].ZnOR_2)"
   ]
  },
  {
   "cell_type": "code",
   "execution_count": null,
   "metadata": {},
   "outputs": [],
   "source": [
    "appa_hr = pd.read_csv(\"data/appa1_hrgroup.csv\")\n",
    "appa_hr = appa_hr.drop([\"Unnamed: 0\"], axis=1)\n",
    "appa_clean = appa_hr\n",
    "appa_clean.Time = pd.to_datetime(appa_clean.Time)\n",
    "appa_clean = appa_clean.set_index(\"Time\")"
   ]
  },
  {
   "cell_type": "code",
   "execution_count": null,
   "metadata": {},
   "outputs": [],
   "source": [
    "\"\"\"\n",
    "appa1_clean = appa1[appa1.Time >= '2021-01-14']\n",
    "appa1_first = appa1_clean[appa1_clean.Time <= '2021-04-29']\n",
    "appa1_second = appa1_clean[(appa1_clean.Time > '2021-04-29') & (appa1_clean.Time <= '2021-6-30')]\n",
    "appa1_third = appa1_clean[(appa1_clean.Time > '2021-06-30') & (appa1_clean.Time <= '2022-1-14')]\n",
    "appa1_fourth = appa1_clean[appa1_clean.Time > '2022-1-14']\n",
    "\n",
    "\n",
    "appa_clean[\"ZnOR_1_Age\"] = 0\n",
    "appa_clean[\"ZnOR_2_Age\"] = 0\n",
    "appa_clean[\"LaFeO3_1_Age\"] = 0\n",
    "appa_clean[\"LaFeO3_2_Age\"] = 0\n",
    "appa_clean[\"WO3_1_Age\"] = 0\n",
    "appa_clean[\"WO3_2_Age\"] = 0\n",
    "\"\"\"\n",
    "\n",
    "for i,row in appa_clean.iterrows():\n",
    "    age = i.timestamp() - pd.Timestamp(\"2021-01-14\").timestamp()\n",
    "\n",
    "    appa_clean.loc[i,\"ZnOR_1_Age\"] = age\n",
    "    appa_clean.loc[i,\"ZnOR_2_Age\"] = age\n",
    "    appa_clean.loc[i,\"LaFeO3_1_Age\"] = age\n",
    "    appa_clean.loc[i,\"LaFeO3_2_Age\"] = age\n",
    "    appa_clean.loc[i,\"WO3_1_Age\"] = age\n",
    "    appa_clean.loc[i,\"WO3_2_Age\"] = age\n",
    "for i,row in appa_clean[appa_clean.index > \"2021-4-29\"].iterrows():\n",
    "    age = i.timestamp() - pd.Timestamp(\"2021-4-29\").timestamp()\n",
    "\n",
    "    appa_clean.loc[i,\"WO3_1_Age\"] = age\n",
    "    appa_clean.loc[i,\"WO3_2_Age\"] = age"
   ]
  },
  {
   "cell_type": "code",
   "execution_count": null,
   "metadata": {},
   "outputs": [],
   "source": [
    "appa_clean[\"sin_hour\"] = appa_clean[\"Time\"].dt.hour.apply(\n",
    "    lambda x: math.sin(x) * 2 * (math.pi / 24)\n",
    ")\n",
    "appa_clean[\"cos_hour\"] = appa_clean[\"Time\"].dt.hour.apply(\n",
    "    lambda x: math.cos(x) * 2 * (math.pi / 24)\n",
    ")\n",
    "\n",
    "appa_clean[\"sin_weekday\"] = appa_clean[\"Time\"].dt.weekday.apply(\n",
    "    lambda x: math.sin(x) * 2 * (math.pi / 7)\n",
    ")\n",
    "appa_clean[\"cos_weekday\"] = appa_clean[\"Time\"].dt.weekday.apply(\n",
    "    lambda x: math.cos(x) * 2 * (math.pi / 7)\n",
    ")\n",
    "\n",
    "appa_clean[\"sin_month\"] = appa_clean[\"Time\"].dt.month.apply(\n",
    "    lambda x: math.sin(x) * 2 * (math.pi / 12)\n",
    ")\n",
    "\n",
    "appa_clean[\"cos_month\"] = appa_clean[\"Time\"].dt.month.apply(\n",
    "    lambda x: math.cos(x) * 2 * (math.pi / 12)\n",
    ")\n",
    "\n",
    "appa_clean[\"sin_ordate\"] = appa_clean[\"Time\"].apply(\n",
    "    lambda x: math.sin(x.toordinal()) * 2 * (math.pi / 366)\n",
    ")\n",
    "appa_clean[\"cos_ordate\"] = appa_clean[\"Time\"].apply(\n",
    "    lambda x: math.cos(x.toordinal()) * 2 * (math.pi / 366)\n",
    ")\n",
    "\n",
    "appa_clean[\"year\"] = appa_clean[\"Time\"].dt.year\n",
    "\n",
    "appa_clean.to_csv(\"exports/appa_hrgroup_time.csv\")"
   ]
  }
 ],
 "metadata": {
  "kernelspec": {
   "display_name": "Python 3.9.13 64-bit",
   "language": "python",
   "name": "python3"
  },
  "language_info": {
   "codemirror_mode": {
    "name": "ipython",
    "version": 3
   },
   "file_extension": ".py",
   "mimetype": "text/x-python",
   "name": "python",
   "nbconvert_exporter": "python",
   "pygments_lexer": "ipython3",
   "version": "3.9.13"
  },
  "orig_nbformat": 4,
  "vscode": {
   "interpreter": {
    "hash": "36cf16204b8548560b1c020c4e8fb5b57f0e4c58016f52f2d4be01e192833930"
   }
  }
 },
 "nbformat": 4,
 "nbformat_minor": 2
}
