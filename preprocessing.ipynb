{
 "cells": [
  {
   "cell_type": "code",
   "execution_count": 1,
   "metadata": {},
   "outputs": [],
   "source": [
    "import math\n",
    "import warnings\n",
    "import numpy as np\n",
    "import pandas as pd\n",
    "\n",
    "from tqdm import tqdm\n",
    "from matplotlib import pyplot as plt\n",
    "\n",
    "\n",
    "warnings.simplefilter(action='ignore', category=FutureWarning)"
   ]
  },
  {
   "cell_type": "code",
   "execution_count": 4,
   "metadata": {},
   "outputs": [
    {
     "ename": "",
     "evalue": "",
     "output_type": "error",
     "traceback": [
      "\u001b[1;31mCanceled future for execute_request message before replies were done"
     ]
    },
    {
     "ename": "",
     "evalue": "",
     "output_type": "error",
     "traceback": [
      "\u001b[1;31mThe Kernel crashed while executing code in the the current cell or a previous cell. Please review the code in the cell(s) to identify a possible cause of the failure. Click <a href='https://aka.ms/vscodeJupyterKernelCrash'>here</a> for more info. View Jupyter <a href='command:jupyter.viewOutput'>log</a> for further details."
     ]
    }
   ],
   "source": [
    "# Retrieve the FBK dataset and set Time column as the new index\n",
    "appa1 = pd.read_csv(\"data/appa1.csv\")\n",
    "appa1 = appa1.drop(columns='Unnamed: 0')\n",
    "appa1 = appa1.set_index(\"Time\")\n",
    "\n",
    "# Retrieve the APPA dataset (our ground truth)\n",
    "appa1_gt = pd.read_csv(\"appa1_gt.csv\")"
   ]
  },
  {
   "cell_type": "markdown",
   "metadata": {},
   "source": [
    "# Our data\n",
    "\n",
    "| **Original column name** |       **New column name**      |                                    **Description**                                    |\n",
    "|:------------------------:|:------------------------------:|:-------------------------------------------------------------------------------------:|\n",
    "|            ts            |              Time              |                                    Time of sampling                                   |\n",
    "|          Rs<1-8>         |    <sensing_material>_<1/2>    |                   Resistance of the corresponding sensor                   |\n",
    "|          Rh<1-8>         | <sensing_material>_<1/2>_heatR |                   Resistance of the corresponding heater                   |\n",
    "|          Vh<1-8>         | <sensing_material>_<1/2>_heatV |                                 Voltage of the corresponding heater                                 |\n",
    "|             T            |           Temperature          |                                      Temperature                                      |\n",
    "|            RH            |        Relative_Humidity       |                                   Relative humidity                                   |\n",
    "|             P            |            Pressure            |                                      Air pressure                                     |\n",
    "|            BME           |               VOC              | VOC (Volatile Organic Compounds) extracted from BME (data of a commercial gas sensor) |\n",
    "|             -            |  <sensing_material>_<1/2>_Age  |               The difference between current day and day of installation              |\n",
    "|             -            |       sin_hour, cos_hour       |                                    Periodical hour                                    |\n",
    "|             -            |    sin_weekday, cos_weekday    |                               Periodical day of the week                              |\n",
    "|             -            |      sin_month, cos_month      |                                    Periodical month                                   |\n",
    "|             -            |     sin_ordate, cos_ordate     |                       Periodical day of the year (ordinal date)                       |\n",
    "|             -            |              year              |                                          Year                                         |\n",
    "|     Biossido di Azoto    |               NO2              |                             Nitrogen dioxide concentration                            |\n",
    "|      Biossido Zolfo      |               SO2              |                              Sulfur dioxide concentration                             |\n",
    "|           Ozono          |               O3               |                                  Ozone concentration                                  |\n",
    "|    Ossido di Carbonio    |               CO               |                             Carbon monoxide concentration                             |"
   ]
  },
  {
   "cell_type": "code",
   "execution_count": 3,
   "metadata": {},
   "outputs": [],
   "source": [
    "# ???\n",
    "appa1.at[381849, \"Time\"] = pd.to_datetime(\"Tue Jan 12 2021 15:39:26 GMT+0000\")\n",
    "+ pd.to_timedelta(1, unit=\"min\")\n",
    "\n",
    "# Fix column names to match convention\n",
    "appa1 = appa1.rename(columns={\n",
    "    \"ts\": \"Time\",\n",
    "    \"T\": \"Temperature\",\n",
    "    \"RH\": \"Relative_Humidity\",\n",
    "    \"P\": \"Pressure\",\n",
    "    \"BME\": \"VOC\"\n",
    "    })"
   ]
  },
  {
   "cell_type": "code",
   "execution_count": 10,
   "metadata": {},
   "outputs": [
    {
     "name": "stderr",
     "output_type": "stream",
     "text": [
      "  0%|          | 0/1183842 [00:00<?, ?it/s]"
     ]
    },
    {
     "ename": "",
     "evalue": "",
     "output_type": "error",
     "traceback": [
      "\u001b[1;31mCanceled future for execute_request message before replies were done"
     ]
    },
    {
     "ename": "",
     "evalue": "",
     "output_type": "error",
     "traceback": [
      "\u001b[1;31mThe Kernel crashed while executing code in the the current cell or a previous cell. Please review the code in the cell(s) to identify a possible cause of the failure. Click <a href='https://aka.ms/vscodeJupyterKernelCrash'>here</a> for more info. View Jupyter <a href='command:jupyter.viewOutput'>log</a> for further details."
     ]
    }
   ],
   "source": [
    "# Interpolate NaN values\n",
    "for i, row in tqdm(appa1.iterrows(), total=len(appa1)):\n",
    "    if type(row.Time) != str:\n",
    "        print(i, appa1.iloc[i-1].Time, appa1.iloc[i].Time)\n",
    "        appa1.at[i, \"Time\"] = pd.to_datetime(\" \".join(appa1.iloc[i-1].Time.split(\" \")[:6])) + pd.to_timedelta(1, unit=\"m\")"
   ]
  },
  {
   "cell_type": "code",
   "execution_count": null,
   "metadata": {},
   "outputs": [],
   "source": [
    "# Convert Timestamps to Datetime format\n",
    "appa1.Time = pd.to_datetime(\n",
    "    appa1.Time.map(lambda x:  \" \".join(x.split(\" \")[:6]) if type(x) == str else x),\n",
    "    utc=True)\n",
    "\n",
    "appa1_gt.Time = pd.to_datetime(appa1_gt.Time)"
   ]
  },
  {
   "cell_type": "code",
   "execution_count": 7,
   "metadata": {},
   "outputs": [
    {
     "name": "stderr",
     "output_type": "stream",
     "text": [
      "  0%|          | 0/19729.7 [00:00<?, ?it/s]\n"
     ]
    },
    {
     "ename": "AttributeError",
     "evalue": "'Series' object has no attribute 'Time'",
     "output_type": "error",
     "traceback": [
      "\u001b[0;31m---------------------------------------------------------------------------\u001b[0m",
      "\u001b[0;31mAttributeError\u001b[0m                            Traceback (most recent call last)",
      "\u001b[1;32m/home/wvuser/DS2/preprocessing.ipynb Cell 8\u001b[0m in \u001b[0;36m<cell line: 7>\u001b[0;34m()\u001b[0m\n\u001b[1;32m      <a href='vscode-notebook-cell://ssh-remote%2Blab-05e14aa7-8738-4831-aeb4-ba711d97c567.eastus.cloudapp.azure.com/home/wvuser/DS2/preprocessing.ipynb#ch0000007vscode-remote?line=6'>7</a>\u001b[0m \u001b[39mfor\u001b[39;00m i \u001b[39min\u001b[39;00m tqdm(\u001b[39mrange\u001b[39m(\u001b[39m0\u001b[39m, \u001b[39mlen\u001b[39m(appa1)\u001b[39m-\u001b[39m\u001b[39m60\u001b[39m, \u001b[39m60\u001b[39m), total\u001b[39m=\u001b[39m\u001b[39mint\u001b[39m(\u001b[39mlen\u001b[39m(appa1)\u001b[39m-\u001b[39m\u001b[39m60\u001b[39m)\u001b[39m/\u001b[39m\u001b[39m60\u001b[39m):\n\u001b[1;32m      <a href='vscode-notebook-cell://ssh-remote%2Blab-05e14aa7-8738-4831-aeb4-ba711d97c567.eastus.cloudapp.azure.com/home/wvuser/DS2/preprocessing.ipynb#ch0000007vscode-remote?line=7'>8</a>\u001b[0m        row \u001b[39m=\u001b[39m appa1\u001b[39m.\u001b[39miloc[i:i\u001b[39m+\u001b[39m\u001b[39m60\u001b[39m]\u001b[39m.\u001b[39mmean(axis\u001b[39m=\u001b[39m\u001b[39m0\u001b[39m)\n\u001b[0;32m----> <a href='vscode-notebook-cell://ssh-remote%2Blab-05e14aa7-8738-4831-aeb4-ba711d97c567.eastus.cloudapp.azure.com/home/wvuser/DS2/preprocessing.ipynb#ch0000007vscode-remote?line=8'>9</a>\u001b[0m        temp \u001b[39m=\u001b[39m [appa1\u001b[39m.\u001b[39;49miloc[i]\u001b[39m.\u001b[39;49mTime]\n\u001b[1;32m     <a href='vscode-notebook-cell://ssh-remote%2Blab-05e14aa7-8738-4831-aeb4-ba711d97c567.eastus.cloudapp.azure.com/home/wvuser/DS2/preprocessing.ipynb#ch0000007vscode-remote?line=9'>10</a>\u001b[0m        temp[\u001b[39m1\u001b[39m:] \u001b[39m=\u001b[39m row\n\u001b[1;32m     <a href='vscode-notebook-cell://ssh-remote%2Blab-05e14aa7-8738-4831-aeb4-ba711d97c567.eastus.cloudapp.azure.com/home/wvuser/DS2/preprocessing.ipynb#ch0000007vscode-remote?line=10'>11</a>\u001b[0m        appa1_hr\u001b[39m.\u001b[39mloc[\u001b[39mlen\u001b[39m(appa1_hr\u001b[39m.\u001b[39mindex)] \u001b[39m=\u001b[39m temp\n",
      "File \u001b[0;32m~/.local/lib/python3.9/site-packages/pandas/core/generic.py:5575\u001b[0m, in \u001b[0;36mNDFrame.__getattr__\u001b[0;34m(self, name)\u001b[0m\n\u001b[1;32m   5568\u001b[0m \u001b[39mif\u001b[39;00m (\n\u001b[1;32m   5569\u001b[0m     name \u001b[39mnot\u001b[39;00m \u001b[39min\u001b[39;00m \u001b[39mself\u001b[39m\u001b[39m.\u001b[39m_internal_names_set\n\u001b[1;32m   5570\u001b[0m     \u001b[39mand\u001b[39;00m name \u001b[39mnot\u001b[39;00m \u001b[39min\u001b[39;00m \u001b[39mself\u001b[39m\u001b[39m.\u001b[39m_metadata\n\u001b[1;32m   5571\u001b[0m     \u001b[39mand\u001b[39;00m name \u001b[39mnot\u001b[39;00m \u001b[39min\u001b[39;00m \u001b[39mself\u001b[39m\u001b[39m.\u001b[39m_accessors\n\u001b[1;32m   5572\u001b[0m     \u001b[39mand\u001b[39;00m \u001b[39mself\u001b[39m\u001b[39m.\u001b[39m_info_axis\u001b[39m.\u001b[39m_can_hold_identifiers_and_holds_name(name)\n\u001b[1;32m   5573\u001b[0m ):\n\u001b[1;32m   5574\u001b[0m     \u001b[39mreturn\u001b[39;00m \u001b[39mself\u001b[39m[name]\n\u001b[0;32m-> 5575\u001b[0m \u001b[39mreturn\u001b[39;00m \u001b[39mobject\u001b[39;49m\u001b[39m.\u001b[39;49m\u001b[39m__getattribute__\u001b[39;49m(\u001b[39mself\u001b[39;49m, name)\n",
      "\u001b[0;31mAttributeError\u001b[0m: 'Series' object has no attribute 'Time'"
     ]
    }
   ],
   "source": [
    "# ???\n",
    "for i in tqdm(range(0, len(appa1)-60, 60), total=int(len(appa1)-60)/60):\n",
    "       row = appa1.iloc[i:i+60].mean(axis=0)\n",
    "       temp = [appa1.iloc[i].Time]\n",
    "       temp[1:] = row\n",
    "       appa1.loc[len(appa1.index)] = temp"
   ]
  },
  {
   "cell_type": "code",
   "execution_count": null,
   "metadata": {},
   "outputs": [
    {
     "name": "stderr",
     "output_type": "stream",
     "text": [
      "100%|██████████| 19730/19730 [00:00<00:00, 25288.23it/s]\n"
     ]
    }
   ],
   "source": [
    "# ???\n",
    "for i, row in tqdm(appa1.iterrows(), total = len(appa1)):\n",
    "    appa1.at[i, \"time\"] = row.Time.replace(microsecond=0, second=0, minute=0)\n",
    "\n",
    "# appa1_hr.Time = appa1_hr.Time.dt.round('60min')"
   ]
  },
  {
   "cell_type": "code",
   "execution_count": 9,
   "metadata": {},
   "outputs": [
    {
     "ename": "AttributeError",
     "evalue": "'DataFrame' object has no attribute 'Time'",
     "output_type": "error",
     "traceback": [
      "\u001b[0;31m---------------------------------------------------------------------------\u001b[0m",
      "\u001b[0;31mAttributeError\u001b[0m                            Traceback (most recent call last)",
      "\u001b[1;32m/home/wvuser/DS2/preprocessing.ipynb Cell 12\u001b[0m in \u001b[0;36m<cell line: 1>\u001b[0;34m()\u001b[0m\n\u001b[0;32m----> <a href='vscode-notebook-cell://ssh-remote%2Blab-05e14aa7-8738-4831-aeb4-ba711d97c567.eastus.cloudapp.azure.com/home/wvuser/DS2/preprocessing.ipynb#ch0000011vscode-remote?line=0'>1</a>\u001b[0m appa1_hr\u001b[39m.\u001b[39mTime \u001b[39m=\u001b[39m pd\u001b[39m.\u001b[39mto_datetime(appa1_hr\u001b[39m.\u001b[39;49mTime)\n\u001b[1;32m      <a href='vscode-notebook-cell://ssh-remote%2Blab-05e14aa7-8738-4831-aeb4-ba711d97c567.eastus.cloudapp.azure.com/home/wvuser/DS2/preprocessing.ipynb#ch0000011vscode-remote?line=1'>2</a>\u001b[0m appa1_hr\u001b[39m.\u001b[39mTime \u001b[39m=\u001b[39m appa1_hr\u001b[39m.\u001b[39mTime\u001b[39m.\u001b[39mdt\u001b[39m.\u001b[39mtz_localize(\u001b[39mNone\u001b[39;00m)\n",
      "File \u001b[0;32m~/.local/lib/python3.9/site-packages/pandas/core/generic.py:5575\u001b[0m, in \u001b[0;36mNDFrame.__getattr__\u001b[0;34m(self, name)\u001b[0m\n\u001b[1;32m   5568\u001b[0m \u001b[39mif\u001b[39;00m (\n\u001b[1;32m   5569\u001b[0m     name \u001b[39mnot\u001b[39;00m \u001b[39min\u001b[39;00m \u001b[39mself\u001b[39m\u001b[39m.\u001b[39m_internal_names_set\n\u001b[1;32m   5570\u001b[0m     \u001b[39mand\u001b[39;00m name \u001b[39mnot\u001b[39;00m \u001b[39min\u001b[39;00m \u001b[39mself\u001b[39m\u001b[39m.\u001b[39m_metadata\n\u001b[1;32m   5571\u001b[0m     \u001b[39mand\u001b[39;00m name \u001b[39mnot\u001b[39;00m \u001b[39min\u001b[39;00m \u001b[39mself\u001b[39m\u001b[39m.\u001b[39m_accessors\n\u001b[1;32m   5572\u001b[0m     \u001b[39mand\u001b[39;00m \u001b[39mself\u001b[39m\u001b[39m.\u001b[39m_info_axis\u001b[39m.\u001b[39m_can_hold_identifiers_and_holds_name(name)\n\u001b[1;32m   5573\u001b[0m ):\n\u001b[1;32m   5574\u001b[0m     \u001b[39mreturn\u001b[39;00m \u001b[39mself\u001b[39m[name]\n\u001b[0;32m-> 5575\u001b[0m \u001b[39mreturn\u001b[39;00m \u001b[39mobject\u001b[39;49m\u001b[39m.\u001b[39;49m\u001b[39m__getattribute__\u001b[39;49m(\u001b[39mself\u001b[39;49m, name)\n",
      "\u001b[0;31mAttributeError\u001b[0m: 'DataFrame' object has no attribute 'Time'"
     ]
    }
   ],
   "source": [
    "# ???\n",
    "appa1.Time = pd.to_datetime(appa1.Time)\n",
    "appa1.Time = appa1.Time.dt.tz_localize(None)"
   ]
  },
  {
   "cell_type": "code",
   "execution_count": null,
   "metadata": {},
   "outputs": [],
   "source": [
    "# Insert ground truth columns to the FBK dataset\n",
    "appa1.merge(appa1_gt, how='left', on=\"Time\")\n",
    "appa1.iloc[380]"
   ]
  },
  {
   "cell_type": "code",
   "execution_count": null,
   "metadata": {},
   "outputs": [
    {
     "name": "stdout",
     "output_type": "stream",
     "text": [
      "13350\n"
     ]
    }
   ],
   "source": [
    "#6380\n",
    "#3937\n",
    "#17641\n",
    "\n",
    "appa1 = appa1.iloc[6380:]\n",
    "print(len(appa1))"
   ]
  },
  {
   "cell_type": "code",
   "execution_count": null,
   "metadata": {},
   "outputs": [
    {
     "name": "stdout",
     "output_type": "stream",
     "text": [
      "13705\n"
     ]
    }
   ],
   "source": [
    "# ???\n",
    "appa1_gt = appa1_gt.iloc[3864:17569]\n",
    "print(len(appa1_gt))"
   ]
  },
  {
   "cell_type": "code",
   "execution_count": null,
   "metadata": {},
   "outputs": [],
   "source": [
    "appa1_clean = appa1[appa1.Time >= '2021-01-14']\n",
    "appa1_first = appa1_clean[appa1_clean.Time <= '2021-04-29']\n",
    "appa1_second = appa1_clean[(appa1_clean.Time > '2021-04-29') & (appa1_clean.Time <= '2021-6-30')]\n",
    "appa1_third = appa1_clean[(appa1_clean.Time > '2021-06-30') & (appa1_clean.Time <= '2022-1-14')]\n",
    "appa1_fourth = appa1_clean[appa1_clean.Time > '2022-1-14']"
   ]
  },
  {
   "cell_type": "code",
   "execution_count": null,
   "metadata": {},
   "outputs": [],
   "source": [
    "appa1_second = appa1_second.iloc[:, [0,\n",
    " 1,\n",
    " 2,\n",
    " 5, #\n",
    " 6, #\n",
    " 3, #\n",
    " 4, #\n",
    " 7,\n",
    " 8,\n",
    "\n",
    " 9,\n",
    " 10,\n",
    " 13, #\n",
    " 14, #\n",
    " 11, #\n",
    " 12, #\n",
    " 15,\n",
    " 16,\n",
    "\n",
    " 17,\n",
    " 18,\n",
    " 21, #\n",
    " 22, #\n",
    " 19, #\n",
    " 20, #\n",
    " 23,\n",
    " 24,\n",
    " 25,\n",
    " 26,\n",
    " 27,\n",
    " 28]]\n",
    "\n",
    "appa1_third = appa1_third.iloc[:, [0,\n",
    "5,6,1,2,3,4,7,8,\n",
    "\n",
    "13,14,9,10,11,12,15,16,\n",
    "\n",
    " 21,22,17,18,19,20,23,24,\n",
    "\n",
    " 25,\n",
    " 26,\n",
    " 27,\n",
    " 28]]\n",
    "\n",
    "appa1_fourth = appa1_fourth.iloc[:, [0,\n",
    "5,6,1,2,3,4,7,8,\n",
    "\n",
    "13,14,9,10,11,12,15,16,\n",
    "\n",
    " 21,22,17,18,19,20,23,24,\n",
    "\n",
    " 25,\n",
    " 26,\n",
    " 27,\n",
    " 28]]"
   ]
  },
  {
   "cell_type": "code",
   "execution_count": null,
   "metadata": {},
   "outputs": [],
   "source": [
    "appa1 = pd.DataFrame(\n",
    "       np.vstack([appa1_first, appa1_second, appa1_third, appa1_fourth]),\n",
    "       columns=[\n",
    "              \"Time\", \n",
    "\n",
    "              \"ZnOR_1\",\n",
    "              \"ZnOR_2\",\n",
    "              \"LaFeO3_1\",\n",
    "              \"LaFeO3_2\",\n",
    "              \"WO3_1\",\n",
    "              \"WO3_2\", \n",
    "              \"to_del\", \n",
    "              \"to_del2\",\n",
    "\n",
    "              \"ZnOR_heatR_1\",\n",
    "              \"ZnOR_heatR_2\",\n",
    "              \"LaFeO3_heatR_1\",\n",
    "              \"LaFeO3_heatR_2\",\n",
    "              \"WO3_heatR_1\",\n",
    "              \"WO3_heatR_2\", \n",
    "              \"to_de3\", \n",
    "              \"to_del1\",\n",
    "\n",
    "              \"ZnOR_heatV_1\",\n",
    "              \"ZnOR_heatV_2\",\n",
    "              \"LaFeO3_heatV_1\",\n",
    "              \"LaFeO3_heatV_2\",\n",
    "              \"WO3_heatV_1\",\n",
    "              \"WO3_heatV_2\", \n",
    "              \"to_deal\", \n",
    "              \"to_de2\",\n",
    "\n",
    "              'Temperature', \n",
    "              'Relative_Humidity',\n",
    "              'Pressure', \n",
    "              'VOC'\n",
    "       ]\n",
    "       )"
   ]
  },
  {
   "cell_type": "code",
   "execution_count": null,
   "metadata": {},
   "outputs": [],
   "source": [
    "appa1 = appa1[[\n",
    "              \"Time\", \n",
    "\n",
    "              \"ZnOR_1\",\n",
    "              \"ZnOR_2\",\n",
    "              \"LaFeO3_1\",\n",
    "              \"LaFeO3_2\",\n",
    "              \"WO3_1\",\n",
    "              \"WO3_2\", \n",
    "\n",
    "              \"ZnOR_heatR_1\",\n",
    "              \"ZnOR_heatR_2\",\n",
    "              \"LaFeO3_heatR_1\",\n",
    "              \"LaFeO3_heatR_2\",\n",
    "              \"WO3_heatR_1\",\n",
    "              \"WO3_heatR_2\", \n",
    "\n",
    "              \"ZnOR_heatV_1\",\n",
    "              \"ZnOR_heatV_2\",\n",
    "              \"LaFeO3_heatV_1\",\n",
    "              \"LaFeO3_heatV_2\",\n",
    "              \"WO3_heatV_1\",\n",
    "              \"WO3_heatV_2\", \n",
    "\n",
    "              'Temperature', \n",
    "              'Relative_Humidity',\n",
    "              'Pressure', \n",
    "              'VOC'\n",
    "       ]]"
   ]
  },
  {
   "cell_type": "code",
   "execution_count": null,
   "metadata": {},
   "outputs": [],
   "source": [
    "appa1 = appa1.set_index(\"Time\")"
   ]
  },
  {
   "cell_type": "code",
   "execution_count": null,
   "metadata": {},
   "outputs": [],
   "source": [
    "appa1[\"ZnOR_1_Age\"] = 0\n",
    "appa1[\"ZnOR_2_Age\"] = 0\n",
    "appa1[\"LaFeO3_1_Age\"] = 0\n",
    "appa1[\"LaFeO3_2_Age\"] = 0\n",
    "appa1[\"WO3_1_Age\"] = 0\n",
    "appa1[\"WO3_2_Age\"] = 0"
   ]
  },
  {
   "cell_type": "code",
   "execution_count": null,
   "metadata": {},
   "outputs": [],
   "source": [
    "appa1.index = pd.to_datetime(appa1.index)"
   ]
  },
  {
   "cell_type": "code",
   "execution_count": null,
   "metadata": {},
   "outputs": [],
   "source": [
    "def norm(data):\n",
    "    return (data)/(max(data))\n",
    "\n",
    "appa1.loc[(appa1.index < \"2021-06-30\"), \"ZnOR_2\"] = norm(\n",
    "    appa1[(appa1.index < \"2021-06-30\")].ZnOR_1) * max(\n",
    "        appa1[(appa1.index > \"2021-06-30\")].ZnOR_2)"
   ]
  },
  {
   "cell_type": "code",
   "execution_count": null,
   "metadata": {},
   "outputs": [],
   "source": [
    "appa1.Time = pd.to_datetime(appa1.Time)\n",
    "appa1 = appa1.set_index(\"Time\")"
   ]
  },
  {
   "cell_type": "code",
   "execution_count": null,
   "metadata": {},
   "outputs": [],
   "source": [
    "\"\"\"\n",
    "appa1_clean = appa1[appa1.Time >= '2021-01-14']\n",
    "appa1_first = appa1_clean[appa1_clean.Time <= '2021-04-29']\n",
    "appa1_second = appa1_clean[(appa1_clean.Time > '2021-04-29') & (appa1_clean.Time <= '2021-6-30')]\n",
    "appa1_third = appa1_clean[(appa1_clean.Time > '2021-06-30') & (appa1_clean.Time <= '2022-1-14')]\n",
    "appa1_fourth = appa1_clean[appa1_clean.Time > '2022-1-14']\n",
    "\n",
    "\n",
    "appa1[\"ZnOR_1_Age\"] = 0\n",
    "appa1[\"ZnOR_2_Age\"] = 0\n",
    "appa1[\"LaFeO3_1_Age\"] = 0\n",
    "appa1[\"LaFeO3_2_Age\"] = 0\n",
    "appa1[\"WO3_1_Age\"] = 0\n",
    "appa1[\"WO3_2_Age\"] = 0\n",
    "\"\"\"\n",
    "\n",
    "for i,row in appa1.iterrows():\n",
    "    age = i.timestamp() - pd.Timestamp(\"2021-01-14\").timestamp()\n",
    "\n",
    "    appa1.loc[i,\"ZnOR_1_Age\"] = age\n",
    "    appa1.loc[i,\"ZnOR_2_Age\"] = age\n",
    "    appa1.loc[i,\"LaFeO3_1_Age\"] = age\n",
    "    appa1.loc[i,\"LaFeO3_2_Age\"] = age\n",
    "    appa1.loc[i,\"WO3_1_Age\"] = age\n",
    "    appa1.loc[i,\"WO3_2_Age\"] = age\n",
    "for i,row in appa1[appa1.index > \"2021-4-29\"].iterrows():\n",
    "    age = i.timestamp() - pd.Timestamp(\"2021-4-29\").timestamp()\n",
    "\n",
    "    appa1.loc[i, \"WO3_1_Age\"] = age\n",
    "    appa1.loc[i, \"WO3_2_Age\"] = age"
   ]
  },
  {
   "cell_type": "code",
   "execution_count": null,
   "metadata": {},
   "outputs": [],
   "source": [
    "# Add periodical time features to the dataset\n",
    "\n",
    "# HOUR OF THE DAY\n",
    "appa1[\"sin_hour\"] = appa1[\"Time\"].dt.hour.apply(\n",
    "    lambda x: math.sin(x) * 2 * (math.pi / 24)\n",
    ")\n",
    "appa1[\"cos_hour\"] = appa1[\"Time\"].dt.hour.apply(\n",
    "    lambda x: math.cos(x) * 2 * (math.pi / 24)\n",
    ")\n",
    "\n",
    "# DAY OF THE WEEK\n",
    "appa1[\"sin_weekday\"] = appa1[\"Time\"].dt.weekday.apply(\n",
    "    lambda x: math.sin(x) * 2 * (math.pi / 7)\n",
    ")\n",
    "appa1[\"cos_weekday\"] = appa1[\"Time\"].dt.weekday.apply(\n",
    "    lambda x: math.cos(x) * 2 * (math.pi / 7)\n",
    ")\n",
    "\n",
    "# MONTH OF THE YEAR\n",
    "appa1[\"sin_month\"] = appa1[\"Time\"].dt.month.apply(\n",
    "    lambda x: math.sin(x) * 2 * (math.pi / 12)\n",
    ")\n",
    "\n",
    "appa1[\"cos_month\"] = appa1[\"Time\"].dt.month.apply(\n",
    "    lambda x: math.cos(x) * 2 * (math.pi / 12)\n",
    ")\n",
    "\n",
    "# DAY OF THE YEAR (ORDINAL DATE)\n",
    "appa1[\"sin_ordate\"] = appa1[\"Time\"].apply(\n",
    "    lambda x: math.sin(x.toordinal()) * 2 * (math.pi / 366)\n",
    ")\n",
    "appa1[\"cos_ordate\"] = appa1[\"Time\"].apply(\n",
    "    lambda x: math.cos(x.toordinal()) * 2 * (math.pi / 366)\n",
    ")\n",
    "\n",
    "# Add the year feature\n",
    "appa1[\"year\"] = appa1[\"Time\"].dt.year"
   ]
  },
  {
   "cell_type": "code",
   "execution_count": null,
   "metadata": {},
   "outputs": [],
   "source": [
    "# Export as new clean dataset that will be used from now on\n",
    "appa1.to_csv(\"exports/appa_hrgroup_time.csv\")"
   ]
  }
 ],
 "metadata": {
  "kernelspec": {
   "display_name": "Python 3.9.13 64-bit",
   "language": "python",
   "name": "python3"
  },
  "language_info": {
   "codemirror_mode": {
    "name": "ipython",
    "version": 3
   },
   "file_extension": ".py",
   "mimetype": "text/x-python",
   "name": "python",
   "nbconvert_exporter": "python",
   "pygments_lexer": "ipython3",
   "version": "3.9.13"
  },
  "orig_nbformat": 4,
  "vscode": {
   "interpreter": {
    "hash": "36cf16204b8548560b1c020c4e8fb5b57f0e4c58016f52f2d4be01e192833930"
   }
  }
 },
 "nbformat": 4,
 "nbformat_minor": 2
}
