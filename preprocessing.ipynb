{
 "cells": [
  {
   "cell_type": "code",
   "execution_count": 18,
   "metadata": {},
   "outputs": [],
   "source": [
    "import math\n",
    "import warnings\n",
    "import numpy as np\n",
    "import pandas as pd\n",
    "\n",
    "from tqdm import tqdm\n",
    "from matplotlib import pyplot as plt\n",
    "\n",
    "\n",
    "warnings.simplefilter(action='ignore', category=FutureWarning)"
   ]
  },
  {
   "cell_type": "code",
   "execution_count": 19,
   "metadata": {},
   "outputs": [],
   "source": [
    "# Retrieve the FBK dataset and set Time column as the new index\n",
    "appa1 = pd.read_csv(\"data/appa1.csv\")\n",
    "appa1 = appa1.drop(columns='Unnamed: 0')\n",
    "# appa1 = appa1.rename(columns={\"ts\": \"Time\"})\n",
    "# appa1 = appa1.set_index(\"Time\")\n",
    "\n",
    "# Retrieve the APPA dataset (our ground truth)\n",
    "appa1_gt = pd.read_csv(\"data/appa1_gt.csv\")"
   ]
  },
  {
   "cell_type": "markdown",
   "metadata": {
    "pycharm": {
     "name": "#%% md\n"
    }
   },
   "source": [
    "# Our data\n",
    "\n",
    "| **Original column name** |       **New column name**      |                                    **Description**                                    |\n",
    "|:------------------------:|:------------------------------:|:-------------------------------------------------------------------------------------:|\n",
    "|            ts            |              Time              |                                    Time of sampling                                   |\n",
    "|          Rs<1-8>         |    <sensing_material>_<1/2>    |                   Resistance of the corresponding sensor                   |\n",
    "|          Rh<1-8>         | <sensing_material>_<1/2>_heatR |                   Resistance of the corresponding heater                   |\n",
    "|          Vh<1-8>         | <sensing_material>_<1/2>_heatV |                                 Voltage of the corresponding heater                                 |\n",
    "|             T            |           Temperature          |                                      Temperature                                      |\n",
    "|            RH            |        Relative_Humidity       |                                   Relative humidity                                   |\n",
    "|             P            |            Pressure            |                                      Air pressure                                     |\n",
    "|            BME           |               VOC              | VOC (Volatile Organic Compounds) extracted from BME (data of a commercial gas sensor) |\n",
    "|             -            |  <sensing_material>_<1/2>_Age  |               The difference between current day and day of installation              |\n",
    "|             -            |       sin_hour, cos_hour       |                                    Periodical hour                                    |\n",
    "|             -            |    sin_weekday, cos_weekday    |                               Periodical day of the week                              |\n",
    "|             -            |      sin_month, cos_month      |                                    Periodical month                                   |\n",
    "|             -            |     sin_ordate, cos_ordate     |                       Periodical day of the year (ordinal date)                       |\n",
    "|             -            |              year              |                                          Year                                         |\n",
    "|     Biossido di Azoto    |               NO2              |                             Nitrogen dioxide concentration                            |\n",
    "|      Biossido Zolfo      |               SO2              |                              Sulfur dioxide concentration                             |\n",
    "|           Ozono          |               O3               |                                  Ozone concentration                                  |\n",
    "|    Ossido di Carbonio    |               CO               |                             Carbon monoxide concentration                             |"
   ]
  },
  {
   "cell_type": "code",
   "execution_count": 20,
   "metadata": {},
   "outputs": [],
   "source": [
    "# Fix column names to match convention\n",
    "appa1 = appa1.rename(columns={\n",
    "    \"ts\": \"Time\",\n",
    "    \"T\": \"Temperature\",\n",
    "    \"RH\": \"Relative_Humidity\",\n",
    "    \"P\": \"Pressure\",\n",
    "    \"BME\": \"VOC\"\n",
    "    })"
   ]
  },
  {
   "cell_type": "code",
   "execution_count": 21,
   "metadata": {},
   "outputs": [
    {
     "name": "stderr",
     "output_type": "stream",
     "text": [
      " 33%|███▎      | 385344/1183842 [00:24<00:39, 20011.11it/s]"
     ]
    },
    {
     "name": "stdout",
     "output_type": "stream",
     "text": [
      "381849 Tue Jan 12 2021 15:39:26 GMT+0000 (Greenwich Mean Time) nan\n",
      "381855 Tue Jan 12 2021 18:03:32 GMT+0000 (Greenwich Mean Time) nan\n",
      "381868 Wed Jan 13 2021 08:57:04 GMT+0000 (Greenwich Mean Time) nan\n"
     ]
    },
    {
     "name": "stderr",
     "output_type": "stream",
     "text": [
      " 45%|████▌     | 537483/1183842 [00:32<00:35, 18365.33it/s]"
     ]
    },
    {
     "name": "stdout",
     "output_type": "stream",
     "text": [
      "534385 Thu Apr 29 2021 13:16:26 GMT+0100 (British Summer Time) nan\n"
     ]
    },
    {
     "name": "stderr",
     "output_type": "stream",
     "text": [
      " 81%|████████  | 955254/1183842 [00:54<00:12, 18648.61it/s]"
     ]
    },
    {
     "name": "stdout",
     "output_type": "stream",
     "text": [
      "952173 Mon Feb 14 2022 07:01:20 GMT+0000 (Greenwich Mean Time) nan\n"
     ]
    },
    {
     "name": "stderr",
     "output_type": "stream",
     "text": [
      " 96%|█████████▌| 1136089/1183842 [01:04<00:02, 19115.20it/s]"
     ]
    },
    {
     "name": "stdout",
     "output_type": "stream",
     "text": [
      "1134025 Mon Jun 20 2022 21:27:15 GMT+0100 (British Summer Time) nan\n"
     ]
    },
    {
     "name": "stderr",
     "output_type": "stream",
     "text": [
      " 97%|█████████▋| 1150501/1183842 [01:05<00:01, 16686.65it/s]"
     ]
    },
    {
     "name": "stdout",
     "output_type": "stream",
     "text": [
      "1147942 Thu Jun 30 2022 14:05:23 GMT+0100 (British Summer Time) nan\n"
     ]
    },
    {
     "name": "stderr",
     "output_type": "stream",
     "text": [
      "100%|█████████▉| 1182147/1183842 [01:06<00:00, 19094.79it/s]"
     ]
    },
    {
     "name": "stdout",
     "output_type": "stream",
     "text": [
      "1179259 Fri Jul 22 2022 09:14:22 GMT+0100 (British Summer Time) nan\n"
     ]
    },
    {
     "name": "stderr",
     "output_type": "stream",
     "text": [
      "100%|██████████| 1183842/1183842 [01:06<00:00, 17679.77it/s]\n"
     ]
    }
   ],
   "source": [
    "# Interpolate NaN values\n",
    "for i, row in tqdm(appa1.iterrows(), total=len(appa1)):\n",
    "    if type(row.Time) != str:\n",
    "        print(i, appa1.iloc[i-1].Time, appa1.iloc[i].Time)\n",
    "        appa1.at[i, \"Time\"] = pd.to_datetime(\" \".join(appa1.iloc[i-1].Time.split(\" \")[:6])) + pd.to_timedelta(1, unit=\"m\")"
   ]
  },
  {
   "cell_type": "code",
   "execution_count": 22,
   "metadata": {},
   "outputs": [],
   "source": [
    "# Convert Timestamps to Datetime format\n",
    "appa1.Time = pd.to_datetime(\n",
    "    appa1.Time.map(lambda x:  \" \".join(x.split(\" \")[:6]) if type(x) == str else x),\n",
    "    utc=True)\n",
    "appa1.Time = pd.to_datetime(appa1.Time)\n",
    "appa1.Time = appa1.Time.dt.tz_localize(None)\n",
    "\n",
    "appa1_gt.Time = pd.to_datetime(appa1_gt.Time)"
   ]
  },
  {
   "cell_type": "code",
   "execution_count": 23,
   "metadata": {},
   "outputs": [
    {
     "name": "stderr",
     "output_type": "stream",
     "text": [
      "  9%|▉         | 1768/19729.7 [02:58<30:16,  9.89it/s]  \n"
     ]
    },
    {
     "ename": "KeyboardInterrupt",
     "evalue": "",
     "output_type": "error",
     "traceback": [
      "\u001b[1;31m---------------------------------------------------------------------------\u001b[0m",
      "\u001b[1;31mKeyboardInterrupt\u001b[0m                         Traceback (most recent call last)",
      "\u001b[1;32mc:\\Users\\nzams\\Desktop\\DS2\\preprocessing.ipynb Cell 7\u001b[0m in \u001b[0;36m<cell line: 2>\u001b[1;34m()\u001b[0m\n\u001b[0;32m      <a href='vscode-notebook-cell:/c%3A/Users/nzams/Desktop/DS2/preprocessing.ipynb#ch0000006?line=3'>4</a>\u001b[0m temp \u001b[39m=\u001b[39m [appa1\u001b[39m.\u001b[39miloc[i]\u001b[39m.\u001b[39mTime]\n\u001b[0;32m      <a href='vscode-notebook-cell:/c%3A/Users/nzams/Desktop/DS2/preprocessing.ipynb#ch0000006?line=4'>5</a>\u001b[0m temp[\u001b[39m1\u001b[39m:] \u001b[39m=\u001b[39m row\n\u001b[1;32m----> <a href='vscode-notebook-cell:/c%3A/Users/nzams/Desktop/DS2/preprocessing.ipynb#ch0000006?line=5'>6</a>\u001b[0m appa1\u001b[39m.\u001b[39;49mloc[\u001b[39mlen\u001b[39;49m(appa1\u001b[39m.\u001b[39;49mindex)] \u001b[39m=\u001b[39m temp\n",
      "File \u001b[1;32m~\\AppData\\Roaming\\Python\\Python310\\site-packages\\pandas\\core\\indexing.py:716\u001b[0m, in \u001b[0;36m_LocationIndexer.__setitem__\u001b[1;34m(self, key, value)\u001b[0m\n\u001b[0;32m    713\u001b[0m \u001b[39mself\u001b[39m\u001b[39m.\u001b[39m_has_valid_setitem_indexer(key)\n\u001b[0;32m    715\u001b[0m iloc \u001b[39m=\u001b[39m \u001b[39mself\u001b[39m \u001b[39mif\u001b[39;00m \u001b[39mself\u001b[39m\u001b[39m.\u001b[39mname \u001b[39m==\u001b[39m \u001b[39m\"\u001b[39m\u001b[39miloc\u001b[39m\u001b[39m\"\u001b[39m \u001b[39melse\u001b[39;00m \u001b[39mself\u001b[39m\u001b[39m.\u001b[39mobj\u001b[39m.\u001b[39miloc\n\u001b[1;32m--> 716\u001b[0m iloc\u001b[39m.\u001b[39;49m_setitem_with_indexer(indexer, value, \u001b[39mself\u001b[39;49m\u001b[39m.\u001b[39;49mname)\n",
      "File \u001b[1;32m~\\AppData\\Roaming\\Python\\Python310\\site-packages\\pandas\\core\\indexing.py:1682\u001b[0m, in \u001b[0;36m_iLocIndexer._setitem_with_indexer\u001b[1;34m(self, indexer, value, name)\u001b[0m\n\u001b[0;32m   1679\u001b[0m     indexer, missing \u001b[39m=\u001b[39m convert_missing_indexer(indexer)\n\u001b[0;32m   1681\u001b[0m     \u001b[39mif\u001b[39;00m missing:\n\u001b[1;32m-> 1682\u001b[0m         \u001b[39mself\u001b[39;49m\u001b[39m.\u001b[39;49m_setitem_with_indexer_missing(indexer, value)\n\u001b[0;32m   1683\u001b[0m         \u001b[39mreturn\u001b[39;00m\n\u001b[0;32m   1685\u001b[0m \u001b[39m# align and set the values\u001b[39;00m\n",
      "File \u001b[1;32m~\\AppData\\Roaming\\Python\\Python310\\site-packages\\pandas\\core\\indexing.py:2020\u001b[0m, in \u001b[0;36m_iLocIndexer._setitem_with_indexer_missing\u001b[1;34m(self, indexer, value)\u001b[0m\n\u001b[0;32m   2018\u001b[0m     \u001b[39mself\u001b[39m\u001b[39m.\u001b[39mobj\u001b[39m.\u001b[39m_mgr \u001b[39m=\u001b[39m df\u001b[39m.\u001b[39m_mgr\n\u001b[0;32m   2019\u001b[0m \u001b[39melse\u001b[39;00m:\n\u001b[1;32m-> 2020\u001b[0m     \u001b[39mself\u001b[39m\u001b[39m.\u001b[39mobj\u001b[39m.\u001b[39m_mgr \u001b[39m=\u001b[39m \u001b[39mself\u001b[39;49m\u001b[39m.\u001b[39;49mobj\u001b[39m.\u001b[39;49m_append(value)\u001b[39m.\u001b[39m_mgr\n\u001b[0;32m   2021\u001b[0m \u001b[39mself\u001b[39m\u001b[39m.\u001b[39mobj\u001b[39m.\u001b[39m_maybe_update_cacher(clear\u001b[39m=\u001b[39m\u001b[39mTrue\u001b[39;00m)\n",
      "File \u001b[1;32m~\\AppData\\Roaming\\Python\\Python310\\site-packages\\pandas\\core\\frame.py:9088\u001b[0m, in \u001b[0;36mDataFrame._append\u001b[1;34m(self, other, ignore_index, verify_integrity, sort)\u001b[0m\n\u001b[0;32m   9085\u001b[0m \u001b[39melse\u001b[39;00m:\n\u001b[0;32m   9086\u001b[0m     to_concat \u001b[39m=\u001b[39m [\u001b[39mself\u001b[39m, other]\n\u001b[1;32m-> 9088\u001b[0m result \u001b[39m=\u001b[39m concat(\n\u001b[0;32m   9089\u001b[0m     to_concat,\n\u001b[0;32m   9090\u001b[0m     ignore_index\u001b[39m=\u001b[39;49mignore_index,\n\u001b[0;32m   9091\u001b[0m     verify_integrity\u001b[39m=\u001b[39;49mverify_integrity,\n\u001b[0;32m   9092\u001b[0m     sort\u001b[39m=\u001b[39;49msort,\n\u001b[0;32m   9093\u001b[0m )\n\u001b[0;32m   9094\u001b[0m \u001b[39mif\u001b[39;00m (\n\u001b[0;32m   9095\u001b[0m     combined_columns \u001b[39mis\u001b[39;00m \u001b[39mnot\u001b[39;00m \u001b[39mNone\u001b[39;00m\n\u001b[0;32m   9096\u001b[0m     \u001b[39mand\u001b[39;00m \u001b[39mnot\u001b[39;00m sort\n\u001b[1;32m   (...)\u001b[0m\n\u001b[0;32m   9101\u001b[0m     \u001b[39m# combined_columns.equals check is necessary for preserving dtype\u001b[39;00m\n\u001b[0;32m   9102\u001b[0m     \u001b[39m#  in test_crosstab_normalize\u001b[39;00m\n\u001b[0;32m   9103\u001b[0m     result \u001b[39m=\u001b[39m result\u001b[39m.\u001b[39mreindex(combined_columns, axis\u001b[39m=\u001b[39m\u001b[39m1\u001b[39m)\n",
      "File \u001b[1;32m~\\AppData\\Roaming\\Python\\Python310\\site-packages\\pandas\\util\\_decorators.py:311\u001b[0m, in \u001b[0;36mdeprecate_nonkeyword_arguments.<locals>.decorate.<locals>.wrapper\u001b[1;34m(*args, **kwargs)\u001b[0m\n\u001b[0;32m    305\u001b[0m \u001b[39mif\u001b[39;00m \u001b[39mlen\u001b[39m(args) \u001b[39m>\u001b[39m num_allow_args:\n\u001b[0;32m    306\u001b[0m     warnings\u001b[39m.\u001b[39mwarn(\n\u001b[0;32m    307\u001b[0m         msg\u001b[39m.\u001b[39mformat(arguments\u001b[39m=\u001b[39marguments),\n\u001b[0;32m    308\u001b[0m         \u001b[39mFutureWarning\u001b[39;00m,\n\u001b[0;32m    309\u001b[0m         stacklevel\u001b[39m=\u001b[39mstacklevel,\n\u001b[0;32m    310\u001b[0m     )\n\u001b[1;32m--> 311\u001b[0m \u001b[39mreturn\u001b[39;00m func(\u001b[39m*\u001b[39margs, \u001b[39m*\u001b[39m\u001b[39m*\u001b[39mkwargs)\n",
      "File \u001b[1;32m~\\AppData\\Roaming\\Python\\Python310\\site-packages\\pandas\\core\\reshape\\concat.py:360\u001b[0m, in \u001b[0;36mconcat\u001b[1;34m(objs, axis, join, ignore_index, keys, levels, names, verify_integrity, sort, copy)\u001b[0m\n\u001b[0;32m    156\u001b[0m \u001b[39m\"\"\"\u001b[39;00m\n\u001b[0;32m    157\u001b[0m \u001b[39mConcatenate pandas objects along a particular axis with optional set logic\u001b[39;00m\n\u001b[0;32m    158\u001b[0m \u001b[39malong the other axes.\u001b[39;00m\n\u001b[1;32m   (...)\u001b[0m\n\u001b[0;32m    345\u001b[0m \u001b[39mValueError: Indexes have overlapping values: ['a']\u001b[39;00m\n\u001b[0;32m    346\u001b[0m \u001b[39m\"\"\"\u001b[39;00m\n\u001b[0;32m    347\u001b[0m op \u001b[39m=\u001b[39m _Concatenator(\n\u001b[0;32m    348\u001b[0m     objs,\n\u001b[0;32m    349\u001b[0m     axis\u001b[39m=\u001b[39maxis,\n\u001b[1;32m   (...)\u001b[0m\n\u001b[0;32m    357\u001b[0m     sort\u001b[39m=\u001b[39msort,\n\u001b[0;32m    358\u001b[0m )\n\u001b[1;32m--> 360\u001b[0m \u001b[39mreturn\u001b[39;00m op\u001b[39m.\u001b[39;49mget_result()\n",
      "File \u001b[1;32m~\\AppData\\Roaming\\Python\\Python310\\site-packages\\pandas\\core\\reshape\\concat.py:595\u001b[0m, in \u001b[0;36m_Concatenator.get_result\u001b[1;34m(self)\u001b[0m\n\u001b[0;32m    591\u001b[0m             indexers[ax] \u001b[39m=\u001b[39m obj_labels\u001b[39m.\u001b[39mget_indexer(new_labels)\n\u001b[0;32m    593\u001b[0m     mgrs_indexers\u001b[39m.\u001b[39mappend((obj\u001b[39m.\u001b[39m_mgr, indexers))\n\u001b[1;32m--> 595\u001b[0m new_data \u001b[39m=\u001b[39m concatenate_managers(\n\u001b[0;32m    596\u001b[0m     mgrs_indexers, \u001b[39mself\u001b[39;49m\u001b[39m.\u001b[39;49mnew_axes, concat_axis\u001b[39m=\u001b[39;49m\u001b[39mself\u001b[39;49m\u001b[39m.\u001b[39;49mbm_axis, copy\u001b[39m=\u001b[39;49m\u001b[39mself\u001b[39;49m\u001b[39m.\u001b[39;49mcopy\n\u001b[0;32m    597\u001b[0m )\n\u001b[0;32m    598\u001b[0m \u001b[39mif\u001b[39;00m \u001b[39mnot\u001b[39;00m \u001b[39mself\u001b[39m\u001b[39m.\u001b[39mcopy:\n\u001b[0;32m    599\u001b[0m     new_data\u001b[39m.\u001b[39m_consolidate_inplace()\n",
      "File \u001b[1;32m~\\AppData\\Roaming\\Python\\Python310\\site-packages\\pandas\\core\\internals\\concat.py:232\u001b[0m, in \u001b[0;36mconcatenate_managers\u001b[1;34m(mgrs_indexers, axes, concat_axis, copy)\u001b[0m\n\u001b[0;32m    226\u001b[0m vals \u001b[39m=\u001b[39m [ju\u001b[39m.\u001b[39mblock\u001b[39m.\u001b[39mvalues \u001b[39mfor\u001b[39;00m ju \u001b[39min\u001b[39;00m join_units]\n\u001b[0;32m    228\u001b[0m \u001b[39mif\u001b[39;00m \u001b[39mnot\u001b[39;00m blk\u001b[39m.\u001b[39mis_extension:\n\u001b[0;32m    229\u001b[0m     \u001b[39m# _is_uniform_join_units ensures a single dtype, so\u001b[39;00m\n\u001b[0;32m    230\u001b[0m     \u001b[39m#  we can use np.concatenate, which is more performant\u001b[39;00m\n\u001b[0;32m    231\u001b[0m     \u001b[39m#  than concat_compat\u001b[39;00m\n\u001b[1;32m--> 232\u001b[0m     values \u001b[39m=\u001b[39m np\u001b[39m.\u001b[39;49mconcatenate(vals, axis\u001b[39m=\u001b[39;49m\u001b[39m1\u001b[39;49m)\n\u001b[0;32m    233\u001b[0m \u001b[39melse\u001b[39;00m:\n\u001b[0;32m    234\u001b[0m     \u001b[39m# TODO(EA2D): special-casing not needed with 2D EAs\u001b[39;00m\n\u001b[0;32m    235\u001b[0m     values \u001b[39m=\u001b[39m concat_compat(vals, axis\u001b[39m=\u001b[39m\u001b[39m1\u001b[39m)\n",
      "File \u001b[1;32m<__array_function__ internals>:180\u001b[0m, in \u001b[0;36mconcatenate\u001b[1;34m(*args, **kwargs)\u001b[0m\n",
      "\u001b[1;31mKeyboardInterrupt\u001b[0m: "
     ]
    }
   ],
   "source": [
    "# Aggregate / group by hours\n",
    "for i in tqdm(range(0, len(appa1)-60, 60), total=int(len(appa1)-60)/60):\n",
    "       row = appa1.iloc[i:i+60].mean(axis=0)\n",
    "       temp = [appa1.iloc[i].Time]\n",
    "       temp[1:] = row\n",
    "       appa1.loc[len(appa1.index)] = temp"
   ]
  },
  {
   "cell_type": "code",
   "execution_count": null,
   "metadata": {},
   "outputs": [],
   "source": [
    "# Insert ground truth columns to the FBK dataset\n",
    "appa1.merge(appa1_gt, how='left', on=\"Time\")\n",
    "appa1.iloc[380]"
   ]
  },
  {
   "cell_type": "code",
   "execution_count": null,
   "metadata": {},
   "outputs": [
    {
     "name": "stdout",
     "output_type": "stream",
     "text": [
      "13350\n"
     ]
    }
   ],
   "source": [
    "#6380\n",
    "#3937\n",
    "#17641\n",
    "\n",
    "appa1 = appa1.iloc[6380:]\n",
    "print(len(appa1))"
   ]
  },
  {
   "cell_type": "code",
   "execution_count": null,
   "metadata": {},
   "outputs": [
    {
     "name": "stdout",
     "output_type": "stream",
     "text": [
      "13705\n"
     ]
    }
   ],
   "source": [
    "# ???\n",
    "appa1_gt = appa1_gt.iloc[3864:17569]\n",
    "print(len(appa1_gt))"
   ]
  },
  {
   "cell_type": "code",
   "execution_count": null,
   "metadata": {},
   "outputs": [],
   "source": [
    "appa1_clean = appa1[appa1.Time >= '2021-01-14']\n",
    "appa1_first = appa1_clean[appa1_clean.Time <= '2021-04-29']\n",
    "appa1_second = appa1_clean[(appa1_clean.Time > '2021-04-29') & (appa1_clean.Time <= '2021-6-30')]\n",
    "appa1_third = appa1_clean[(appa1_clean.Time > '2021-06-30') & (appa1_clean.Time <= '2022-1-14')]\n",
    "appa1_fourth = appa1_clean[appa1_clean.Time > '2022-1-14']"
   ]
  },
  {
   "cell_type": "code",
   "execution_count": null,
   "metadata": {},
   "outputs": [],
   "source": [
    "appa1_second = appa1_second.iloc[:, [0,\n",
    " 1,\n",
    " 2,\n",
    " 5, #\n",
    " 6, #\n",
    " 3, #\n",
    " 4, #\n",
    " 7,\n",
    " 8,\n",
    "\n",
    " 9,\n",
    " 10,\n",
    " 13, #\n",
    " 14, #\n",
    " 11, #\n",
    " 12, #\n",
    " 15,\n",
    " 16,\n",
    "\n",
    " 17,\n",
    " 18,\n",
    " 21, #\n",
    " 22, #\n",
    " 19, #\n",
    " 20, #\n",
    " 23,\n",
    " 24,\n",
    " 25,\n",
    " 26,\n",
    " 27,\n",
    " 28]]\n",
    "\n",
    "appa1_third = appa1_third.iloc[:, [0,\n",
    "5,6,1,2,3,4,7,8,\n",
    "\n",
    "13,14,9,10,11,12,15,16,\n",
    "\n",
    " 21,22,17,18,19,20,23,24,\n",
    "\n",
    " 25,\n",
    " 26,\n",
    " 27,\n",
    " 28]]\n",
    "\n",
    "appa1_fourth = appa1_fourth.iloc[:, [0,\n",
    "5,6,1,2,3,4,7,8,\n",
    "\n",
    "13,14,9,10,11,12,15,16,\n",
    "\n",
    " 21,22,17,18,19,20,23,24,\n",
    "\n",
    " 25,\n",
    " 26,\n",
    " 27,\n",
    " 28]]"
   ]
  },
  {
   "cell_type": "code",
   "execution_count": null,
   "metadata": {},
   "outputs": [],
   "source": [
    "appa1 = pd.DataFrame(\n",
    "       np.vstack([appa1_first, appa1_second, appa1_third, appa1_fourth]),\n",
    "       columns=[\n",
    "              \"Time\", \n",
    "\n",
    "              \"ZnOR_1\",\n",
    "              \"ZnOR_2\",\n",
    "              \"LaFeO3_1\",\n",
    "              \"LaFeO3_2\",\n",
    "              \"WO3_1\",\n",
    "              \"WO3_2\", \n",
    "              \"to_del\", \n",
    "              \"to_del2\",\n",
    "\n",
    "              \"ZnOR_heatR_1\",\n",
    "              \"ZnOR_heatR_2\",\n",
    "              \"LaFeO3_heatR_1\",\n",
    "              \"LaFeO3_heatR_2\",\n",
    "              \"WO3_heatR_1\",\n",
    "              \"WO3_heatR_2\", \n",
    "              \"to_de3\", \n",
    "              \"to_del1\",\n",
    "\n",
    "              \"ZnOR_heatV_1\",\n",
    "              \"ZnOR_heatV_2\",\n",
    "              \"LaFeO3_heatV_1\",\n",
    "              \"LaFeO3_heatV_2\",\n",
    "              \"WO3_heatV_1\",\n",
    "              \"WO3_heatV_2\", \n",
    "              \"to_deal\", \n",
    "              \"to_de2\",\n",
    "\n",
    "              'Temperature', \n",
    "              'Relative_Humidity',\n",
    "              'Pressure', \n",
    "              'VOC'\n",
    "       ]\n",
    "       )"
   ]
  },
  {
   "cell_type": "code",
   "execution_count": null,
   "metadata": {},
   "outputs": [],
   "source": [
    "appa1 = appa1[[\n",
    "              \"Time\", \n",
    "\n",
    "              \"ZnOR_1\",\n",
    "              \"ZnOR_2\",\n",
    "              \"LaFeO3_1\",\n",
    "              \"LaFeO3_2\",\n",
    "              \"WO3_1\",\n",
    "              \"WO3_2\", \n",
    "\n",
    "              \"ZnOR_heatR_1\",\n",
    "              \"ZnOR_heatR_2\",\n",
    "              \"LaFeO3_heatR_1\",\n",
    "              \"LaFeO3_heatR_2\",\n",
    "              \"WO3_heatR_1\",\n",
    "              \"WO3_heatR_2\", \n",
    "\n",
    "              \"ZnOR_heatV_1\",\n",
    "              \"ZnOR_heatV_2\",\n",
    "              \"LaFeO3_heatV_1\",\n",
    "              \"LaFeO3_heatV_2\",\n",
    "              \"WO3_heatV_1\",\n",
    "              \"WO3_heatV_2\", \n",
    "\n",
    "              'Temperature', \n",
    "              'Relative_Humidity',\n",
    "              'Pressure', \n",
    "              'VOC'\n",
    "       ]]"
   ]
  },
  {
   "cell_type": "code",
   "execution_count": null,
   "metadata": {},
   "outputs": [],
   "source": [
    "appa1[\"ZnOR_1_Age\"] = 0\n",
    "appa1[\"ZnOR_2_Age\"] = 0\n",
    "appa1[\"LaFeO3_1_Age\"] = 0\n",
    "appa1[\"LaFeO3_2_Age\"] = 0\n",
    "appa1[\"WO3_1_Age\"] = 0\n",
    "appa1[\"WO3_2_Age\"] = 0"
   ]
  },
  {
   "cell_type": "code",
   "execution_count": null,
   "metadata": {},
   "outputs": [],
   "source": [
    "appa1.index = pd.to_datetime(appa1.index)"
   ]
  },
  {
   "cell_type": "code",
   "execution_count": null,
   "metadata": {},
   "outputs": [],
   "source": [
    "def norm(data):\n",
    "    return (data)/(max(data))\n",
    "\n",
    "appa1.loc[(appa1.index < \"2021-06-30\"), \"ZnOR_2\"] = norm(\n",
    "    appa1[(appa1.index < \"2021-06-30\")].ZnOR_1) * max(\n",
    "        appa1[(appa1.index > \"2021-06-30\")].ZnOR_2)"
   ]
  },
  {
   "cell_type": "code",
   "execution_count": null,
   "metadata": {},
   "outputs": [],
   "source": [
    "# appa1.Time = pd.to_datetime(appa1.Time)\n",
    "# appa1 = appa1.set_index(\"Time\")"
   ]
  },
  {
   "cell_type": "code",
   "execution_count": null,
   "metadata": {},
   "outputs": [],
   "source": [
    "\"\"\"\n",
    "appa1_clean = appa1[appa1.Time >= '2021-01-14']\n",
    "appa1_first = appa1_clean[appa1_clean.Time <= '2021-04-29']\n",
    "appa1_second = appa1_clean[(appa1_clean.Time > '2021-04-29') & (appa1_clean.Time <= '2021-6-30')]\n",
    "appa1_third = appa1_clean[(appa1_clean.Time > '2021-06-30') & (appa1_clean.Time <= '2022-1-14')]\n",
    "appa1_fourth = appa1_clean[appa1_clean.Time > '2022-1-14']\n",
    "\n",
    "\n",
    "appa1[\"ZnOR_1_Age\"] = 0\n",
    "appa1[\"ZnOR_2_Age\"] = 0\n",
    "appa1[\"LaFeO3_1_Age\"] = 0\n",
    "appa1[\"LaFeO3_2_Age\"] = 0\n",
    "appa1[\"WO3_1_Age\"] = 0\n",
    "appa1[\"WO3_2_Age\"] = 0\n",
    "\"\"\"\n",
    "\n",
    "for i,row in appa1.iterrows():\n",
    "    age = i.timestamp() - pd.Timestamp(\"2021-01-14\").timestamp()\n",
    "\n",
    "    appa1.loc[i,\"ZnOR_1_Age\"] = age\n",
    "    appa1.loc[i,\"ZnOR_2_Age\"] = age\n",
    "    appa1.loc[i,\"LaFeO3_1_Age\"] = age\n",
    "    appa1.loc[i,\"LaFeO3_2_Age\"] = age\n",
    "    appa1.loc[i,\"WO3_1_Age\"] = age\n",
    "    appa1.loc[i,\"WO3_2_Age\"] = age\n",
    "for i,row in appa1[appa1.index > \"2021-4-29\"].iterrows():\n",
    "    age = i.timestamp() - pd.Timestamp(\"2021-4-29\").timestamp()\n",
    "\n",
    "    appa1.loc[i, \"WO3_1_Age\"] = age\n",
    "    appa1.loc[i, \"WO3_2_Age\"] = age"
   ]
  },
  {
   "cell_type": "code",
   "execution_count": null,
   "metadata": {},
   "outputs": [],
   "source": [
    "# Add periodical time features to the dataset\n",
    "\n",
    "# HOUR OF THE DAY\n",
    "appa1[\"sin_hour\"] = appa1[\"Time\"].dt.hour.apply(\n",
    "    lambda x: math.sin(x) * 2 * (math.pi / 24)\n",
    ")\n",
    "appa1[\"cos_hour\"] = appa1[\"Time\"].dt.hour.apply(\n",
    "    lambda x: math.cos(x) * 2 * (math.pi / 24)\n",
    ")\n",
    "\n",
    "# DAY OF THE WEEK\n",
    "appa1[\"sin_weekday\"] = appa1[\"Time\"].dt.weekday.apply(\n",
    "    lambda x: math.sin(x) * 2 * (math.pi / 7)\n",
    ")\n",
    "appa1[\"cos_weekday\"] = appa1[\"Time\"].dt.weekday.apply(\n",
    "    lambda x: math.cos(x) * 2 * (math.pi / 7)\n",
    ")\n",
    "\n",
    "# MONTH OF THE YEAR\n",
    "appa1[\"sin_month\"] = appa1[\"Time\"].dt.month.apply(\n",
    "    lambda x: math.sin(x) * 2 * (math.pi / 12)\n",
    ")\n",
    "\n",
    "appa1[\"cos_month\"] = appa1[\"Time\"].dt.month.apply(\n",
    "    lambda x: math.cos(x) * 2 * (math.pi / 12)\n",
    ")\n",
    "\n",
    "# DAY OF THE YEAR (ORDINAL DATE)\n",
    "appa1[\"sin_ordate\"] = appa1[\"Time\"].apply(\n",
    "    lambda x: math.sin(x.toordinal()) * 2 * (math.pi / 366)\n",
    ")\n",
    "appa1[\"cos_ordate\"] = appa1[\"Time\"].apply(\n",
    "    lambda x: math.cos(x.toordinal()) * 2 * (math.pi / 366)\n",
    ")\n",
    "\n",
    "# Add the year feature\n",
    "appa1[\"year\"] = appa1[\"Time\"].dt.year"
   ]
  },
  {
   "cell_type": "code",
   "execution_count": null,
   "metadata": {},
   "outputs": [],
   "source": [
    "# Export as new clean dataset that will be used from now on\n",
    "appa1.to_csv(\"exports/appa_hrgroup_time.csv\")"
   ]
  }
 ],
 "metadata": {
  "kernelspec": {
   "display_name": "Python 3.10.5 64-bit",
   "language": "python",
   "name": "python3"
  },
  "language_info": {
   "codemirror_mode": {
    "name": "ipython",
    "version": 3
   },
   "file_extension": ".py",
   "mimetype": "text/x-python",
   "name": "python",
   "nbconvert_exporter": "python",
   "pygments_lexer": "ipython3",
   "version": "3.10.5"
  },
  "orig_nbformat": 4,
  "vscode": {
   "interpreter": {
    "hash": "26de051ba29f2982a8de78e945f0abaf191376122a1563185a90213a26c5da77"
   }
  }
 },
 "nbformat": 4,
 "nbformat_minor": 2
}
