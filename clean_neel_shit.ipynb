{
 "cells": [
  {
   "cell_type": "code",
   "execution_count": 53,
   "metadata": {},
   "outputs": [],
   "source": [
    "import math\n",
    "import numpy as np\n",
    "import pandas as pd"
   ]
  },
  {
   "cell_type": "code",
   "execution_count": 54,
   "metadata": {},
   "outputs": [],
   "source": [
    "# Retrieve Neel's \"clean\" files\n",
    "appa1 = pd.read_csv('neel_exports/appa_hr_crop_withCreated.csv')\n",
    "appa2 = pd.read_csv('neel_exports/appa_hr_2_crop_withCreated.csv')\n",
    "appa1_gt = pd.read_csv('neel_exports/appa1_gt_clean_withCO.csv')\n",
    "appa2_gt = pd.read_csv('data/appa2_gt.csv')\n",
    "\n",
    "# Remove confusing indices in appa1_gt\n",
    "appa1_gt = appa1_gt.drop(columns='Unnamed: 0')"
   ]
  },
  {
   "cell_type": "code",
   "execution_count": 55,
   "metadata": {},
   "outputs": [],
   "source": [
    "# Convert time columns from Timestamp format to DateTime format\n",
    "appa1.Time = pd.to_datetime(appa1.Time)\n",
    "appa2.Time = pd.to_datetime(appa2.Time)\n",
    "\n",
    "appa1_gt.Time = pd.to_datetime(appa1.Time)\n",
    "appa2_gt.Time = pd.to_datetime(appa2.Time)"
   ]
  },
  {
   "cell_type": "code",
   "execution_count": 56,
   "metadata": {},
   "outputs": [],
   "source": [
    "def add_times(df):\n",
    "    # Add periodical time features to the dataset\n",
    "    \n",
    "    # HOUR OF THE DAY\n",
    "    df[\"sin_hour\"] = df[\"Time\"].dt.hour.apply(\n",
    "        lambda x: math.sin(x) * 2 * (math.pi / 24)\n",
    "    )\n",
    "    df[\"cos_hour\"] = df[\"Time\"].dt.hour.apply(\n",
    "        lambda x: math.cos(x) * 2 * (math.pi / 24)\n",
    "    )\n",
    "\n",
    "    # DAY OF THE WEEK\n",
    "    df[\"sin_weekday\"] = df[\"Time\"].dt.weekday.apply(\n",
    "        lambda x: math.sin(x) * 2 * (math.pi / 7)\n",
    "    )\n",
    "    df[\"cos_weekday\"] = df[\"Time\"].dt.weekday.apply(\n",
    "        lambda x: math.cos(x) * 2 * (math.pi / 7)\n",
    "    )\n",
    "\n",
    "    # MONTH OF THE YEAR\n",
    "    df[\"sin_month\"] = df[\"Time\"].dt.month.apply(\n",
    "        lambda x: math.sin(x) * 2 * (math.pi / 12)\n",
    "    )\n",
    "\n",
    "    df[\"cos_month\"] = df[\"Time\"].dt.month.apply(\n",
    "        lambda x: math.cos(x) * 2 * (math.pi / 12)\n",
    "    )\n",
    "\n",
    "    # DAY OF THE YEAR (ORDINAL DATE)\n",
    "    df[\"sin_ordate\"] = df[\"Time\"].apply(\n",
    "        lambda x: math.sin(x.toordinal()) * 2 * (math.pi / 366)\n",
    "    )\n",
    "    df[\"cos_ordate\"] = df[\"Time\"].apply(\n",
    "        lambda x: math.cos(x.toordinal()) * 2 * (math.pi / 366)\n",
    "    )\n",
    "\n",
    "    # Add the year feature\n",
    "    df[\"year\"] = df[\"Time\"].dt.year\n",
    "\n",
    "add_times(appa1)\n",
    "add_times(appa2)"
   ]
  },
  {
   "cell_type": "code",
   "execution_count": 72,
   "metadata": {},
   "outputs": [],
   "source": [
    "# Match column names to the convention\n",
    "def rename_columns(df):\n",
    "    df.columns = df.columns.str.replace('TimeSinceCreated', 'Age')\n",
    "\n",
    "    df.columns = df.columns.str.replace('heatR_1', '1_heatR')\n",
    "    df.columns = df.columns.str.replace('heatV_1', '1_heatV')\n",
    "    df.columns = df.columns.str.replace('heatR_2', '2_heatR')\n",
    "    df.columns = df.columns.str.replace('heatV_2', '2_heatV')\n",
    "\n",
    "rename_columns(appa1)\n",
    "rename_columns(appa2)"
   ]
  },
  {
   "cell_type": "code",
   "execution_count": 82,
   "metadata": {},
   "outputs": [],
   "source": [
    "# Add appa2_gt data to appa2 (The good old Samu's way)\n",
    "for col in appa2_gt.columns:\n",
    "    if col == 'Time':\n",
    "        continue\n",
    "    appa2[col] = appa2_gt[col]"
   ]
  },
  {
   "cell_type": "code",
   "execution_count": 85,
   "metadata": {},
   "outputs": [],
   "source": [
    "# Move ground truth labels to the end\n",
    "def move_labels (df, labels):\n",
    "    cols = df.columns.tolist()\n",
    "    indices = [df.columns.get_loc(column) for column in labels]\n",
    "    for index in indices:\n",
    "        cols = cols[0:index] + cols[index+1:] + cols[index:index+1]\n",
    "    df = df[cols]\n",
    "\n",
    "appa1_labels, appa2_labels = ['PM10', 'NO2', 'SO2', 'O3', 'CO'], ['PM10', 'CO', 'NO2']\n",
    "move_labels(appa1, appa1_labels)\n",
    "move_labels(appa2, appa2_labels)"
   ]
  },
  {
   "cell_type": "code",
   "execution_count": 87,
   "metadata": {},
   "outputs": [],
   "source": [
    "# Export\n",
    "appa1.to_csv('noam_exports/appa1.csv')\n",
    "appa2.to_csv('noam_exports/appa2.csv')"
   ]
  }
 ],
 "metadata": {
  "kernelspec": {
   "display_name": "Python 3.10.5 64-bit",
   "language": "python",
   "name": "python3"
  },
  "language_info": {
   "codemirror_mode": {
    "name": "ipython",
    "version": 3
   },
   "file_extension": ".py",
   "mimetype": "text/x-python",
   "name": "python",
   "nbconvert_exporter": "python",
   "pygments_lexer": "ipython3",
   "version": "3.10.5"
  },
  "orig_nbformat": 4,
  "vscode": {
   "interpreter": {
    "hash": "26de051ba29f2982a8de78e945f0abaf191376122a1563185a90213a26c5da77"
   }
  }
 },
 "nbformat": 4,
 "nbformat_minor": 2
}
