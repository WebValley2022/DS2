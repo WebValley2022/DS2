{
 "cells": [
  {
   "cell_type": "code",
   "execution_count": 1,
   "metadata": {},
   "outputs": [],
   "source": [
    "import math\n",
    "import numpy as np\n",
    "import pandas as pd"
   ]
  },
  {
   "cell_type": "code",
   "execution_count": 2,
   "metadata": {},
   "outputs": [],
   "source": [
    "# Retrieve Neel's \"clean\" files\n",
    "appa1 = pd.read_csv('neel_exports/appa_hr_crop_withCreated.csv')\n",
    "appa2 = pd.read_csv('neel_exports/appa_hr_2_crop_withCreated.csv')\n",
    "appa1_gt = pd.read_csv('neel_exports/appa1_gt_clean_withCO.csv')\n",
    "appa2_gt = pd.read_csv('data/appa2_gt.csv')\n",
    "\n",
    "# Remove confusing indices in appa1_gt\n",
    "appa1_gt.drop(columns='Unnamed: 0', inplace=True)"
   ]
  },
  {
   "cell_type": "code",
   "execution_count": 3,
   "metadata": {},
   "outputs": [],
   "source": [
    "# Convert time columns from Timestamp format to DateTime format\n",
    "appa1.Time = pd.to_datetime(appa1.Time).dt.tz_localize(None)\n",
    "appa2.Time = pd.to_datetime(appa2.Time).dt.tz_localize(None)\n",
    "\n",
    "appa1_gt.Time = pd.to_datetime(appa1.Time)\n",
    "appa2_gt.Time = pd.to_datetime(appa2.Time)"
   ]
  },
  {
   "cell_type": "code",
   "execution_count": 4,
   "metadata": {},
   "outputs": [],
   "source": [
    "def add_times(df):\n",
    "    # Add periodical time features to the dataset\n",
    "    \n",
    "    # HOUR OF THE DAY\n",
    "    df[\"sin_hour\"] = df[\"Time\"].dt.hour.apply(\n",
    "        lambda x: math.sin(x) * 2 * (math.pi / 24)\n",
    "    )\n",
    "    df[\"cos_hour\"] = df[\"Time\"].dt.hour.apply(\n",
    "        lambda x: math.cos(x) * 2 * (math.pi / 24)\n",
    "    )\n",
    "\n",
    "    # DAY OF THE WEEK\n",
    "    df[\"sin_weekday\"] = df[\"Time\"].dt.weekday.apply(\n",
    "        lambda x: math.sin(x) * 2 * (math.pi / 7)\n",
    "    )\n",
    "    df[\"cos_weekday\"] = df[\"Time\"].dt.weekday.apply(\n",
    "        lambda x: math.cos(x) * 2 * (math.pi / 7)\n",
    "    )\n",
    "\n",
    "    # MONTH OF THE YEAR\n",
    "    df[\"sin_month\"] = df[\"Time\"].dt.month.apply(\n",
    "        lambda x: math.sin(x) * 2 * (math.pi / 12)\n",
    "    )\n",
    "\n",
    "    df[\"cos_month\"] = df[\"Time\"].dt.month.apply(\n",
    "        lambda x: math.cos(x) * 2 * (math.pi / 12)\n",
    "    )\n",
    "\n",
    "    # DAY OF THE YEAR (ORDINAL DATE)\n",
    "    df[\"sin_ordate\"] = df[\"Time\"].apply(\n",
    "        lambda x: math.sin(x.toordinal()) * 2 * (math.pi / 366)\n",
    "    )\n",
    "    df[\"cos_ordate\"] = df[\"Time\"].apply(\n",
    "        lambda x: math.cos(x.toordinal()) * 2 * (math.pi / 366)\n",
    "    )\n",
    "\n",
    "    # Add the year feature\n",
    "    df[\"year\"] = df[\"Time\"].dt.year\n",
    "\n",
    "add_times(appa1)\n",
    "add_times(appa2)"
   ]
  },
  {
   "cell_type": "code",
   "execution_count": 5,
   "metadata": {},
   "outputs": [],
   "source": [
    "# Match column names to the convention\n",
    "def rename_columns(df):\n",
    "    df.columns = df.columns.str.replace('TimeSinceCreated', 'Age')\n",
    "\n",
    "    df.columns = df.columns.str.replace('heatR_1', '1_heatR')\n",
    "    df.columns = df.columns.str.replace('heatV_1', '1_heatV')\n",
    "    df.columns = df.columns.str.replace('heatR_2', '2_heatR')\n",
    "    df.columns = df.columns.str.replace('heatV_2', '2_heatV')\n",
    "\n",
    "rename_columns(appa1)\n",
    "rename_columns(appa2)"
   ]
  },
  {
   "cell_type": "code",
   "execution_count": 6,
   "metadata": {},
   "outputs": [],
   "source": [
    "# Add appa2_gt data to appa2\n",
    "appa2 = appa2.merge(appa2_gt, on='Time', how='left')"
   ]
  },
  {
   "cell_type": "code",
   "execution_count": 7,
   "metadata": {},
   "outputs": [],
   "source": [
    "# Retrieve additional weather data\n",
    "weather = pd.read_csv('data/weather_data.csv')\n",
    "\n",
    "# Match time column to convention and convert to TimeDate format\n",
    "weather.rename(columns={'date': 'Time'}, inplace=True)\n",
    "weather['Time'] = pd.to_datetime(weather['Time'])"
   ]
  },
  {
   "cell_type": "code",
   "execution_count": 8,
   "metadata": {},
   "outputs": [
    {
     "name": "stderr",
     "output_type": "stream",
     "text": [
      "C:\\Users\\nzams\\AppData\\Local\\Temp\\ipykernel_7576\\3682772222.py:6: SettingWithCopyWarning: \n",
      "A value is trying to be set on a copy of a slice from a DataFrame\n",
      "\n",
      "See the caveats in the documentation: https://pandas.pydata.org/pandas-docs/stable/user_guide/indexing.html#returning-a-view-versus-a-copy\n",
      "  appa1_weather.rename(columns={\n",
      "C:\\Users\\nzams\\AppData\\Local\\Temp\\ipykernel_7576\\3682772222.py:13: SettingWithCopyWarning: \n",
      "A value is trying to be set on a copy of a slice from a DataFrame\n",
      "\n",
      "See the caveats in the documentation: https://pandas.pydata.org/pandas-docs/stable/user_guide/indexing.html#returning-a-view-versus-a-copy\n",
      "  appa2_weather.rename(columns={\n"
     ]
    }
   ],
   "source": [
    "# Split weather to two dataframes\n",
    "appa1_weather = weather[['Time', 'laste uv', 'laste rain', 'laste w_sp', 'laste w_dir']]\n",
    "appa2_weather = weather[['Time', 'ronc uv', 'ronc rain', 'ronc w_sp', 'ronc w_dir']]\n",
    "\n",
    "# Match column names to convention\n",
    "appa1_weather.rename(columns={\n",
    "    'laste uv': 'UV',\n",
    "    'laste rain': 'Rain',\n",
    "    'laste w_sp': 'Wind_Speed',\n",
    "    'laste w_dir': 'Wind_Direction'\n",
    "    }, inplace=True)\n",
    "\n",
    "appa2_weather.rename(columns={\n",
    "    'ronc uv': 'UV',\n",
    "    'ronc rain': 'Rain',\n",
    "    'ronc w_sp': 'Wind_Speed',\n",
    "    'ronc w_dir': 'Wind_Direction'\n",
    "    }, inplace=True)"
   ]
  },
  {
   "cell_type": "code",
   "execution_count": 9,
   "metadata": {},
   "outputs": [
    {
     "name": "stderr",
     "output_type": "stream",
     "text": [
      "C:\\Users\\nzams\\AppData\\Local\\Temp\\ipykernel_7576\\292798077.py:3: SettingWithCopyWarning: \n",
      "A value is trying to be set on a copy of a slice from a DataFrame.\n",
      "Try using .loc[row_indexer,col_indexer] = value instead\n",
      "\n",
      "See the caveats in the documentation: https://pandas.pydata.org/pandas-docs/stable/user_guide/indexing.html#returning-a-view-versus-a-copy\n",
      "  df[\"sin_wind\"] = df[\"Wind_Direction\"].apply(\n",
      "C:\\Users\\nzams\\AppData\\Local\\Temp\\ipykernel_7576\\292798077.py:6: SettingWithCopyWarning: \n",
      "A value is trying to be set on a copy of a slice from a DataFrame.\n",
      "Try using .loc[row_indexer,col_indexer] = value instead\n",
      "\n",
      "See the caveats in the documentation: https://pandas.pydata.org/pandas-docs/stable/user_guide/indexing.html#returning-a-view-versus-a-copy\n",
      "  df[\"cos_wind\"] = df[\"Wind_Direction\"].apply(\n",
      "C:\\Users\\nzams\\AppData\\Local\\Temp\\ipykernel_7576\\292798077.py:3: SettingWithCopyWarning: \n",
      "A value is trying to be set on a copy of a slice from a DataFrame.\n",
      "Try using .loc[row_indexer,col_indexer] = value instead\n",
      "\n",
      "See the caveats in the documentation: https://pandas.pydata.org/pandas-docs/stable/user_guide/indexing.html#returning-a-view-versus-a-copy\n",
      "  df[\"sin_wind\"] = df[\"Wind_Direction\"].apply(\n",
      "C:\\Users\\nzams\\AppData\\Local\\Temp\\ipykernel_7576\\292798077.py:6: SettingWithCopyWarning: \n",
      "A value is trying to be set on a copy of a slice from a DataFrame.\n",
      "Try using .loc[row_indexer,col_indexer] = value instead\n",
      "\n",
      "See the caveats in the documentation: https://pandas.pydata.org/pandas-docs/stable/user_guide/indexing.html#returning-a-view-versus-a-copy\n",
      "  df[\"cos_wind\"] = df[\"Wind_Direction\"].apply(\n"
     ]
    }
   ],
   "source": [
    "# Convert wind direction from degrees to radians\n",
    "def convert_windir(df):\n",
    "    df[\"sin_wind\"] = df[\"Wind_Direction\"].apply(\n",
    "            lambda x: math.sin(x) * 2 * (math.pi / 360)\n",
    "        )\n",
    "    df[\"cos_wind\"] = df[\"Wind_Direction\"].apply(\n",
    "            lambda x: math.cos(x) * 2 * (math.pi / 360)\n",
    "        )\n",
    "    df.drop(columns='Wind_Direction', inplace=True)\n",
    "\n",
    "convert_windir(appa1_weather)\n",
    "convert_windir(appa2_weather)"
   ]
  },
  {
   "cell_type": "code",
   "execution_count": 10,
   "metadata": {},
   "outputs": [],
   "source": [
    "# Add the weather data to the datasets\n",
    "appa1 = appa1.merge(appa1_weather, on='Time', how='left')\n",
    "appa2 = appa2.merge(appa2_weather, on='Time', how='left')"
   ]
  },
  {
   "cell_type": "code",
   "execution_count": 11,
   "metadata": {},
   "outputs": [],
   "source": [
    "# Move ground truth labels to the end\n",
    "def move_labels (df, labels):\n",
    "    for label in labels:\n",
    "        pos = len(df.columns) - 1\n",
    "        col = df.pop(label)\n",
    "        df.insert(pos, label, col)\n",
    "\n",
    "appa1_labels, appa2_labels = ['PM10', 'NO2', 'SO2', 'O3', 'CO'], ['PM10', 'CO', 'NO2']\n",
    "move_labels(appa1, appa1_labels)\n",
    "move_labels(appa2, appa2_labels)"
   ]
  },
  {
   "cell_type": "code",
   "execution_count": 12,
   "metadata": {},
   "outputs": [],
   "source": [
    "# Export final CSVs\n",
    "appa1.to_csv('noam_exports/appa1.csv')\n",
    "appa2.to_csv('noam_exports/appa2.csv')"
   ]
  }
 ],
 "metadata": {
  "kernelspec": {
   "display_name": "Python 3.10.5 64-bit",
   "language": "python",
   "name": "python3"
  },
  "language_info": {
   "codemirror_mode": {
    "name": "ipython",
    "version": 3
   },
   "file_extension": ".py",
   "mimetype": "text/x-python",
   "name": "python",
   "nbconvert_exporter": "python",
   "pygments_lexer": "ipython3",
   "version": "3.10.5"
  },
  "orig_nbformat": 4,
  "vscode": {
   "interpreter": {
    "hash": "26de051ba29f2982a8de78e945f0abaf191376122a1563185a90213a26c5da77"
   }
  }
 },
 "nbformat": 4,
 "nbformat_minor": 2
}
