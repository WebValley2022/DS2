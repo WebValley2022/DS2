{
 "cells": [
  {
   "cell_type": "code",
   "execution_count": 2,
   "metadata": {
    "pycharm": {
     "name": "#%%\n"
    }
   },
   "outputs": [],
   "source": [
    "import torch\n",
    "import numpy as np\n",
    "import pandas as pd\n",
    "import torch.nn as nn\n",
    "import torch.nn.functional as f\n",
    "from torch.optim import adam"
   ]
  },
  {
   "cell_type": "code",
   "execution_count": 13,
   "metadata": {
    "pycharm": {
     "name": "#%%\n"
    }
   },
   "outputs": [],
   "source": [
    "class multimodal_cnn(nn.Module):\n",
    "    def __init__(\n",
    "        self,\n",
    "        samples,\n",
    "        lookback,\n",
    "        kernel_size,\n",
    "        hidden_size\n",
    "        ):\n",
    "        \n",
    "        super.__init__()\n",
    "        self.samples = samples\n",
    "        self.lookback = lookback\n",
    "        self.kernel_size = kernel_size  # expected odd kernel_size\n",
    "        self.hidden_size = hidden_size\n",
    "        \n",
    "        self.cnn1 = nn.Conv3d(1, 1, self.kernel_size, padding=int((self.kernel_size - 1) / 2))\n",
    "        self.cnn2 = nn.Conv2d(1, 1, self.kernel_size, padding=int((self.kernel_size - 1) / 2))\n",
    "        self.fusion = nn.Linear(lookback * samples * 6, hidden_size)  # linear or bilinear? not sure yet.\n",
    "        self.fc = nn.Linear(hidden_size , 3)\n",
    "    \n",
    "    def forward(self, physical, time):\n",
    "        x = f.relu(self.cnn1(physical))\n",
    "        x = f.max_pool2d(x, kernel_size=self.kernel_size, stride=1, padding=int((self.kernel_size - 1) / 2))\n",
    "        x = torch.flatten(x, 1)\n",
    "        \n",
    "        y = f.relu(self.cnn2(time))\n",
    "        y = f.max_pool2d(y, kernel_size=self.kernel_size, stride=1, padding=int((self.kernel_size - 1) / 2))\n",
    "        y = torch.flatten(y, 1)\n",
    "\n",
    "        combined = torch.cat([x, y], dim=1)\n",
    "        fused = self.dropout(f.relu(self.fusion(combined)))\n",
    "        fc = self.fc(fused)\n",
    "        pred = f.softmax(fc)\n",
    "        \n",
    "        return pred"
   ]
  },
  {
   "cell_type": "code",
   "execution_count": 11,
   "metadata": {
    "pycharm": {
     "name": "#%%\n"
    }
   },
   "outputs": [],
   "source": [
    "def fit_model():\n",
    "    x = pd.read_csv('appa1_adjusted.csv')\n",
    "    x = x[x['sensing_material'] == 'ZnOR-1'].reset_index()\n",
    "    gt = pd.read_csv('appa1_gt.csv')\n",
    "    common = pd.merge(x, gt, on='ts')\n",
    "    x = x[x.ts.isin(common.ts)]\n",
    "    y = y[y.ts.isin(common.ts)]\n",
    "    physical = x[['signal_res', 'heater_res', 'heater_volt', 'T', 'RH', 'P']]\n",
    "    time = x[['age', 'sin_hour', 'cos_hour', 'sin_ordate', 'cos_ordate', 'sin_weekday', 'cos_weekday', 'year']]\n",
    "\n",
    "    model = multimodal_cnn()\n",
    "    optimizer = adam(lr=3e-4)\n",
    "    criterion = nn.MSELoss()\n",
    "    for epoch in range(1, 11):\n",
    "        model.train()\n",
    "        optimizer.zero_grad()\n",
    "        pred = model(physical, time)\n",
    "        loss = criterion(pred, gt)\n",
    "        print(epoch, loss.item())\n",
    "        loss.backward()\n",
    "        optimizer.step()\n",
    "        with torch.no_grad():\n",
    "            model.eval()\n",
    "            pred, loss = model()"
   ]
  },
  {
   "cell_type": "code",
   "execution_count": 12,
   "metadata": {
    "pycharm": {
     "name": "#%%\n"
    }
   },
   "outputs": [
    {
     "ename": "TypeError",
     "evalue": "__init__() missing 5 required positional arguments: 'input_size', 'samples', 'lookback', 'kernel_size', and 'hidden_size'",
     "output_type": "error",
     "traceback": [
      "\u001B[0;31m---------------------------------------------------------------------------\u001B[0m",
      "\u001B[0;31mTypeError\u001B[0m                                 Traceback (most recent call last)",
      "\u001B[1;32m/home/wvuser/DS2/dl_training.ipynb Cell 4\u001B[0m in \u001B[0;36m<cell line: 1>\u001B[0;34m()\u001B[0m\n\u001B[0;32m----> <a href='vscode-notebook-cell://ssh-remote%2Blab-05e14aa7-8738-4831-aeb4-ba711d97c567.eastus.cloudapp.azure.com/home/wvuser/DS2/dl_training.ipynb#ch0000003vscode-remote?line=0'>1</a>\u001B[0m fit_model()\n",
      "\u001B[1;32m/home/wvuser/DS2/dl_training.ipynb Cell 4\u001B[0m in \u001B[0;36mfit_model\u001B[0;34m()\u001B[0m\n\u001B[1;32m      <a href='vscode-notebook-cell://ssh-remote%2Blab-05e14aa7-8738-4831-aeb4-ba711d97c567.eastus.cloudapp.azure.com/home/wvuser/DS2/dl_training.ipynb#ch0000003vscode-remote?line=4'>5</a>\u001B[0m time \u001B[39m=\u001B[39m x[[\u001B[39m'\u001B[39m\u001B[39mage\u001B[39m\u001B[39m'\u001B[39m, \u001B[39m'\u001B[39m\u001B[39msin_hour\u001B[39m\u001B[39m'\u001B[39m, \u001B[39m'\u001B[39m\u001B[39mcos_hour\u001B[39m\u001B[39m'\u001B[39m, \u001B[39m'\u001B[39m\u001B[39msin_ordate\u001B[39m\u001B[39m'\u001B[39m, \u001B[39m'\u001B[39m\u001B[39mcos_ordate\u001B[39m\u001B[39m'\u001B[39m, \u001B[39m'\u001B[39m\u001B[39msin_weekday\u001B[39m\u001B[39m'\u001B[39m, \u001B[39m'\u001B[39m\u001B[39mcos_weekday\u001B[39m\u001B[39m'\u001B[39m, \u001B[39m'\u001B[39m\u001B[39myear\u001B[39m\u001B[39m'\u001B[39m]]\n\u001B[1;32m      <a href='vscode-notebook-cell://ssh-remote%2Blab-05e14aa7-8738-4831-aeb4-ba711d97c567.eastus.cloudapp.azure.com/home/wvuser/DS2/dl_training.ipynb#ch0000003vscode-remote?line=5'>6</a>\u001B[0m gt \u001B[39m=\u001B[39m pd\u001B[39m.\u001B[39mread_csv(\u001B[39m'\u001B[39m\u001B[39mappa1_gt.csv\u001B[39m\u001B[39m'\u001B[39m)\n\u001B[0;32m----> <a href='vscode-notebook-cell://ssh-remote%2Blab-05e14aa7-8738-4831-aeb4-ba711d97c567.eastus.cloudapp.azure.com/home/wvuser/DS2/dl_training.ipynb#ch0000003vscode-remote?line=7'>8</a>\u001B[0m model \u001B[39m=\u001B[39m multimodal_cnn()\n\u001B[1;32m      <a href='vscode-notebook-cell://ssh-remote%2Blab-05e14aa7-8738-4831-aeb4-ba711d97c567.eastus.cloudapp.azure.com/home/wvuser/DS2/dl_training.ipynb#ch0000003vscode-remote?line=8'>9</a>\u001B[0m optimizer \u001B[39m=\u001B[39m adam(lr\u001B[39m=\u001B[39m\u001B[39m3e-4\u001B[39m)\n\u001B[1;32m     <a href='vscode-notebook-cell://ssh-remote%2Blab-05e14aa7-8738-4831-aeb4-ba711d97c567.eastus.cloudapp.azure.com/home/wvuser/DS2/dl_training.ipynb#ch0000003vscode-remote?line=9'>10</a>\u001B[0m criterion \u001B[39m=\u001B[39m nn\u001B[39m.\u001B[39mMSELoss()\n",
      "\u001B[0;31mTypeError\u001B[0m: __init__() missing 5 required positional arguments: 'input_size', 'samples', 'lookback', 'kernel_size', and 'hidden_size'"
     ]
    }
   ],
   "source": [
    "fit_model()"
   ]
  }
 ],
 "metadata": {
  "kernelspec": {
   "display_name": "Python 3.9.13 64-bit",
   "language": "python",
   "name": "python3"
  },
  "language_info": {
   "codemirror_mode": {
    "name": "ipython",
    "version": 3
   },
   "file_extension": ".py",
   "mimetype": "text/x-python",
   "name": "python",
   "nbconvert_exporter": "python",
   "pygments_lexer": "ipython3",
   "version": "3.9.13"
  },
  "orig_nbformat": 4,
  "vscode": {
   "interpreter": {
    "hash": "36cf16204b8548560b1c020c4e8fb5b57f0e4c58016f52f2d4be01e192833930"
   }
  }
 },
 "nbformat": 4,
 "nbformat_minor": 2
}