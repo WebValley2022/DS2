{
 "cells": [
  {
   "cell_type": "code",
   "execution_count": 175,
   "metadata": {
    "collapsed": true,
    "pycharm": {
     "name": "#%%\n"
    }
   },
   "outputs": [],
   "source": [
    "import pandas as pd\n",
    "from tqdm.notebook import tqdm\n",
    "import numpy as np"
   ]
  },
  {
   "cell_type": "code",
   "execution_count": 176,
   "outputs": [],
   "source": [
    "df = pd.read_csv('data/train_adj.csv')"
   ],
   "metadata": {
    "collapsed": false,
    "pycharm": {
     "name": "#%%\n"
    }
   }
  },
  {
   "cell_type": "code",
   "execution_count": 177,
   "outputs": [],
   "source": [
    "df.ts = pd.to_datetime(df.ts, format = \"%Y-%m-%d %H:%M:%S\")"
   ],
   "metadata": {
    "collapsed": false,
    "pycharm": {
     "name": "#%%\n"
    }
   }
  },
  {
   "cell_type": "code",
   "execution_count": 178,
   "outputs": [],
   "source": [
    "sensing_mat = df.sensing_material.unique()\n",
    "fixed_cols = ['T', 'RH', 'P', 'sin_hour', 'cos_hour', 'sin_ordate','cos_ordate', 'sin_weekday', 'cos_weekday']\n",
    "sens_unfo = ['{}_res', '{}_heat_r', '{}_heat_V','{}_age']\n",
    "input_cols = ['signal_res', 'heater_res', 'heater_volt', 'age']\n",
    "\n",
    "sens_cols = [item.format(sens) for sens in [it for se in sensing_mat for it in [se+'-1',se+'-2']] for item in sens_unfo] + ['ts']\n",
    "out_cols = sens_cols + fixed_cols\n",
    "out_ds = pd.DataFrame(columns=out_cols)"
   ],
   "metadata": {
    "collapsed": false,
    "pycharm": {
     "name": "#%%\n"
    }
   }
  },
  {
   "cell_type": "code",
   "execution_count": 179,
   "outputs": [],
   "source": [
    "df_red = df.drop_duplicates(subset=['ts'])\n",
    "df_red.index = np.arange(1, len(df_red)+1)\n",
    "for col in fixed_cols:\n",
    "    out_ds[col] = df_red[col]\n",
    "out_ds.ts = df_red.ts"
   ],
   "metadata": {
    "collapsed": false,
    "pycharm": {
     "name": "#%%\n"
    }
   }
  },
  {
   "cell_type": "code",
   "execution_count": 181,
   "outputs": [
    {
     "data": {
      "text/plain": "  0%|          | 0/12199 [00:00<?, ?it/s]",
      "application/vnd.jupyter.widget-view+json": {
       "version_major": 2,
       "version_minor": 0,
       "model_id": "28cfe30d83a546468e97ffb187a0794b"
      }
     },
     "metadata": {},
     "output_type": "display_data"
    }
   ],
   "source": [
    "for out_i, (hour, group_hour) in tqdm(enumerate(df.groupby('ts')), total=len(out_ds)):\n",
    "    for sens_mat, sens_df in group_hour.groupby('sensing_material'):\n",
    "        for i, sens_line in enumerate(sens_df.iterrows()):\n",
    "            for col, inpu in zip(sens_unfo, input_cols):\n",
    "                out_ds.at[out_i, col.format(sens_mat + '-' + str(i+1))] = sens_line[1][inpu]"
   ],
   "metadata": {
    "collapsed": false,
    "pycharm": {
     "name": "#%%\n"
    }
   }
  },
  {
   "cell_type": "code",
   "execution_count": 182,
   "outputs": [
    {
     "data": {
      "text/plain": "          ZnOR-1_res ZnOR-1_heat_r ZnOR-1_heat_V ZnOR-1_age       ZnOR-2_res  \\\n1      122969.326923         100.6      3.954423          0    159414.288462   \n2          166768.85    101.523333      3.996333          0    172682.866667   \n3      178354.816667    101.588333      3.995833          0    169701.516667   \n4      614298.333333    101.188333      3.957167          0    165691.266667   \n5      196725.583333    102.171667        4.0395          0        154136.25   \n...              ...           ...           ...        ...              ...   \n12196    499000000.0       126.755      3.890667        540      499000000.0   \n12197    499000000.0    126.811667      3.891167        540      499000000.0   \n12198    499000000.0    126.821667      3.891167        540      499000000.0   \n12199            NaN           NaN           NaN        NaN              NaN   \n0         75138126.0         67.05      1.431667          0  74951229.166667   \n\n      ZnOR-2_heat_r ZnOR-2_heat_V ZnOR-2_age     LaFeO3-1_res LaFeO3-1_heat_r  \\\n1            98.575      3.935385          0  10308039.057692       87.063462   \n2            99.485         3.981          0    610747.866667       87.981667   \n3            99.515      3.981667          0        598889.35       88.031667   \n4         99.566667      3.981833          0         596706.5       88.088333   \n5            99.595      3.982333          0    596870.883333       88.161667   \n...             ...           ...        ...              ...             ...   \n12196       125.365         3.897        540         947867.6       99.516667   \n12197    125.358333      3.896667        540    941445.733333       99.513333   \n12198    125.353333        3.8965        540         900261.7          99.535   \n12199           NaN           NaN        NaN              NaN             NaN   \n0            66.125      1.475833          0  74723851.666667       70.991667   \n\n       ...                  ts          T         RH           P  sin_hour  \\\n1      ... 2021-01-13 08:00:00  26.691667  22.616667  991.958333  0.259013   \n2      ... 2021-01-13 09:00:00  40.938462  11.401923  991.523077  0.107892   \n3      ... 2021-01-13 10:00:00  46.071667   5.108333  990.721667 -0.142424   \n4      ... 2021-01-13 11:00:00  46.831667   4.700000  990.098333 -0.261797   \n5      ... 2021-01-13 12:00:00  47.765000   4.463333  989.515000 -0.140474   \n...    ...                 ...        ...        ...         ...       ...   \n12196  ... 2022-07-07 20:00:00  36.333898  29.774576  991.242373  0.239009   \n12197  ... 2022-07-07 21:00:00  36.095000  30.428333  992.555000  0.219036   \n12198  ... 2022-07-07 22:00:00  36.016667  29.701667  993.073333 -0.002317   \n12199  ... 2022-07-07 23:00:00  35.941667  29.576667  993.590000 -0.221540   \n0      ...                 NaT        NaN        NaN         NaN       NaN   \n\n       cos_hour sin_ordate cos_ordate sin_weekday cos_weekday  \n1     -0.038092  -0.000596   0.017157    0.816183   -0.373533  \n2     -0.238533  -0.000596   0.017157    0.816183   -0.373533  \n3     -0.219668  -0.000596   0.017157    0.816183   -0.373533  \n4      0.001159  -0.000596   0.017157    0.816183   -0.373533  \n5      0.220920  -0.000596   0.017157    0.816183   -0.373533  \n...         ...        ...        ...         ...         ...  \n12196  0.106836  -0.006505   0.015887    0.126669   -0.888615  \n12197 -0.143395  -0.006505   0.015887    0.126669   -0.888615  \n12198 -0.261789  -0.006505   0.015887    0.126669   -0.888615  \n12199 -0.139495  -0.006505   0.015887    0.126669   -0.888615  \n0           NaN        NaN        NaN         NaN         NaN  \n\n[12200 rows x 66 columns]",
      "text/html": "<div>\n<style scoped>\n    .dataframe tbody tr th:only-of-type {\n        vertical-align: middle;\n    }\n\n    .dataframe tbody tr th {\n        vertical-align: top;\n    }\n\n    .dataframe thead th {\n        text-align: right;\n    }\n</style>\n<table border=\"1\" class=\"dataframe\">\n  <thead>\n    <tr style=\"text-align: right;\">\n      <th></th>\n      <th>ZnOR-1_res</th>\n      <th>ZnOR-1_heat_r</th>\n      <th>ZnOR-1_heat_V</th>\n      <th>ZnOR-1_age</th>\n      <th>ZnOR-2_res</th>\n      <th>ZnOR-2_heat_r</th>\n      <th>ZnOR-2_heat_V</th>\n      <th>ZnOR-2_age</th>\n      <th>LaFeO3-1_res</th>\n      <th>LaFeO3-1_heat_r</th>\n      <th>...</th>\n      <th>ts</th>\n      <th>T</th>\n      <th>RH</th>\n      <th>P</th>\n      <th>sin_hour</th>\n      <th>cos_hour</th>\n      <th>sin_ordate</th>\n      <th>cos_ordate</th>\n      <th>sin_weekday</th>\n      <th>cos_weekday</th>\n    </tr>\n  </thead>\n  <tbody>\n    <tr>\n      <th>1</th>\n      <td>122969.326923</td>\n      <td>100.6</td>\n      <td>3.954423</td>\n      <td>0</td>\n      <td>159414.288462</td>\n      <td>98.575</td>\n      <td>3.935385</td>\n      <td>0</td>\n      <td>10308039.057692</td>\n      <td>87.063462</td>\n      <td>...</td>\n      <td>2021-01-13 08:00:00</td>\n      <td>26.691667</td>\n      <td>22.616667</td>\n      <td>991.958333</td>\n      <td>0.259013</td>\n      <td>-0.038092</td>\n      <td>-0.000596</td>\n      <td>0.017157</td>\n      <td>0.816183</td>\n      <td>-0.373533</td>\n    </tr>\n    <tr>\n      <th>2</th>\n      <td>166768.85</td>\n      <td>101.523333</td>\n      <td>3.996333</td>\n      <td>0</td>\n      <td>172682.866667</td>\n      <td>99.485</td>\n      <td>3.981</td>\n      <td>0</td>\n      <td>610747.866667</td>\n      <td>87.981667</td>\n      <td>...</td>\n      <td>2021-01-13 09:00:00</td>\n      <td>40.938462</td>\n      <td>11.401923</td>\n      <td>991.523077</td>\n      <td>0.107892</td>\n      <td>-0.238533</td>\n      <td>-0.000596</td>\n      <td>0.017157</td>\n      <td>0.816183</td>\n      <td>-0.373533</td>\n    </tr>\n    <tr>\n      <th>3</th>\n      <td>178354.816667</td>\n      <td>101.588333</td>\n      <td>3.995833</td>\n      <td>0</td>\n      <td>169701.516667</td>\n      <td>99.515</td>\n      <td>3.981667</td>\n      <td>0</td>\n      <td>598889.35</td>\n      <td>88.031667</td>\n      <td>...</td>\n      <td>2021-01-13 10:00:00</td>\n      <td>46.071667</td>\n      <td>5.108333</td>\n      <td>990.721667</td>\n      <td>-0.142424</td>\n      <td>-0.219668</td>\n      <td>-0.000596</td>\n      <td>0.017157</td>\n      <td>0.816183</td>\n      <td>-0.373533</td>\n    </tr>\n    <tr>\n      <th>4</th>\n      <td>614298.333333</td>\n      <td>101.188333</td>\n      <td>3.957167</td>\n      <td>0</td>\n      <td>165691.266667</td>\n      <td>99.566667</td>\n      <td>3.981833</td>\n      <td>0</td>\n      <td>596706.5</td>\n      <td>88.088333</td>\n      <td>...</td>\n      <td>2021-01-13 11:00:00</td>\n      <td>46.831667</td>\n      <td>4.700000</td>\n      <td>990.098333</td>\n      <td>-0.261797</td>\n      <td>0.001159</td>\n      <td>-0.000596</td>\n      <td>0.017157</td>\n      <td>0.816183</td>\n      <td>-0.373533</td>\n    </tr>\n    <tr>\n      <th>5</th>\n      <td>196725.583333</td>\n      <td>102.171667</td>\n      <td>4.0395</td>\n      <td>0</td>\n      <td>154136.25</td>\n      <td>99.595</td>\n      <td>3.982333</td>\n      <td>0</td>\n      <td>596870.883333</td>\n      <td>88.161667</td>\n      <td>...</td>\n      <td>2021-01-13 12:00:00</td>\n      <td>47.765000</td>\n      <td>4.463333</td>\n      <td>989.515000</td>\n      <td>-0.140474</td>\n      <td>0.220920</td>\n      <td>-0.000596</td>\n      <td>0.017157</td>\n      <td>0.816183</td>\n      <td>-0.373533</td>\n    </tr>\n    <tr>\n      <th>...</th>\n      <td>...</td>\n      <td>...</td>\n      <td>...</td>\n      <td>...</td>\n      <td>...</td>\n      <td>...</td>\n      <td>...</td>\n      <td>...</td>\n      <td>...</td>\n      <td>...</td>\n      <td>...</td>\n      <td>...</td>\n      <td>...</td>\n      <td>...</td>\n      <td>...</td>\n      <td>...</td>\n      <td>...</td>\n      <td>...</td>\n      <td>...</td>\n      <td>...</td>\n      <td>...</td>\n    </tr>\n    <tr>\n      <th>12196</th>\n      <td>499000000.0</td>\n      <td>126.755</td>\n      <td>3.890667</td>\n      <td>540</td>\n      <td>499000000.0</td>\n      <td>125.365</td>\n      <td>3.897</td>\n      <td>540</td>\n      <td>947867.6</td>\n      <td>99.516667</td>\n      <td>...</td>\n      <td>2022-07-07 20:00:00</td>\n      <td>36.333898</td>\n      <td>29.774576</td>\n      <td>991.242373</td>\n      <td>0.239009</td>\n      <td>0.106836</td>\n      <td>-0.006505</td>\n      <td>0.015887</td>\n      <td>0.126669</td>\n      <td>-0.888615</td>\n    </tr>\n    <tr>\n      <th>12197</th>\n      <td>499000000.0</td>\n      <td>126.811667</td>\n      <td>3.891167</td>\n      <td>540</td>\n      <td>499000000.0</td>\n      <td>125.358333</td>\n      <td>3.896667</td>\n      <td>540</td>\n      <td>941445.733333</td>\n      <td>99.513333</td>\n      <td>...</td>\n      <td>2022-07-07 21:00:00</td>\n      <td>36.095000</td>\n      <td>30.428333</td>\n      <td>992.555000</td>\n      <td>0.219036</td>\n      <td>-0.143395</td>\n      <td>-0.006505</td>\n      <td>0.015887</td>\n      <td>0.126669</td>\n      <td>-0.888615</td>\n    </tr>\n    <tr>\n      <th>12198</th>\n      <td>499000000.0</td>\n      <td>126.821667</td>\n      <td>3.891167</td>\n      <td>540</td>\n      <td>499000000.0</td>\n      <td>125.353333</td>\n      <td>3.8965</td>\n      <td>540</td>\n      <td>900261.7</td>\n      <td>99.535</td>\n      <td>...</td>\n      <td>2022-07-07 22:00:00</td>\n      <td>36.016667</td>\n      <td>29.701667</td>\n      <td>993.073333</td>\n      <td>-0.002317</td>\n      <td>-0.261789</td>\n      <td>-0.006505</td>\n      <td>0.015887</td>\n      <td>0.126669</td>\n      <td>-0.888615</td>\n    </tr>\n    <tr>\n      <th>12199</th>\n      <td>NaN</td>\n      <td>NaN</td>\n      <td>NaN</td>\n      <td>NaN</td>\n      <td>NaN</td>\n      <td>NaN</td>\n      <td>NaN</td>\n      <td>NaN</td>\n      <td>NaN</td>\n      <td>NaN</td>\n      <td>...</td>\n      <td>2022-07-07 23:00:00</td>\n      <td>35.941667</td>\n      <td>29.576667</td>\n      <td>993.590000</td>\n      <td>-0.221540</td>\n      <td>-0.139495</td>\n      <td>-0.006505</td>\n      <td>0.015887</td>\n      <td>0.126669</td>\n      <td>-0.888615</td>\n    </tr>\n    <tr>\n      <th>0</th>\n      <td>75138126.0</td>\n      <td>67.05</td>\n      <td>1.431667</td>\n      <td>0</td>\n      <td>74951229.166667</td>\n      <td>66.125</td>\n      <td>1.475833</td>\n      <td>0</td>\n      <td>74723851.666667</td>\n      <td>70.991667</td>\n      <td>...</td>\n      <td>NaT</td>\n      <td>NaN</td>\n      <td>NaN</td>\n      <td>NaN</td>\n      <td>NaN</td>\n      <td>NaN</td>\n      <td>NaN</td>\n      <td>NaN</td>\n      <td>NaN</td>\n      <td>NaN</td>\n    </tr>\n  </tbody>\n</table>\n<p>12200 rows × 66 columns</p>\n</div>"
     },
     "execution_count": 182,
     "metadata": {},
     "output_type": "execute_result"
    }
   ],
   "source": [
    "out_ds"
   ],
   "metadata": {
    "collapsed": false,
    "pycharm": {
     "name": "#%%\n"
    }
   }
  },
  {
   "cell_type": "code",
   "execution_count": 184,
   "outputs": [],
   "source": [
    "out_ds.to_csv('data/parallel_appa1.csv')"
   ],
   "metadata": {
    "collapsed": false,
    "pycharm": {
     "name": "#%%\n"
    }
   }
  },
  {
   "cell_type": "code",
   "execution_count": 185,
   "outputs": [
    {
     "data": {
      "text/plain": "array(['ZnOR', 'LaFeO3', 'WO3', 'ZnO', 'ZnOg', 'STN', 'SmFeO3'],\n      dtype=object)"
     },
     "execution_count": 185,
     "metadata": {},
     "output_type": "execute_result"
    }
   ],
   "source": [
    "sensing_mat"
   ],
   "metadata": {
    "collapsed": false,
    "pycharm": {
     "name": "#%%\n"
    }
   }
  },
  {
   "cell_type": "code",
   "execution_count": null,
   "outputs": [],
   "source": [],
   "metadata": {
    "collapsed": false,
    "pycharm": {
     "name": "#%%\n"
    }
   }
  }
 ],
 "metadata": {
  "kernelspec": {
   "display_name": "Python 3",
   "language": "python",
   "name": "python3"
  },
  "language_info": {
   "codemirror_mode": {
    "name": "ipython",
    "version": 2
   },
   "file_extension": ".py",
   "mimetype": "text/x-python",
   "name": "python",
   "nbconvert_exporter": "python",
   "pygments_lexer": "ipython2",
   "version": "2.7.6"
  }
 },
 "nbformat": 4,
 "nbformat_minor": 0
}